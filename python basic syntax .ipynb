{
 "cells": [
  {
   "cell_type": "code",
   "execution_count": 1,
   "metadata": {},
   "outputs": [
    {
     "name": "stdout",
     "output_type": "stream",
     "text": [
      "enter the salary : 2\n"
     ]
    }
   ],
   "source": [
    "var = input(\"enter the salary : \")"
   ]
  },
  {
   "cell_type": "code",
   "execution_count": 2,
   "metadata": {},
   "outputs": [],
   "source": [
    "var1 = int(var )"
   ]
  },
  {
   "cell_type": "code",
   "execution_count": 3,
   "metadata": {},
   "outputs": [
    {
     "name": "stdout",
     "output_type": "stream",
     "text": [
      "|enter your name ahti\n"
     ]
    }
   ],
   "source": [
    "name = input(\"|enter your name \")"
   ]
  },
  {
   "cell_type": "code",
   "execution_count": 4,
   "metadata": {},
   "outputs": [
    {
     "data": {
      "text/plain": [
       "'ahti'"
      ]
     },
     "execution_count": 4,
     "metadata": {},
     "output_type": "execute_result"
    }
   ],
   "source": [
    "name.lower()"
   ]
  },
  {
   "cell_type": "code",
   "execution_count": 5,
   "metadata": {},
   "outputs": [
    {
     "data": {
      "text/plain": [
       "'AHTI'"
      ]
     },
     "execution_count": 5,
     "metadata": {},
     "output_type": "execute_result"
    }
   ],
   "source": [
    "name.upper()"
   ]
  },
  {
   "cell_type": "code",
   "execution_count": 6,
   "metadata": {},
   "outputs": [
    {
     "data": {
      "text/plain": [
       "'Ahti'"
      ]
     },
     "execution_count": 6,
     "metadata": {},
     "output_type": "execute_result"
    }
   ],
   "source": [
    "name.title()"
   ]
  },
  {
   "cell_type": "code",
   "execution_count": 7,
   "metadata": {},
   "outputs": [],
   "source": [
    "customer  = {1 : \"ahtisham\" , 2:\"abdulrehman \" , \"address\" : \"akhter colony\" ,}"
   ]
  },
  {
   "cell_type": "code",
   "execution_count": 8,
   "metadata": {},
   "outputs": [],
   "source": [
    "customer[\"phone no \"] = 3042683859"
   ]
  },
  {
   "cell_type": "code",
   "execution_count": 9,
   "metadata": {},
   "outputs": [
    {
     "data": {
      "text/plain": [
       "3042683859"
      ]
     },
     "execution_count": 9,
     "metadata": {},
     "output_type": "execute_result"
    }
   ],
   "source": [
    "customer[\"phone no \"]"
   ]
  },
  {
   "cell_type": "code",
   "execution_count": 10,
   "metadata": {},
   "outputs": [
    {
     "data": {
      "text/plain": [
       "'akhter colony'"
      ]
     },
     "execution_count": 10,
     "metadata": {},
     "output_type": "execute_result"
    }
   ],
   "source": [
    "customer[\"address\"]"
   ]
  },
  {
   "cell_type": "code",
   "execution_count": 11,
   "metadata": {},
   "outputs": [
    {
     "data": {
      "text/plain": [
       "{1: 'ahtisham',\n",
       " 2: 'abdulrehman ',\n",
       " 'address': 'akhter colony',\n",
       " 'phone no ': 3042683859}"
      ]
     },
     "execution_count": 11,
     "metadata": {},
     "output_type": "execute_result"
    }
   ],
   "source": [
    "customer"
   ]
  },
  {
   "cell_type": "code",
   "execution_count": 12,
   "metadata": {},
   "outputs": [],
   "source": [
    "customer[\"phone no \"] = 234"
   ]
  },
  {
   "cell_type": "code",
   "execution_count": 13,
   "metadata": {},
   "outputs": [
    {
     "data": {
      "text/plain": [
       "{1: 'ahtisham',\n",
       " 2: 'abdulrehman ',\n",
       " 'address': 'akhter colony',\n",
       " 'phone no ': 234}"
      ]
     },
     "execution_count": 13,
     "metadata": {},
     "output_type": "execute_result"
    }
   ],
   "source": [
    "customer"
   ]
  },
  {
   "cell_type": "code",
   "execution_count": 14,
   "metadata": {},
   "outputs": [
    {
     "name": "stdout",
     "output_type": "stream",
     "text": [
      "ahtisham\n",
      "abdulrehman \n",
      "akhter colony\n",
      "234\n"
     ]
    }
   ],
   "source": [
    "for a in customer.values():\n",
    "    print(a)"
   ]
  },
  {
   "cell_type": "code",
   "execution_count": 15,
   "metadata": {},
   "outputs": [
    {
     "name": "stdout",
     "output_type": "stream",
     "text": [
      "1\n",
      "2\n",
      "address\n",
      "phone no \n"
     ]
    }
   ],
   "source": [
    "for a in customer.keys():\n",
    "    print(a)"
   ]
  },
  {
   "cell_type": "code",
   "execution_count": 16,
   "metadata": {},
   "outputs": [
    {
     "name": "stdout",
     "output_type": "stream",
     "text": [
      "THE KEYS ARE 1 and the value are ahtisham\n",
      "THE KEYS ARE 2 and the value are abdulrehman \n",
      "THE KEYS ARE address and the value are akhter colony\n",
      "THE KEYS ARE phone no  and the value are 234\n"
     ]
    }
   ],
   "source": [
    "for eachkey , eachvalue in customer.items():\n",
    "    print(f\"THE KEYS ARE {eachkey} and the value are {eachvalue}\")"
   ]
  },
  {
   "cell_type": "code",
   "execution_count": 24,
   "metadata": {},
   "outputs": [],
   "source": [
    "list = [\n",
    "    {\n",
    "        \"customer\" : 0 ,\n",
    "        \"name\" : \"ahtisham\",\n",
    "        \"class\" : \"10\",\n",
    "        \"address\" : \"defence phase 1 \"\n",
    "    },\n",
    "    {\n",
    "        \"customerid\" : 1 ,\n",
    "        \"name\" : \"adbul\",\n",
    "        \"class\" : \"11\",\n",
    "        \"address\" : \"defence\"\n",
    "    },\n",
    "    {\n",
    "        \"customerid\" : 2 ,\n",
    "        \"name\" : \"bisma\",\n",
    "        \"class\" : \"12\",\n",
    "        \"address\" : \"nazimabad\"\n",
    "    },\n",
    "]"
   ]
  },
  {
   "cell_type": "code",
   "execution_count": 25,
   "metadata": {},
   "outputs": [],
   "source": [
    "dic1 = list[0]"
   ]
  },
  {
   "cell_type": "code",
   "execution_count": 26,
   "metadata": {},
   "outputs": [
    {
     "data": {
      "text/plain": [
       "{'customer': 0,\n",
       " 'name': 'ahtisham',\n",
       " 'class': '10',\n",
       " 'address': 'defence phase 1 '}"
      ]
     },
     "execution_count": 26,
     "metadata": {},
     "output_type": "execute_result"
    }
   ],
   "source": [
    "dic1"
   ]
  },
  {
   "cell_type": "code",
   "execution_count": 27,
   "metadata": {},
   "outputs": [
    {
     "data": {
      "text/plain": [
       "'defence phase 1 '"
      ]
     },
     "execution_count": 27,
     "metadata": {},
     "output_type": "execute_result"
    }
   ],
   "source": [
    "dic1[\"address\"]"
   ]
  },
  {
   "cell_type": "code",
   "execution_count": null,
   "metadata": {},
   "outputs": [],
   "source": [
    "#36) adding dictionary in the list of dictionary "
   ]
  },
  {
   "cell_type": "code",
   "execution_count": 28,
   "metadata": {},
   "outputs": [],
   "source": [
    "     newcustomerid = len(list)"
   ]
  },
  {
   "cell_type": "code",
   "execution_count": 29,
   "metadata": {},
   "outputs": [
    {
     "data": {
      "text/plain": [
       "3"
      ]
     },
     "execution_count": 29,
     "metadata": {},
     "output_type": "execute_result"
    }
   ],
   "source": [
    "newcustomerid"
   ]
  },
  {
   "cell_type": "code",
   "execution_count": 30,
   "metadata": {},
   "outputs": [],
   "source": [
    "newdic = {\n",
    "    \"customerid\" : newcustomerid,\n",
    "    \"name\" : \"zain\",\n",
    "    \"class\" : 13,\n",
    "    \"address\" : \"defence\"\n",
    "}"
   ]
  },
  {
   "cell_type": "code",
   "execution_count": 31,
   "metadata": {},
   "outputs": [],
   "source": [
    "list.append(newdic)"
   ]
  },
  {
   "cell_type": "code",
   "execution_count": 32,
   "metadata": {},
   "outputs": [
    {
     "data": {
      "text/plain": [
       "[{'customer': 0,\n",
       "  'name': 'ahtisham',\n",
       "  'class': '10',\n",
       "  'address': 'defence phase 1 '},\n",
       " {'customerid': 1, 'name': 'adbul', 'class': '11', 'address': 'defence'},\n",
       " {'customerid': 2, 'name': 'bisma', 'class': '12', 'address': 'nazimabad'},\n",
       " {'customerid': 3, 'name': 'zain', 'class': 13, 'address': 'defence'}]"
      ]
     },
     "execution_count": 32,
     "metadata": {},
     "output_type": "execute_result"
    }
   ],
   "source": [
    "list"
   ]
  },
  {
   "cell_type": "code",
   "execution_count": 33,
   "metadata": {},
   "outputs": [],
   "source": [
    "#37 Creating a dictionary that contains lists"
   ]
  },
  {
   "cell_type": "code",
   "execution_count": 48,
   "metadata": {},
   "outputs": [],
   "source": [
    "discountamount =0\n",
    "newcustomer = {\n",
    "    \"customerid\" : 4,\n",
    "    \"name\" : \"moiz\",\n",
    "    \"class\" : 14,\n",
    "    \"address\" : \"pta nhi\",\n",
    "    \"discount\" : [\"brotherinlaw\",\"standard\",\"volume\",\"loyalty\"],\n",
    "    \"discountamount\" : discountamount\n",
    "}"
   ]
  },
  {
   "cell_type": "code",
   "execution_count": 49,
   "metadata": {},
   "outputs": [],
   "source": [
    "list.append(newcustomer)"
   ]
  },
  {
   "cell_type": "code",
   "execution_count": 50,
   "metadata": {},
   "outputs": [
    {
     "data": {
      "text/plain": [
       "[{'customer': 0,\n",
       "  'name': 'ahtisham',\n",
       "  'class': '10',\n",
       "  'address': 'defence phase 1 '},\n",
       " {'customerid': 1, 'name': 'adbul', 'class': '11', 'address': 'defence'},\n",
       " {'customerid': 2, 'name': 'bisma', 'class': '12', 'address': 'nazimabad'},\n",
       " {'customerid': 3, 'name': 'zain', 'class': 13, 'address': 'defence'},\n",
       " {'customerid': 4,\n",
       "  'name': 'moiz',\n",
       "  'class': 14,\n",
       "  'address': 'pta nhi',\n",
       "  'discount': ['brotherinlaw', 'standard', 'volume', 'loyalty']},\n",
       " {'customerid': 4,\n",
       "  'name': 'moiz',\n",
       "  'class': 14,\n",
       "  'address': 'pta nhi',\n",
       "  'discount': ['brotherinlaw', 'standard', 'volume', 'loyalty']},\n",
       " {'customerid': 4,\n",
       "  'name': 'moiz',\n",
       "  'class': 14,\n",
       "  'address': 'pta nhi',\n",
       "  'discount': ['brotherinlaw', 'standard', 'volume', 'loyalty'],\n",
       "  'discountamount': 0}]"
      ]
     },
     "execution_count": 50,
     "metadata": {},
     "output_type": "execute_result"
    }
   ],
   "source": [
    "list"
   ]
  },
  {
   "cell_type": "code",
   "execution_count": 44,
   "metadata": {},
   "outputs": [
    {
     "data": {
      "text/plain": [
       "'brotherinlaw'"
      ]
     },
     "execution_count": 44,
     "metadata": {},
     "output_type": "execute_result"
    }
   ],
   "source": [
    "discount = newcustomer[\"discount\"][0]"
   ]
  },
  {
   "cell_type": "code",
   "execution_count": 52,
   "metadata": {},
   "outputs": [
    {
     "data": {
      "text/plain": [
       "'standard'"
      ]
     },
     "execution_count": 52,
     "metadata": {},
     "output_type": "execute_result"
    }
   ],
   "source": [
    "#accessing the standard\n",
    "list[4][\"discount\"][1]"
   ]
  },
  {
   "cell_type": "code",
   "execution_count": 58,
   "metadata": {},
   "outputs": [
    {
     "data": {
      "text/plain": [
       "{'customerid': 4,\n",
       " 'name': 'moiz',\n",
       " 'class': 14,\n",
       " 'address': 'pta nhi',\n",
       " 'discount': ['brotherinlaw', 'standard', 'volume', 'loyalty']}"
      ]
     },
     "execution_count": 58,
     "metadata": {},
     "output_type": "execute_result"
    }
   ],
   "source": [
    "newcustomer = list[4][]\n",
    "newcustomer\n"
   ]
  },
  {
   "cell_type": "code",
   "execution_count": 59,
   "metadata": {},
   "outputs": [],
   "source": [
    "#38\n",
    "#How to get information out of a list\n",
    "#within a dictionary"
   ]
  },
  {
   "cell_type": "code",
   "execution_count": 60,
   "metadata": {},
   "outputs": [],
   "source": [
    "if \"standard\" in list[4][\"discount\"]:\n",
    "    discountamount = 5\n",
    "elif \"brotherinlaw\" in list[4][\"discount\"]:\n",
    "    discountamount = 30\n",
    "\n",
    "elif \"volume\" in list[4][\"discount\"]:\n",
    "    discountamount = 10\n",
    "elif \"loyalty\" in list[4][\"discount\"]:\n",
    "    discountamount = 14"
   ]
  },
  {
   "cell_type": "code",
   "execution_count": 61,
   "metadata": {},
   "outputs": [
    {
     "data": {
      "text/plain": [
       "5"
      ]
     },
     "execution_count": 61,
     "metadata": {},
     "output_type": "execute_result"
    }
   ],
   "source": [
    "discountamount"
   ]
  },
  {
   "cell_type": "code",
   "execution_count": null,
   "metadata": {},
   "outputs": [],
   "source": [
    "#39\n",
    "#Creating a dictionary that contains a\n",
    "#dictionary"
   ]
  },
  {
   "cell_type": "code",
   "execution_count": 65,
   "metadata": {},
   "outputs": [],
   "source": [
    "dic = {\n",
    "         0 :{\n",
    "        \n",
    "        \"name\" : \"ahtisham\",\n",
    "        \"class\" : \"10\",\n",
    "        \"address\" : \"defence phase 1 \"\n",
    "    },\n",
    "     1 : {\n",
    "        \n",
    "        \"name\" : \"adbul\",\n",
    "        \"class\" : \"11\",\n",
    "        \"address\" : \"defence\"\n",
    "    },\n",
    "    2: {\n",
    "       \n",
    "        \"name\" : \"bisma\",\n",
    "        \"class\" : \"12\",\n",
    "        \"address\" : \"nazimabad\"\n",
    "    },\n",
    "}"
   ]
  },
  {
   "cell_type": "code",
   "execution_count": 66,
   "metadata": {},
   "outputs": [
    {
     "data": {
      "text/plain": [
       "{'name': 'bisma', 'class': '12', 'address': 'nazimabad'}"
      ]
     },
     "execution_count": 66,
     "metadata": {},
     "output_type": "execute_result"
    }
   ],
   "source": [
    "#40\n",
    "#How to get information out of a\n",
    "#dictionary within another dictionary\n",
    "dic[2]"
   ]
  },
  {
   "cell_type": "code",
   "execution_count": 67,
   "metadata": {},
   "outputs": [
    {
     "data": {
      "text/plain": [
       "'11'"
      ]
     },
     "execution_count": 67,
     "metadata": {},
     "output_type": "execute_result"
    }
   ],
   "source": [
    "dic[1][\"class\"]"
   ]
  },
  {
   "cell_type": "code",
   "execution_count": 68,
   "metadata": {},
   "outputs": [],
   "source": [
    "#41\n",
    "#Functions or methods\n",
    "#def nameofmethod ():\n",
    "      #body\n",
    "def addnumbers():\n",
    "    num1 = 2 \n",
    "    num2 = 3\n",
    "    total = num1+num2\n",
    "    print(total)"
   ]
  },
  {
   "cell_type": "code",
   "execution_count": 70,
   "metadata": {},
   "outputs": [
    {
     "name": "stdout",
     "output_type": "stream",
     "text": [
      "5\n"
     ]
    }
   ],
   "source": [
    "addnumbers()"
   ]
  },
  {
   "cell_type": "code",
   "execution_count": 87,
   "metadata": {},
   "outputs": [],
   "source": [
    "def discount(dicount = .30):\n",
    "    bill = float(input(\"enter the total bill\"))\n",
    "    \n",
    "    print(f\"your total bill is : {bill} \")\n",
    "    #dicount = originalprice - dicount*original price\n",
    "    total  = bill - (bill*dicount)\n",
    "    print(f\"but with discount your bill would be {total}\")"
   ]
  },
  {
   "cell_type": "code",
   "execution_count": 88,
   "metadata": {},
   "outputs": [
    {
     "name": "stdout",
     "output_type": "stream",
     "text": [
      "enter the total bill4000.00\n",
      "your total bill is : 4000.0 \n",
      "but with discount your bill would be 2800.0\n"
     ]
    }
   ],
   "source": [
    "discount()"
   ]
  },
  {
   "cell_type": "code",
   "execution_count": 90,
   "metadata": {},
   "outputs": [
    {
     "name": "stdout",
     "output_type": "stream",
     "text": [
      "enter the total bill4000.0\n",
      "your total bill is : 4000.0 \n",
      "but with discount your bill would be 2400.0\n"
     ]
    }
   ],
   "source": [
    "discount(.40)"
   ]
  },
  {
   "cell_type": "code",
   "execution_count": null,
   "metadata": {},
   "outputs": [],
   "source": []
  }
 ],
 "metadata": {
  "kernelspec": {
   "display_name": "Python 3",
   "language": "python",
   "name": "python3"
  },
  "language_info": {
   "codemirror_mode": {
    "name": "ipython",
    "version": 3
   },
   "file_extension": ".py",
   "mimetype": "text/x-python",
   "name": "python",
   "nbconvert_exporter": "python",
   "pygments_lexer": "ipython3",
   "version": "3.7.4"
  }
 },
 "nbformat": 4,
 "nbformat_minor": 2
}
