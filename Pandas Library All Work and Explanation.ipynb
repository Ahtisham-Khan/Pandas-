{
 "cells": [
  {
   "cell_type": "markdown",
   "metadata": {},
   "source": [
    "# Pandas introduction : \n",
    "pandas basically num py ki hi aek libraray hai jis me kuch zyada advaatages hain aur ye back end pr numpy ki library hi ko use krr rahi hoti for multi dimentional array but is ka sb se bara benefit yeh hai ke ye data ko data dataframes me represen krti hai jis me ap column ki heading bbhi define kr skty hai aur har row ke lye label bhi define kr skty hain ."
   ]
  },
  {
   "cell_type": "code",
   "execution_count": 2,
   "metadata": {},
   "outputs": [],
   "source": [
    "#when we work on ai projects we need to manage multidimensional data organized and well managed data is a req for all steps like training , validation testing and prediction ."
   ]
  },
  {
   "cell_type": "code",
   "execution_count": null,
   "metadata": {},
   "outputs": [],
   "source": []
  }
 ],
 "metadata": {
  "kernelspec": {
   "display_name": "Python 3",
   "language": "python",
   "name": "python3"
  },
  "language_info": {
   "codemirror_mode": {
    "name": "ipython",
    "version": 3
   },
   "file_extension": ".py",
   "mimetype": "text/x-python",
   "name": "python",
   "nbconvert_exporter": "python",
   "pygments_lexer": "ipython3",
   "version": "3.7.4"
  }
 },
 "nbformat": 4,
 "nbformat_minor": 2
}
