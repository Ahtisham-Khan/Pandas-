{
 "cells": [
  {
   "cell_type": "markdown",
   "metadata": {},
   "source": [
    "# Pandas introduction : \n",
    "pandas basically num py ki hi aek libraray hai jis me kuch zyada advaatages hain aur ye back end pr numpy ki library hi ko use krr rahi hoti for multi dimentional array but is ka sb se bara benefit yeh hai ke ye data ko data dataframes me represen krti hai jis me ap column ki heading bbhi define kr skty hai aur har row ke lye label bhi define kr skty hain ."
   ]
  },
  {
   "cell_type": "code",
   "execution_count": 1,
   "metadata": {},
   "outputs": [],
   "source": [
    "#when we work on ai projects we need to manage multidimensional data organized and well managed data is a req for all steps like training , validation testing and prediction ."
   ]
  },
  {
   "cell_type": "code",
   "execution_count": 2,
   "metadata": {},
   "outputs": [],
   "source": [
    "import pandas as pd "
   ]
  },
  {
   "cell_type": "markdown",
   "metadata": {},
   "source": [
    "# Series object:\n",
    "part:1"
   ]
  },
  {
   "cell_type": "code",
   "execution_count": 3,
   "metadata": {},
   "outputs": [
    {
     "name": "stdout",
     "output_type": "stream",
     "text": [
      "0    4\n",
      "1    7\n",
      "2   -5\n",
      "3    3\n",
      "dtype: int64\n"
     ]
    }
   ],
   "source": [
    "obj = pd.Series([4,7,-5,3])\n",
    "print(obj)"
   ]
  },
  {
   "cell_type": "code",
   "execution_count": 4,
   "metadata": {},
   "outputs": [
    {
     "name": "stdout",
     "output_type": "stream",
     "text": [
      "[ 4  7 -5  3]\n"
     ]
    }
   ],
   "source": [
    "#pandas series has two things in one object :\n",
    "#1 : Values \n",
    "#2: index\n",
    "print(obj.values)"
   ]
  },
  {
   "cell_type": "code",
   "execution_count": 5,
   "metadata": {},
   "outputs": [
    {
     "name": "stdout",
     "output_type": "stream",
     "text": [
      "RangeIndex(start=0, stop=4, step=1)\n"
     ]
    }
   ],
   "source": [
    "print(obj.index) #startinig from zero and ending on 4 and increment by 1 "
   ]
  },
  {
   "cell_type": "code",
   "execution_count": 6,
   "metadata": {},
   "outputs": [],
   "source": [
    "#part :02"
   ]
  },
  {
   "cell_type": "code",
   "execution_count": 7,
   "metadata": {},
   "outputs": [],
   "source": [
    "sales = pd.Series([100,200,300,400] , index = [\"jan\",\"frb\",\"mar\",\"apr\"])"
   ]
  },
  {
   "cell_type": "code",
   "execution_count": 8,
   "metadata": {},
   "outputs": [
    {
     "name": "stdout",
     "output_type": "stream",
     "text": [
      "jan    100\n",
      "frb    200\n",
      "mar    300\n",
      "apr    400\n",
      "dtype: int64\n"
     ]
    }
   ],
   "source": [
    "print(sales)"
   ]
  },
  {
   "cell_type": "code",
   "execution_count": 9,
   "metadata": {},
   "outputs": [],
   "source": [
    "#part : 03"
   ]
  },
  {
   "cell_type": "code",
   "execution_count": 10,
   "metadata": {},
   "outputs": [
    {
     "name": "stdout",
     "output_type": "stream",
     "text": [
      "[100 200 300 400]\n"
     ]
    }
   ],
   "source": [
    "print(sales.values)"
   ]
  },
  {
   "cell_type": "code",
   "execution_count": 11,
   "metadata": {},
   "outputs": [
    {
     "name": "stdout",
     "output_type": "stream",
     "text": [
      "Index(['jan', 'frb', 'mar', 'apr'], dtype='object')\n"
     ]
    }
   ],
   "source": [
    "print(sales.index) #when pandas feel a complex data to it declared this data as \"object\" data typre object : is a datatype in which u can store any kind of data .i.e : float int string whatwver u want .\n"
   ]
  },
  {
   "cell_type": "code",
   "execution_count": 12,
   "metadata": {},
   "outputs": [],
   "source": [
    "#if i want to declare name :\n",
    "sales = pd.Series([100,200,300,400] , index = [\"jan\",\"frb\",\"mar\",\"apr\"],name = \"4 month sales\")"
   ]
  },
  {
   "cell_type": "code",
   "execution_count": 13,
   "metadata": {},
   "outputs": [
    {
     "name": "stdout",
     "output_type": "stream",
     "text": [
      "jan    100\n",
      "frb    200\n",
      "mar    300\n",
      "apr    400\n",
      "Name: 4 month sales, dtype: int64\n"
     ]
    }
   ],
   "source": [
    "print(sales)"
   ]
  },
  {
   "cell_type": "code",
   "execution_count": 14,
   "metadata": {},
   "outputs": [],
   "source": [
    "#part :\"04\":"
   ]
  },
  {
   "cell_type": "code",
   "execution_count": 15,
   "metadata": {},
   "outputs": [],
   "source": [
    "#we can declare series name too , this name would help us when we would merge our series with data frame it would make this name :\n",
    "#as a column header of the data frame.\n",
    "#ex 01 : create a canteen record of a week tthat how many sandwitches are sold in a week .\n",
    "canteen_data = pd.Series([150,200,100,400,100,150,170],index = [\"mon\",\"tue\",\"wed\",\"thu\",\"fri\",\"sat\",\"sun\"],name = \"sandwiches sold price\")"
   ]
  },
  {
   "cell_type": "code",
   "execution_count": 16,
   "metadata": {},
   "outputs": [
    {
     "name": "stdout",
     "output_type": "stream",
     "text": [
      "mon    150\n",
      "tue    200\n",
      "wed    100\n",
      "thu    400\n",
      "fri    100\n",
      "sat    150\n",
      "sun    170\n",
      "Name: sandwiches sold price, dtype: int64\n"
     ]
    }
   ],
   "source": [
    "print(canteen_data)"
   ]
  },
  {
   "cell_type": "code",
   "execution_count": 17,
   "metadata": {},
   "outputs": [
    {
     "name": "stdout",
     "output_type": "stream",
     "text": [
      "200\n"
     ]
    }
   ],
   "source": [
    "print(canteen_data[1])"
   ]
  },
  {
   "cell_type": "code",
   "execution_count": 18,
   "metadata": {},
   "outputs": [
    {
     "name": "stdout",
     "output_type": "stream",
     "text": [
      "150\n"
     ]
    }
   ],
   "source": [
    "print(canteen_data[\"mon\"]) #from index"
   ]
  },
  {
   "cell_type": "code",
   "execution_count": 19,
   "metadata": {},
   "outputs": [
    {
     "name": "stdout",
     "output_type": "stream",
     "text": [
      "thu    400\n",
      "sat    150\n",
      "sun    170\n",
      "Name: sandwiches sold price, dtype: int64\n"
     ]
    }
   ],
   "source": [
    "#for extracting multiple value from a series :\n",
    "print(canteen_data[ [3,5,6]])"
   ]
  },
  {
   "cell_type": "code",
   "execution_count": 20,
   "metadata": {},
   "outputs": [
    {
     "name": "stdout",
     "output_type": "stream",
     "text": [
      "mon    150\n",
      "wed    100\n",
      "sun    170\n",
      "Name: sandwiches sold price, dtype: int64\n"
     ]
    }
   ],
   "source": [
    "#u had to pass two large bracket and enclose the values in the form of an arrau had to give array notation .\n",
    "print(canteen_data[[\"mon\",\"wed\",\"sun\"]])"
   ]
  },
  {
   "cell_type": "code",
   "execution_count": 21,
   "metadata": {},
   "outputs": [
    {
     "name": "stdout",
     "output_type": "stream",
     "text": [
      "mon     True\n",
      "tue     True\n",
      "wed    False\n",
      "thu     True\n",
      "fri    False\n",
      "sat     True\n",
      "sun     True\n",
      "Name: sandwiches sold price, dtype: bool\n"
     ]
    }
   ],
   "source": [
    "print(canteen_data >100) #return boolean values ."
   ]
  },
  {
   "cell_type": "code",
   "execution_count": 22,
   "metadata": {},
   "outputs": [
    {
     "name": "stdout",
     "output_type": "stream",
     "text": [
      "tue    200\n",
      "thu    400\n",
      "sun    170\n",
      "Name: sandwiches sold price, dtype: int64\n"
     ]
    }
   ],
   "source": [
    "#and for getting original values use /:\n",
    "print(canteen_data[canteen_data >150])"
   ]
  },
  {
   "cell_type": "code",
   "execution_count": 23,
   "metadata": {},
   "outputs": [
    {
     "data": {
      "text/plain": [
       "mon     450\n",
       "tue     600\n",
       "wed     300\n",
       "thu    1200\n",
       "fri     300\n",
       "sat     450\n",
       "sun     510\n",
       "Name: sandwiches sold price, dtype: int64"
      ]
     },
     "execution_count": 23,
     "metadata": {},
     "output_type": "execute_result"
    }
   ],
   "source": [
    "canteen_data * 3"
   ]
  },
  {
   "cell_type": "code",
   "execution_count": 24,
   "metadata": {},
   "outputs": [
    {
     "name": "stdout",
     "output_type": "stream",
     "text": [
      "mon    150\n",
      "tue    200\n",
      "wed    100\n",
      "thu    400\n",
      "fri    100\n",
      "sat    150\n",
      "sun    170\n",
      "Name: sandwiches sold price, dtype: int64\n"
     ]
    }
   ],
   "source": [
    "print(canteen_data)"
   ]
  },
  {
   "cell_type": "code",
   "execution_count": 25,
   "metadata": {},
   "outputs": [],
   "source": [
    "canteen_data = canteen_data * 3"
   ]
  },
  {
   "cell_type": "code",
   "execution_count": 26,
   "metadata": {},
   "outputs": [
    {
     "data": {
      "text/plain": [
       "mon     450\n",
       "tue     600\n",
       "wed     300\n",
       "thu    1200\n",
       "fri     300\n",
       "sat     450\n",
       "sun     510\n",
       "Name: sandwiches sold price, dtype: int64"
      ]
     },
     "execution_count": 26,
     "metadata": {},
     "output_type": "execute_result"
    }
   ],
   "source": [
    "canteen_data"
   ]
  },
  {
   "cell_type": "code",
   "execution_count": 27,
   "metadata": {},
   "outputs": [],
   "source": [
    "canteen_data = canteen_data / 3 #it return float values"
   ]
  },
  {
   "cell_type": "code",
   "execution_count": 28,
   "metadata": {},
   "outputs": [
    {
     "data": {
      "text/plain": [
       "mon    150.0\n",
       "tue    200.0\n",
       "wed    100.0\n",
       "thu    400.0\n",
       "fri    100.0\n",
       "sat    150.0\n",
       "sun    170.0\n",
       "Name: sandwiches sold price, dtype: float64"
      ]
     },
     "execution_count": 28,
     "metadata": {},
     "output_type": "execute_result"
    }
   ],
   "source": [
    "canteen_data"
   ]
  },
  {
   "cell_type": "code",
   "execution_count": 29,
   "metadata": {},
   "outputs": [
    {
     "data": {
      "text/plain": [
       "True"
      ]
     },
     "execution_count": 29,
     "metadata": {},
     "output_type": "execute_result"
    }
   ],
   "source": [
    "#if i want to check a index is present in the series or not:\n",
    "#we had use this in func before in python to check that something is present in the list .\n",
    "\"mon\" in canteen_data"
   ]
  },
  {
   "cell_type": "code",
   "execution_count": 30,
   "metadata": {},
   "outputs": [],
   "source": [
    "import numpy as np "
   ]
  },
  {
   "cell_type": "code",
   "execution_count": 31,
   "metadata": {},
   "outputs": [],
   "source": [
    "arr = np.array([1,22,333,444,55,66])\n",
    "arr_index = np.array([\"a\",\"b\",\"c\",\"d\",\"e\",\"f\"])\n"
   ]
  },
  {
   "cell_type": "code",
   "execution_count": 32,
   "metadata": {},
   "outputs": [],
   "source": [
    "#for converting a data into series :\n",
    "ser = pd.Series(arr,arr_index)"
   ]
  },
  {
   "cell_type": "code",
   "execution_count": 33,
   "metadata": {},
   "outputs": [
    {
     "data": {
      "text/plain": [
       "a      1\n",
       "b     22\n",
       "c    333\n",
       "d    444\n",
       "e     55\n",
       "f     66\n",
       "dtype: int32"
      ]
     },
     "execution_count": 33,
     "metadata": {},
     "output_type": "execute_result"
    }
   ],
   "source": [
    "ser"
   ]
  },
  {
   "cell_type": "code",
   "execution_count": 34,
   "metadata": {},
   "outputs": [
    {
     "data": {
      "text/plain": [
       "{'sindh': 250000, 'balochistan': 12000, 'punjab': 40000, 'kpk': 45000}"
      ]
     },
     "execution_count": 34,
     "metadata": {},
     "output_type": "execute_result"
    }
   ],
   "source": [
    "#we can get data from a dic too :\n",
    "dic = {\"sindh\" : 250000,\"balochistan\" : 12000,\"punjab\":40000,\"kpk\":45000}\n",
    "dic"
   ]
  },
  {
   "cell_type": "code",
   "execution_count": 35,
   "metadata": {},
   "outputs": [],
   "source": [
    "tax_paid = pd.Series(dic) #it would use key as index of the series and values as values"
   ]
  },
  {
   "cell_type": "code",
   "execution_count": 36,
   "metadata": {},
   "outputs": [
    {
     "data": {
      "text/plain": [
       "sindh          250000\n",
       "balochistan     12000\n",
       "punjab          40000\n",
       "kpk             45000\n",
       "dtype: int64"
      ]
     },
     "execution_count": 36,
     "metadata": {},
     "output_type": "execute_result"
    }
   ],
   "source": [
    "tax_paid"
   ]
  },
  {
   "cell_type": "code",
   "execution_count": 37,
   "metadata": {},
   "outputs": [
    {
     "data": {
      "text/plain": [
       "Index(['sindh', 'balochistan', 'punjab', 'kpk'], dtype='object')"
      ]
     },
     "execution_count": 37,
     "metadata": {},
     "output_type": "execute_result"
    }
   ],
   "source": [
    "tax_paid.index"
   ]
  },
  {
   "cell_type": "code",
   "execution_count": 38,
   "metadata": {},
   "outputs": [],
   "source": [
    "#if u change the position of an index it value will not be changed like :\n",
    "#if i bring punjab on 0 index it value still remain the same \n",
    "tax_paid = pd.Series(dic, index = [\"punjab\",\"balochistan\",\"sindh\",\"kpk\"])"
   ]
  },
  {
   "cell_type": "code",
   "execution_count": 39,
   "metadata": {},
   "outputs": [
    {
     "data": {
      "text/plain": [
       "punjab          40000\n",
       "balochistan     12000\n",
       "sindh          250000\n",
       "kpk             45000\n",
       "dtype: int64"
      ]
     },
     "execution_count": 39,
     "metadata": {},
     "output_type": "execute_result"
    }
   ],
   "source": [
    "tax_paid # u can see punjab is still 40000 ."
   ]
  },
  {
   "cell_type": "markdown",
   "metadata": {},
   "source": [
    "# **u can get data into series from : **\n",
    "    *numpy array\n",
    "    *list\n",
    "    *and dictionary"
   ]
  },
  {
   "cell_type": "code",
   "execution_count": 40,
   "metadata": {},
   "outputs": [],
   "source": [
    "#if a value is missing(null) in a data so can we find that value :\n",
    "#we use pd.isnull(sername)\n"
   ]
  },
  {
   "cell_type": "code",
   "execution_count": 41,
   "metadata": {},
   "outputs": [],
   "source": [
    "tax_paid = pd.Series(dic, index = [\"punjab\",\"balochistan\",\"sindh\",\"kpk\" ,\"gilgit\"])"
   ]
  },
  {
   "cell_type": "code",
   "execution_count": 42,
   "metadata": {},
   "outputs": [
    {
     "data": {
      "text/plain": [
       "punjab          40000.0\n",
       "balochistan     12000.0\n",
       "sindh          250000.0\n",
       "kpk             45000.0\n",
       "gilgit              NaN\n",
       "dtype: float64"
      ]
     },
     "execution_count": 42,
     "metadata": {},
     "output_type": "execute_result"
    }
   ],
   "source": [
    "tax_paid"
   ]
  },
  {
   "cell_type": "code",
   "execution_count": 43,
   "metadata": {},
   "outputs": [
    {
     "data": {
      "text/plain": [
       "punjab         False\n",
       "balochistan    False\n",
       "sindh          False\n",
       "kpk            False\n",
       "gilgit          True\n",
       "dtype: bool"
      ]
     },
     "execution_count": 43,
     "metadata": {},
     "output_type": "execute_result"
    }
   ],
   "source": [
    "pd.isnull(tax_paid)"
   ]
  },
  {
   "cell_type": "code",
   "execution_count": 44,
   "metadata": {},
   "outputs": [
    {
     "data": {
      "text/plain": [
       "punjab         False\n",
       "balochistan    False\n",
       "sindh          False\n",
       "kpk            False\n",
       "gilgit          True\n",
       "dtype: bool"
      ]
     },
     "execution_count": 44,
     "metadata": {},
     "output_type": "execute_result"
    }
   ],
   "source": [
    "pd.isnull(tax_paid)"
   ]
  },
  {
   "cell_type": "code",
   "execution_count": 45,
   "metadata": {},
   "outputs": [
    {
     "data": {
      "text/plain": [
       "punjab         False\n",
       "balochistan    False\n",
       "sindh          False\n",
       "kpk            False\n",
       "gilgit          True\n",
       "dtype: bool"
      ]
     },
     "execution_count": 45,
     "metadata": {},
     "output_type": "execute_result"
    }
   ],
   "source": [
    "pd.isnull(tax_paid)"
   ]
  },
  {
   "cell_type": "code",
   "execution_count": 46,
   "metadata": {},
   "outputs": [],
   "source": [
    "#null value means that this index value is not present in the series \n",
    "#but remember string and empty or two diff things for ex:\n",
    "#if a string has no value to it means its empty but not null .\n",
    "#null means that id does not exist at all .\n"
   ]
  },
  {
   "cell_type": "code",
   "execution_count": 47,
   "metadata": {},
   "outputs": [
    {
     "data": {
      "text/plain": [
       "punjab         False\n",
       "balochistan    False\n",
       "sindh          False\n",
       "kpk            False\n",
       "gilgit          True\n",
       "dtype: bool"
      ]
     },
     "execution_count": 47,
     "metadata": {},
     "output_type": "execute_result"
    }
   ],
   "source": [
    "pd.isnull(tax_paid) # is a function of series.\n"
   ]
  },
  {
   "cell_type": "code",
   "execution_count": 48,
   "metadata": {},
   "outputs": [
    {
     "data": {
      "text/plain": [
       "punjab         False\n",
       "balochistan    False\n",
       "sindh          False\n",
       "kpk            False\n",
       "gilgit          True\n",
       "dtype: bool"
      ]
     },
     "execution_count": 48,
     "metadata": {},
     "output_type": "execute_result"
    }
   ],
   "source": [
    "tax_paid.isnull() #is a method of series . both things are valid ."
   ]
  },
  {
   "cell_type": "code",
   "execution_count": 49,
   "metadata": {},
   "outputs": [],
   "source": [
    "#we can name values : ser.name = \"name of values\"\n",
    "#we can also name index : ser.index.name = \"name of index\"\n",
    "tax_paid.name =\"provinces_tax\"\n",
    "tax_paid.index.name = \"provinces_name \""
   ]
  },
  {
   "cell_type": "code",
   "execution_count": 50,
   "metadata": {},
   "outputs": [
    {
     "data": {
      "text/plain": [
       "provinces_name \n",
       "punjab          40000.0\n",
       "balochistan     12000.0\n",
       "sindh          250000.0\n",
       "kpk             45000.0\n",
       "gilgit              NaN\n",
       "Name: provinces_tax, dtype: float64"
      ]
     },
     "execution_count": 50,
     "metadata": {},
     "output_type": "execute_result"
    }
   ],
   "source": [
    "tax_paid"
   ]
  },
  {
   "cell_type": "code",
   "execution_count": 51,
   "metadata": {
    "slideshow": {
     "slide_type": "slide"
    }
   },
   "outputs": [
    {
     "data": {
      "text/plain": [
       "Index(['punjab', 'balochistan', 'sindh', 'kpk', 'gilgit'], dtype='object', name='provinces_name ')"
      ]
     },
     "execution_count": 51,
     "metadata": {},
     "output_type": "execute_result"
    }
   ],
   "source": [
    "tax_paid.index"
   ]
  },
  {
   "cell_type": "code",
   "execution_count": 52,
   "metadata": {},
   "outputs": [],
   "source": [
    "#u can also change the values of series and its indexes also\n",
    "tax_paid.index = [\"pun\",\"bal\",\"sin\",\"kpk\" ,\"gil\"]"
   ]
  },
  {
   "cell_type": "code",
   "execution_count": 53,
   "metadata": {},
   "outputs": [
    {
     "data": {
      "text/plain": [
       "pun     40000.0\n",
       "bal     12000.0\n",
       "sin    250000.0\n",
       "kpk     45000.0\n",
       "gil         NaN\n",
       "Name: provinces_tax, dtype: float64"
      ]
     },
     "execution_count": 53,
     "metadata": {},
     "output_type": "execute_result"
    }
   ],
   "source": [
    "tax_paid"
   ]
  },
  {
   "cell_type": "code",
   "execution_count": 54,
   "metadata": {},
   "outputs": [],
   "source": [
    "#remeber one thing : null != 0 , means if zero is present then it is not  null at all\n",
    "#naming series is important because later we would combine it with data frame and it would help us there\n",
    "#because bascially DATAFRAME is a combination of multilple Series..."
   ]
  },
  {
   "cell_type": "markdown",
   "metadata": {},
   "source": [
    "# DATA FRAME :\n",
    "As in series we store a single dimension data but when we had to store the data of multi dimension the we use dataframe to store that type of data .\n",
    "we had more than one col in a dataframe but in series we had onlu one column .\n",
    "in pandas we had to store the index .\n",
    "series+series = dataframe .(but the index of the series should be same for both )\n"
   ]
  },
  {
   "cell_type": "code",
   "execution_count": 55,
   "metadata": {},
   "outputs": [],
   "source": [
    "import pandas as pd"
   ]
  },
  {
   "cell_type": "code",
   "execution_count": 56,
   "metadata": {},
   "outputs": [
    {
     "name": "stdout",
     "output_type": "stream",
     "text": [
      "0    3\n",
      "1    2\n",
      "2    0\n",
      "3    1\n",
      "dtype: int64 0    4\n",
      "1    5\n",
      "2    1\n",
      "3    2\n",
      "dtype: int64\n"
     ]
    }
   ],
   "source": [
    "#merging two series into a data frame:\n",
    "apples = pd.Series([3,2,0,1])\n",
    "oranges = pd.Series([4,5,1,2])\n",
    "print(apples,oranges)\n"
   ]
  },
  {
   "cell_type": "code",
   "execution_count": 57,
   "metadata": {},
   "outputs": [
    {
     "name": "stdout",
     "output_type": "stream",
     "text": [
      "   apples  oranges\n",
      "0       3        4\n",
      "1       2        5\n",
      "2       0        1\n",
      "3       1        2\n"
     ]
    }
   ],
   "source": [
    "data = {\"apples\" : apples ,\"oranges\" : oranges}\n",
    "fruits = pd.DataFrame(data)\n",
    "print(fruits)"
   ]
  },
  {
   "cell_type": "code",
   "execution_count": 58,
   "metadata": {},
   "outputs": [],
   "source": [
    "#u can also change indexes of pandas too . but remember index and values should be equal\n",
    "data1= {'state': ['karachi','islamabad','kashmir','sialkot'],\n",
    "        'POP' : [100,200,300,400],\n",
    "        }\n",
    "dataframe = pd.DataFrame(data1,index = ['1st','2nd','3rd','4th'])"
   ]
  },
  {
   "cell_type": "code",
   "execution_count": 59,
   "metadata": {},
   "outputs": [
    {
     "name": "stdout",
     "output_type": "stream",
     "text": [
      "         state  POP\n",
      "1st    karachi  100\n",
      "2nd  islamabad  200\n",
      "3rd    kashmir  300\n",
      "4th    sialkot  400\n"
     ]
    }
   ],
   "source": [
    "print(dataframe)"
   ]
  },
  {
   "cell_type": "code",
   "execution_count": 60,
   "metadata": {},
   "outputs": [
    {
     "data": {
      "text/html": [
       "<div>\n",
       "<style scoped>\n",
       "    .dataframe tbody tr th:only-of-type {\n",
       "        vertical-align: middle;\n",
       "    }\n",
       "\n",
       "    .dataframe tbody tr th {\n",
       "        vertical-align: top;\n",
       "    }\n",
       "\n",
       "    .dataframe thead th {\n",
       "        text-align: right;\n",
       "    }\n",
       "</style>\n",
       "<table border=\"1\" class=\"dataframe\">\n",
       "  <thead>\n",
       "    <tr style=\"text-align: right;\">\n",
       "      <th></th>\n",
       "      <th>state</th>\n",
       "      <th>POP</th>\n",
       "    </tr>\n",
       "  </thead>\n",
       "  <tbody>\n",
       "    <tr>\n",
       "      <td>1st</td>\n",
       "      <td>karachi</td>\n",
       "      <td>100</td>\n",
       "    </tr>\n",
       "    <tr>\n",
       "      <td>2nd</td>\n",
       "      <td>islamabad</td>\n",
       "      <td>200</td>\n",
       "    </tr>\n",
       "    <tr>\n",
       "      <td>3rd</td>\n",
       "      <td>kashmir</td>\n",
       "      <td>300</td>\n",
       "    </tr>\n",
       "    <tr>\n",
       "      <td>4th</td>\n",
       "      <td>sialkot</td>\n",
       "      <td>400</td>\n",
       "    </tr>\n",
       "  </tbody>\n",
       "</table>\n",
       "</div>"
      ],
      "text/plain": [
       "         state  POP\n",
       "1st    karachi  100\n",
       "2nd  islamabad  200\n",
       "3rd    kashmir  300\n",
       "4th    sialkot  400"
      ]
     },
     "execution_count": 60,
     "metadata": {},
     "output_type": "execute_result"
    }
   ],
   "source": [
    "#.head() func print first five values \n",
    "dataframe.head()"
   ]
  },
  {
   "cell_type": "code",
   "execution_count": 61,
   "metadata": {},
   "outputs": [],
   "source": [
    "#u can also cahnge the position of col\n",
    "dataframe = pd.DataFrame(dataframe,columns = ['POP','state'])"
   ]
  },
  {
   "cell_type": "code",
   "execution_count": 62,
   "metadata": {},
   "outputs": [
    {
     "name": "stdout",
     "output_type": "stream",
     "text": [
      "     POP      state\n",
      "1st  100    karachi\n",
      "2nd  200  islamabad\n",
      "3rd  300    kashmir\n",
      "4th  400    sialkot\n"
     ]
    }
   ],
   "source": [
    "print(dataframe)"
   ]
  },
  {
   "cell_type": "code",
   "execution_count": 63,
   "metadata": {},
   "outputs": [],
   "source": [
    "#adding a new col :\n",
    "dataframe = pd.DataFrame(dataframe,columns = ['POP','state','year'])"
   ]
  },
  {
   "cell_type": "code",
   "execution_count": 64,
   "metadata": {},
   "outputs": [
    {
     "name": "stdout",
     "output_type": "stream",
     "text": [
      "     POP      state  year\n",
      "1st  100    karachi   NaN\n",
      "2nd  200  islamabad   NaN\n",
      "3rd  300    kashmir   NaN\n",
      "4th  400    sialkot   NaN\n"
     ]
    }
   ],
   "source": [
    "print(dataframe)"
   ]
  },
  {
   "cell_type": "code",
   "execution_count": 65,
   "metadata": {},
   "outputs": [
    {
     "data": {
      "text/plain": [
       "Index(['POP', 'state', 'year'], dtype='object')"
      ]
     },
     "execution_count": 65,
     "metadata": {},
     "output_type": "execute_result"
    }
   ],
   "source": [
    "dataframe.columns #for printing columns "
   ]
  },
  {
   "cell_type": "code",
   "execution_count": 66,
   "metadata": {},
   "outputs": [
    {
     "data": {
      "text/plain": [
       "Index(['1st', '2nd', '3rd', '4th'], dtype='object')"
      ]
     },
     "execution_count": 66,
     "metadata": {},
     "output_type": "execute_result"
    }
   ],
   "source": [
    "dataframe.index #for printing index of data"
   ]
  },
  {
   "cell_type": "code",
   "execution_count": 67,
   "metadata": {},
   "outputs": [
    {
     "data": {
      "text/plain": [
       "1st      karachi\n",
       "2nd    islamabad\n",
       "3rd      kashmir\n",
       "4th      sialkot\n",
       "Name: state, dtype: object"
      ]
     },
     "execution_count": 67,
     "metadata": {},
     "output_type": "execute_result"
    }
   ],
   "source": [
    "#a column of a dataframe can be accessed as a series a dict type notation or by an attribute \n",
    "#mtlb ap col ko jese dic ko access krty ho usi tarah acces krogy \n",
    "dataframe['state'] #dic type "
   ]
  },
  {
   "cell_type": "code",
   "execution_count": 68,
   "metadata": {},
   "outputs": [
    {
     "data": {
      "text/plain": [
       "1st      karachi\n",
       "2nd    islamabad\n",
       "3rd      kashmir\n",
       "4th      sialkot\n",
       "Name: state, dtype: object"
      ]
     },
     "execution_count": 68,
     "metadata": {},
     "output_type": "execute_result"
    }
   ],
   "source": [
    "#attribute type \":\"\n",
    "dataframe.state"
   ]
  },
  {
   "cell_type": "code",
   "execution_count": 69,
   "metadata": {},
   "outputs": [
    {
     "data": {
      "text/plain": [
       "POP          300\n",
       "state    kashmir\n",
       "year         NaN\n",
       "Name: 3rd, dtype: object"
      ]
     },
     "execution_count": 69,
     "metadata": {},
     "output_type": "execute_result"
    }
   ],
   "source": [
    "#.loc func gives u the data of a particular row\n",
    "dataframe.loc[\"3rd\"]"
   ]
  },
  {
   "cell_type": "code",
   "execution_count": 70,
   "metadata": {},
   "outputs": [
    {
     "name": "stdout",
     "output_type": "stream",
     "text": [
      "4\n"
     ]
    }
   ],
   "source": [
    "#for finding no of rows in a data frame :\n",
    "print(len(dataframe))"
   ]
  },
  {
   "cell_type": "code",
   "execution_count": 71,
   "metadata": {},
   "outputs": [
    {
     "name": "stdout",
     "output_type": "stream",
     "text": [
      "4\n"
     ]
    }
   ],
   "source": [
    "#for adding values in year col \n",
    "#first we calculate the length ;\n",
    "length = len(dataframe)\n",
    "print(length)\n",
    "values = np.arange(length)\n",
    "dataframe['year'] = values"
   ]
  },
  {
   "cell_type": "code",
   "execution_count": 72,
   "metadata": {},
   "outputs": [
    {
     "name": "stdout",
     "output_type": "stream",
     "text": [
      "     POP      state  year\n",
      "1st  100    karachi     0\n",
      "2nd  200  islamabad     1\n",
      "3rd  300    kashmir     2\n",
      "4th  400    sialkot     3\n"
     ]
    }
   ],
   "source": [
    "print(dataframe) #values are initialized in the year we can not decrrease or increase the length of the values of year col ,\n"
   ]
  },
  {
   "cell_type": "code",
   "execution_count": 73,
   "metadata": {},
   "outputs": [],
   "source": [
    "#inserting new value need to match in length of dataframe"
   ]
  },
  {
   "cell_type": "code",
   "execution_count": 74,
   "metadata": {},
   "outputs": [
    {
     "name": "stdout",
     "output_type": "stream",
     "text": [
      "     POP      state  year\n",
      "1st  100    karachi   1.1\n",
      "2nd  200  islamabad   NaN\n",
      "3rd  300    kashmir   3.4\n",
      "4th  400    sialkot   2.0\n"
     ]
    }
   ],
   "source": [
    "#and if u dont want to pass all the values u can use index no\n",
    "val = pd.Series([1.1,2.,3.4] , index = ['1st','4th','3rd'])\n",
    "dataframe ['year'] = val\n",
    "print(dataframe)"
   ]
  },
  {
   "cell_type": "code",
   "execution_count": 75,
   "metadata": {},
   "outputs": [
    {
     "name": "stdout",
     "output_type": "stream",
     "text": [
      "     POP      state  year\n",
      "1st  100    karachi   3.5\n",
      "2nd  200  islamabad   3.5\n",
      "3rd  300    kashmir   3.5\n",
      "4th  400    sialkot   3.5\n"
     ]
    }
   ],
   "source": [
    "dataframe ['year'] =3.5 \n",
    "print(dataframe)"
   ]
  },
  {
   "cell_type": "code",
   "execution_count": 76,
   "metadata": {},
   "outputs": [
    {
     "name": "stdout",
     "output_type": "stream",
     "text": [
      "     POP      state  year\n",
      "1st  100    karachi   NaN\n",
      "2nd  200  islamabad   1.5\n",
      "3rd  300    kashmir   NaN\n",
      "4th  400    sialkot   NaN\n"
     ]
    }
   ],
   "source": [
    "dataframe['year'] = pd.Series([1.5],index = ['2nd'])\n",
    "print(dataframe)"
   ]
  },
  {
   "cell_type": "code",
   "execution_count": 77,
   "metadata": {},
   "outputs": [],
   "source": [
    "#remember : index length should be equal to value(or do no provide index at all )\n"
   ]
  },
  {
   "cell_type": "markdown",
   "metadata": {},
   "source": [
    "# Functions applications and mapping :\n"
   ]
  },
  {
   "cell_type": "code",
   "execution_count": 78,
   "metadata": {},
   "outputs": [
    {
     "name": "stdout",
     "output_type": "stream",
     "text": [
      "               b         d         e\n",
      "utah   -0.299094  0.939915  0.461589\n",
      "ohio    0.573112  0.343771 -1.444259\n",
      "texas  -0.281646  0.029317  1.562404\n",
      "oregon  0.895839 -0.887041 -1.271798\n"
     ]
    }
   ],
   "source": [
    "#making a data frame\n",
    "frame =pd.DataFrame(np.random.randn(4,3),columns =list('bde'),\n",
    "                                                       index = ['utah','ohio','texas','oregon'])\n",
    "print(frame)"
   ]
  },
  {
   "cell_type": "code",
   "execution_count": 79,
   "metadata": {},
   "outputs": [
    {
     "name": "stdout",
     "output_type": "stream",
     "text": [
      "utah      0.939915\n",
      "ohio      0.343771\n",
      "texas     0.029317\n",
      "oregon    0.887041\n",
      "Name: d, dtype: float64\n"
     ]
    }
   ],
   "source": [
    "#.abs convert all - values to + values :\n",
    "print(frame['d'].abs())"
   ]
  },
  {
   "cell_type": "code",
   "execution_count": 80,
   "metadata": {},
   "outputs": [
    {
     "name": "stdout",
     "output_type": "stream",
     "text": [
      "               b         d         e\n",
      "utah    0.299094  0.939915  0.461589\n",
      "ohio    0.573112  0.343771  1.444259\n",
      "texas   0.281646  0.029317  1.562404\n",
      "oregon  0.895839  0.887041  1.271798\n"
     ]
    }
   ],
   "source": [
    "#or for all values\n",
    "print(np.abs(frame))"
   ]
  },
  {
   "cell_type": "code",
   "execution_count": 81,
   "metadata": {},
   "outputs": [
    {
     "name": "stdout",
     "output_type": "stream",
     "text": [
      "-0.8870414979442883\n"
     ]
    }
   ],
   "source": [
    "print(frame['d'].min()) #for finding minimum value"
   ]
  },
  {
   "cell_type": "code",
   "execution_count": 82,
   "metadata": {},
   "outputs": [
    {
     "name": "stdout",
     "output_type": "stream",
     "text": [
      "0.9399153318755535\n"
     ]
    }
   ],
   "source": [
    "print(frame['d'].max()) #for finding maximum value"
   ]
  },
  {
   "cell_type": "code",
   "execution_count": 83,
   "metadata": {},
   "outputs": [
    {
     "name": "stdout",
     "output_type": "stream",
     "text": [
      "1.8269568298198418\n"
     ]
    }
   ],
   "source": [
    "print(frame['d'].max() - frame['d'].min()) #for finding maximum - minimum value"
   ]
  },
  {
   "cell_type": "code",
   "execution_count": 84,
   "metadata": {},
   "outputs": [
    {
     "name": "stdout",
     "output_type": "stream",
     "text": [
      "b    1.194933\n",
      "d    1.826957\n",
      "e    3.006663\n",
      "dtype: float64 <class 'pandas.core.series.Series'>\n"
     ]
    }
   ],
   "source": [
    "#making a unnamed function using lambda :\n",
    "f = lambda x : x.max() - x.min()\n",
    "#applying this function on frame (dataframe) that we had made :\n",
    "df = frame.apply(f)\n",
    "print(df ,type(df))\n",
    "#this function is getting data column wise and calculating max and min value of each column into x and storing it in F varfunc and then applying on frame and printing it .\n"
   ]
  },
  {
   "cell_type": "code",
   "execution_count": 85,
   "metadata": {},
   "outputs": [
    {
     "name": "stdout",
     "output_type": "stream",
     "text": [
      "utah      1.239009\n",
      "ohio      2.017371\n",
      "texas     1.844050\n",
      "oregon    2.167637\n",
      "dtype: float64 <class 'pandas.core.series.Series'>\n"
     ]
    }
   ],
   "source": [
    "#similary we can do it for rows also by just changing the axis = 1 \n",
    "df = frame.apply(f,axis =1)\n",
    "print(df,type(df))\n",
    "# u can see in the output that its a series type object . why ? i dont know :)"
   ]
  },
  {
   "cell_type": "code",
   "execution_count": 86,
   "metadata": {},
   "outputs": [
    {
     "name": "stdout",
     "output_type": "stream",
     "text": [
      "            b         d         e\n",
      "min  0.895839  0.939915  1.562404\n",
      "max -0.299094 -0.887041 -1.444259 <class 'pandas.core.frame.DataFrame'>\n"
     ]
    }
   ],
   "source": [
    "#we can also do the same work like we do in python func:\n",
    "def f(x):\n",
    "    minimum = x.min()\n",
    "    maximum = x.max()\n",
    "    return pd.Series([maximum,minimum] ,index = ['min','max'])\n",
    "#applying the func on data frame :\n",
    "df = frame.apply(f)\n",
    "print(df,type(df))\n",
    "#as u can see the return object is a data frame not a series because there are more than one col in the output."
   ]
  },
  {
   "cell_type": "code",
   "execution_count": 87,
   "metadata": {},
   "outputs": [
    {
     "name": "stdout",
     "output_type": "stream",
     "text": [
      "            b         d         e\n",
      "min  0.895839  0.939915  1.562404\n",
      "max -0.299094 -0.887041 -1.444259 <class 'pandas.core.frame.DataFrame'>\n"
     ]
    }
   ],
   "source": [
    "#u can also do it directly withour storing it in a var :\n",
    "def f(x):\n",
    "    return pd.Series([x.max(), x.min()] ,index = ['min','max'])\n",
    "\n",
    "df = frame.apply(f)\n",
    "print(df,type(df))"
   ]
  },
  {
   "cell_type": "code",
   "execution_count": 88,
   "metadata": {},
   "outputs": [
    {
     "name": "stdout",
     "output_type": "stream",
     "text": [
      "       d  a  b  c\n",
      "three  0  1  2  3\n",
      "one    4  5  6  7\n"
     ]
    }
   ],
   "source": [
    "#Sorting and Raning :\n",
    "df = pd.DataFrame(np.arange(8).reshape(2,4),index = ['three' ,'one'],columns = ['d','a','b','c'])\n",
    "print(df)"
   ]
  },
  {
   "cell_type": "code",
   "execution_count": 89,
   "metadata": {},
   "outputs": [
    {
     "data": {
      "text/html": [
       "<div>\n",
       "<style scoped>\n",
       "    .dataframe tbody tr th:only-of-type {\n",
       "        vertical-align: middle;\n",
       "    }\n",
       "\n",
       "    .dataframe tbody tr th {\n",
       "        vertical-align: top;\n",
       "    }\n",
       "\n",
       "    .dataframe thead th {\n",
       "        text-align: right;\n",
       "    }\n",
       "</style>\n",
       "<table border=\"1\" class=\"dataframe\">\n",
       "  <thead>\n",
       "    <tr style=\"text-align: right;\">\n",
       "      <th></th>\n",
       "      <th>d</th>\n",
       "      <th>a</th>\n",
       "      <th>b</th>\n",
       "      <th>c</th>\n",
       "    </tr>\n",
       "  </thead>\n",
       "  <tbody>\n",
       "    <tr>\n",
       "      <td>one</td>\n",
       "      <td>4</td>\n",
       "      <td>5</td>\n",
       "      <td>6</td>\n",
       "      <td>7</td>\n",
       "    </tr>\n",
       "    <tr>\n",
       "      <td>three</td>\n",
       "      <td>0</td>\n",
       "      <td>1</td>\n",
       "      <td>2</td>\n",
       "      <td>3</td>\n",
       "    </tr>\n",
       "  </tbody>\n",
       "</table>\n",
       "</div>"
      ],
      "text/plain": [
       "       d  a  b  c\n",
       "one    4  5  6  7\n",
       "three  0  1  2  3"
      ]
     },
     "execution_count": 89,
     "metadata": {},
     "output_type": "execute_result"
    }
   ],
   "source": [
    "df.sort_index() #sorting values according to their index "
   ]
  },
  {
   "cell_type": "code",
   "execution_count": 90,
   "metadata": {},
   "outputs": [
    {
     "data": {
      "text/html": [
       "<div>\n",
       "<style scoped>\n",
       "    .dataframe tbody tr th:only-of-type {\n",
       "        vertical-align: middle;\n",
       "    }\n",
       "\n",
       "    .dataframe tbody tr th {\n",
       "        vertical-align: top;\n",
       "    }\n",
       "\n",
       "    .dataframe thead th {\n",
       "        text-align: right;\n",
       "    }\n",
       "</style>\n",
       "<table border=\"1\" class=\"dataframe\">\n",
       "  <thead>\n",
       "    <tr style=\"text-align: right;\">\n",
       "      <th></th>\n",
       "      <th>d</th>\n",
       "      <th>c</th>\n",
       "      <th>b</th>\n",
       "      <th>a</th>\n",
       "    </tr>\n",
       "  </thead>\n",
       "  <tbody>\n",
       "    <tr>\n",
       "      <td>three</td>\n",
       "      <td>0</td>\n",
       "      <td>3</td>\n",
       "      <td>2</td>\n",
       "      <td>1</td>\n",
       "    </tr>\n",
       "    <tr>\n",
       "      <td>one</td>\n",
       "      <td>4</td>\n",
       "      <td>7</td>\n",
       "      <td>6</td>\n",
       "      <td>5</td>\n",
       "    </tr>\n",
       "  </tbody>\n",
       "</table>\n",
       "</div>"
      ],
      "text/plain": [
       "       d  c  b  a\n",
       "three  0  3  2  1\n",
       "one    4  7  6  5"
      ]
     },
     "execution_count": 90,
     "metadata": {},
     "output_type": "execute_result"
    }
   ],
   "source": [
    "df.sort_index(axis = 1 ,ascending = False) #sorting values using their col and in descending order "
   ]
  },
  {
   "cell_type": "code",
   "execution_count": 91,
   "metadata": {},
   "outputs": [
    {
     "data": {
      "text/html": [
       "<div>\n",
       "<style scoped>\n",
       "    .dataframe tbody tr th:only-of-type {\n",
       "        vertical-align: middle;\n",
       "    }\n",
       "\n",
       "    .dataframe tbody tr th {\n",
       "        vertical-align: top;\n",
       "    }\n",
       "\n",
       "    .dataframe thead th {\n",
       "        text-align: right;\n",
       "    }\n",
       "</style>\n",
       "<table border=\"1\" class=\"dataframe\">\n",
       "  <thead>\n",
       "    <tr style=\"text-align: right;\">\n",
       "      <th></th>\n",
       "      <th>d</th>\n",
       "      <th>a</th>\n",
       "      <th>b</th>\n",
       "      <th>c</th>\n",
       "    </tr>\n",
       "  </thead>\n",
       "  <tbody>\n",
       "    <tr>\n",
       "      <td>one</td>\n",
       "      <td>4</td>\n",
       "      <td>5</td>\n",
       "      <td>6</td>\n",
       "      <td>7</td>\n",
       "    </tr>\n",
       "    <tr>\n",
       "      <td>three</td>\n",
       "      <td>0</td>\n",
       "      <td>1</td>\n",
       "      <td>2</td>\n",
       "      <td>3</td>\n",
       "    </tr>\n",
       "  </tbody>\n",
       "</table>\n",
       "</div>"
      ],
      "text/plain": [
       "       d  a  b  c\n",
       "one    4  5  6  7\n",
       "three  0  1  2  3"
      ]
     },
     "execution_count": 91,
     "metadata": {},
     "output_type": "execute_result"
    }
   ],
   "source": [
    "#in sort function default are : axis = 0 , ascending = True \n",
    "#now sorting by values\n",
    "df.sort_values(by = 'd'  , ascending = False) #here by shows u how to sort if u pass a col it would sort it according to col "
   ]
  },
  {
   "cell_type": "code",
   "execution_count": 92,
   "metadata": {},
   "outputs": [],
   "source": [
    "# u cant sort it by = row name  , it would give error"
   ]
  },
  {
   "cell_type": "code",
   "execution_count": 93,
   "metadata": {},
   "outputs": [
    {
     "name": "stdout",
     "output_type": "stream",
     "text": [
      "         d    a    b    c\n",
      "three  2.0  2.0  2.0  2.0\n",
      "one    1.0  1.0  1.0  1.0\n"
     ]
    }
   ],
   "source": [
    "#ranking : means what data would come first and then next and next ....\n",
    "print(df.rank(ascending = False ,method = 'max') )"
   ]
  },
  {
   "cell_type": "code",
   "execution_count": 94,
   "metadata": {},
   "outputs": [
    {
     "name": "stdout",
     "output_type": "stream",
     "text": [
      "         d    a    b    c\n",
      "three  2.0  2.0  2.0  2.0\n",
      "one    1.0  1.0  1.0  1.0\n"
     ]
    }
   ],
   "source": [
    "print(df.rank(ascending = False ,method = 'min') )"
   ]
  },
  {
   "cell_type": "code",
   "execution_count": 95,
   "metadata": {},
   "outputs": [
    {
     "name": "stdout",
     "output_type": "stream",
     "text": [
      "         d    a    b    c\n",
      "three  1.0  2.0  3.0  4.0\n",
      "one    1.0  2.0  3.0  4.0\n"
     ]
    }
   ],
   "source": [
    "print(df.rank(axis = 'columns') )"
   ]
  },
  {
   "cell_type": "code",
   "execution_count": 96,
   "metadata": {},
   "outputs": [
    {
     "data": {
      "text/plain": [
       "d     4\n",
       "a     6\n",
       "b     8\n",
       "c    10\n",
       "dtype: int64"
      ]
     },
     "execution_count": 96,
     "metadata": {},
     "output_type": "execute_result"
    }
   ],
   "source": [
    "df.sum() #row wise"
   ]
  },
  {
   "cell_type": "code",
   "execution_count": 97,
   "metadata": {},
   "outputs": [
    {
     "data": {
      "text/plain": [
       "three     6\n",
       "one      22\n",
       "dtype: int64"
      ]
     },
     "execution_count": 97,
     "metadata": {},
     "output_type": "execute_result"
    }
   ],
   "source": [
    "df.sum(axis = 'columns')"
   ]
  },
  {
   "cell_type": "code",
   "execution_count": 98,
   "metadata": {},
   "outputs": [],
   "source": [
    "#skipna = false basically means include the naN values in n(total no)\n",
    "#remember : it doesnt effect the sum func but it effects the mean( func )\n",
    "x = df.mean(axis = 'columns' , skipna =False)"
   ]
  },
  {
   "cell_type": "code",
   "execution_count": 99,
   "metadata": {},
   "outputs": [
    {
     "name": "stdout",
     "output_type": "stream",
     "text": [
      "three    1.5\n",
      "one      5.5\n",
      "dtype: float64\n"
     ]
    }
   ],
   "source": [
    "print(x)"
   ]
  },
  {
   "cell_type": "code",
   "execution_count": 100,
   "metadata": {},
   "outputs": [
    {
     "name": "stdout",
     "output_type": "stream",
     "text": [
      "       d  a  b  c\n",
      "three  0  1  2  3\n",
      "one    4  5  6  7\n"
     ]
    }
   ],
   "source": [
    "#unique values : means the values which are duplicate will only be count once : mean if 1.4 exist three times is data uniques would show it only once.\n",
    "print(df)\n"
   ]
  },
  {
   "cell_type": "code",
   "execution_count": 101,
   "metadata": {},
   "outputs": [
    {
     "data": {
      "text/plain": [
       "array([0, 4], dtype=int64)"
      ]
     },
     "execution_count": 101,
     "metadata": {},
     "output_type": "execute_result"
    }
   ],
   "source": [
    "df['d'].unique()"
   ]
  },
  {
   "cell_type": "code",
   "execution_count": 102,
   "metadata": {},
   "outputs": [
    {
     "data": {
      "text/plain": [
       "6    1\n",
       "2    1\n",
       "Name: b, dtype: int64"
      ]
     },
     "execution_count": 102,
     "metadata": {},
     "output_type": "execute_result"
    }
   ],
   "source": [
    "df['b'].value_counts()"
   ]
  },
  {
   "cell_type": "code",
   "execution_count": 107,
   "metadata": {},
   "outputs": [
    {
     "name": "stdout",
     "output_type": "stream",
     "text": [
      "          one  two  three  four\n",
      "ohio        0    1      2     3\n",
      "colorado    4    5      6     7\n",
      "utah        8    9     10    11\n",
      "newyork    12   13     14    15\n",
      "\n",
      "\n",
      "two      5\n",
      "three    6\n",
      "Name: colorado, dtype: int32\n"
     ]
    }
   ],
   "source": [
    "data_df = pd.DataFrame(np.arange(16).reshape((4,4)),\n",
    "                       index = ['ohio','colorado','utah','newyork'],\n",
    "                       columns = ['one','two','three','four'])\n",
    "#The loc() function is used to access a group of rows and columns by label(s) or a boolean array. . loc[] is primarily label based, but may also be used with a boolean array.\n",
    "print(data_df)\n",
    "print('\\n')\n",
    "print(data_df.loc['colorado' , ['two','three']])"
   ]
  },
  {
   "cell_type": "code",
   "execution_count": 113,
   "metadata": {},
   "outputs": [
    {
     "name": "stdout",
     "output_type": "stream",
     "text": [
      "one      4\n",
      "two      5\n",
      "three    6\n",
      "four     7\n",
      "Name: colorado, dtype: int32\n"
     ]
    }
   ],
   "source": [
    "print(data_df.loc['colorado' ]) # u cant declare row first always declare col first"
   ]
  },
  {
   "cell_type": "code",
   "execution_count": 117,
   "metadata": {},
   "outputs": [
    {
     "name": "stdout",
     "output_type": "stream",
     "text": [
      "          one  two  three  four\n",
      "colorado    4    5      6     7\n",
      "utah        8    9     10    11\n",
      "ohio        0    1      2     3\n"
     ]
    }
   ],
   "source": [
    "#if u want to access two or more rows then give it array notation\n",
    "print(data_df.loc[['colorado' , 'utah' , 'ohio']])"
   ]
  },
  {
   "cell_type": "code",
   "execution_count": 118,
   "metadata": {
    "slideshow": {
     "slide_type": "slide"
    }
   },
   "outputs": [
    {
     "name": "stdout",
     "output_type": "stream",
     "text": [
      "four    11\n",
      "one      8\n",
      "two      9\n",
      "Name: utah, dtype: int32\n"
     ]
    }
   ],
   "source": [
    "#.iloc is same as loc but the major difference is we pass interger value in it \n",
    "#instead of name of labels and col\n",
    "print(data_df.iloc[2,[3,0,1]]) #using index num , slicing is done as this also"
   ]
  },
  {
   "cell_type": "code",
   "execution_count": 120,
   "metadata": {},
   "outputs": [
    {
     "name": "stdout",
     "output_type": "stream",
     "text": [
      "          two  three\n",
      "colorado    5      6\n",
      "utah        9     10\n",
      "newyork    13     14\n"
     ]
    }
   ],
   "source": [
    "#slcicing :\n",
    "print(data_df.iloc[1: , 1:3]) # aek kam layega "
   ]
  },
  {
   "cell_type": "code",
   "execution_count": 121,
   "metadata": {},
   "outputs": [
    {
     "name": "stdout",
     "output_type": "stream",
     "text": [
      "          one  two  three  four\n",
      "ohio        0    1      2     3\n",
      "colorado    4    5      6     7\n"
     ]
    }
   ],
   "source": [
    "print(data_df.iloc[:2])"
   ]
  },
  {
   "cell_type": "markdown",
   "metadata": {},
   "source": [
    "# Arithmetic and data alignment :\n"
   ]
  },
  {
   "cell_type": "code",
   "execution_count": 128,
   "metadata": {
    "scrolled": true
   },
   "outputs": [
    {
     "name": "stdout",
     "output_type": "stream",
     "text": [
      "            b    c    d\n",
      "ohio      0.0  1.0  2.0\n",
      "texas     3.0  4.0  5.0\n",
      "colarado  6.0  7.0  8.0\n",
      "          b     d     e\n",
      "utah    0.0   1.0   2.0\n",
      "ohio    3.0   4.0   5.0\n",
      "texas   6.0   7.0   8.0\n",
      "oregon  9.0  10.0  11.0\n",
      "\n",
      "             b   c     d   e\n",
      "colarado  NaN NaN   NaN NaN\n",
      "ohio      3.0 NaN   6.0 NaN\n",
      "oregon    NaN NaN   NaN NaN\n",
      "texas     9.0 NaN  12.0 NaN\n",
      "utah      NaN NaN   NaN NaN\n"
     ]
    }
   ],
   "source": [
    "#when we add two dataframe they are added by their indexes and col :\n",
    "df1 = pd.DataFrame(np.arange(9.0).reshape((3,3)),columns = list('bcd'),\n",
    "                   index = ['ohio','texas','colarado'])\n",
    "df2 = pd.DataFrame(np.arange(12.0).reshape ((4,3)),\n",
    "                  columns = list('bde'),\n",
    "                  index = ['utah' ,'ohio','texas','oregon'])\n",
    "print(df1)\n",
    "print(df2)\n",
    "#applying plus operation between two dataframes :\n",
    "df3 = df1 +df2\n",
    "print(f'\\n {df3}') #the nan values are because pandas was unable to find their matching index "
   ]
  },
  {
   "cell_type": "code",
   "execution_count": 129,
   "metadata": {},
   "outputs": [],
   "source": [
    "#now your work is to fill this nan values with a num \n",
    "#choice of num is yours "
   ]
  },
  {
   "cell_type": "markdown",
   "metadata": {},
   "source": [
    "# Arithmetic method with fill values :\n",
    "when  we had a problem that index values doesnt match and nan values are created there are some methods form which we can avoid this nan values"
   ]
  },
  {
   "cell_type": "code",
   "execution_count": 130,
   "metadata": {},
   "outputs": [
    {
     "name": "stdout",
     "output_type": "stream",
     "text": [
      "            b   c     d   e\n",
      "colarado  NaN NaN   NaN NaN\n",
      "ohio      3.0 NaN   6.0 NaN\n",
      "oregon    NaN NaN   NaN NaN\n",
      "texas     9.0 NaN  12.0 NaN\n",
      "utah      NaN NaN   NaN NaN\n",
      "            b    c     d     e\n",
      "colarado  6.0  7.0   8.0   NaN\n",
      "ohio      3.0  1.0   6.0   5.0\n",
      "oregon    9.0  NaN  10.0  11.0\n",
      "texas     9.0  4.0  12.0   8.0\n",
      "utah      0.0  NaN   1.0   2.0\n"
     ]
    }
   ],
   "source": [
    "#so instead of using + we use add function and fill nan values with a num \n",
    "print(df3)\n",
    "df3 = df1.add(df2 ,fill_value = 0)\n",
    "\n",
    "print(df3) #there are still some nan values becaise they didnt find any zero to add with."
   ]
  },
  {
   "cell_type": "markdown",
   "metadata": {},
   "source": [
    "# Operations b/w dataframe and series:"
   ]
  },
  {
   "cell_type": "code",
   "execution_count": 134,
   "metadata": {},
   "outputs": [
    {
     "name": "stdout",
     "output_type": "stream",
     "text": [
      "using new series \n",
      " ------------\n",
      "Index(['b', 'd', 'e'], dtype='object') [1 2 3]\n",
      "\n",
      "           b     d     e\n",
      "utah    0.0   1.0   2.0\n",
      "ohio    3.0   4.0   5.0\n",
      "texas   6.0   7.0   8.0\n",
      "oregon  9.0  10.0  11.0\n",
      "          b    d    e\n",
      "utah   -1.0 -1.0 -1.0\n",
      "ohio    2.0  2.0  2.0\n",
      "texas   5.0  5.0  5.0\n",
      "oregon  8.0  8.0  8.0\n"
     ]
    }
   ],
   "source": [
    "print('using new series \\n ------------')\n",
    "series = pd.Series([1,2,3],index =  list('bde'))\n",
    "print(series.index , series.values)\n",
    "frame = pd.DataFrame(np.arange(12.0).reshape ((4,3)),\n",
    "                  columns = list('bde'),\n",
    "                  index = ['utah' ,'ohio','texas','oregon'])\n",
    "print(f'\\n {frame}')\n",
    "print(frame - series)"
   ]
  },
  {
   "cell_type": "code",
   "execution_count": 135,
   "metadata": {},
   "outputs": [],
   "source": [
    "#each value of series would be done row wise \n",
    "#means dataframes columns name will be match with series index \n",
    "#because its row wise broadcasting operation\n"
   ]
  },
  {
   "cell_type": "code",
   "execution_count": 139,
   "metadata": {},
   "outputs": [
    {
     "name": "stdout",
     "output_type": "stream",
     "text": [
      "   ohio  texas  california\n",
      "a     0      1           2\n",
      "c     3      4           5\n",
      "d     6      7           8\n",
      "   texas  utah  california  ohio\n",
      "a      1   NaN           2     0\n",
      "c      4   NaN           5     3\n",
      "d      7   NaN           8     6\n"
     ]
    }
   ],
   "source": [
    "# columns name can be changed using reindex method :\n",
    "states = pd.DataFrame(np.arange(9).reshape(3,3),\n",
    "                     index = ['a','c','d']\n",
    "                     ,columns = ['ohio','texas','california'])\n",
    "print(states)\n",
    "newname = ['texas','utah','california','ohio']\n",
    "states = states.reindex(columns = newname)\n",
    "print(states)"
   ]
  },
  {
   "cell_type": "markdown",
   "metadata": {},
   "source": [
    "# Deleting data(row or column from data )\n"
   ]
  },
  {
   "cell_type": "code",
   "execution_count": 140,
   "metadata": {},
   "outputs": [
    {
     "name": "stdout",
     "output_type": "stream",
     "text": [
      "          one  two  three  four\n",
      "ohio        0    1      2     3\n",
      "colorado    4    5      6     7\n",
      "utah        8    9     10    11\n",
      "newyork    12   13     14    15 \n",
      "\n",
      "         one  two  three  four\n",
      "utah       8    9     10    11\n",
      "newyork   12   13     14    15\n"
     ]
    }
   ],
   "source": [
    "df = pd.DataFrame(np.arange(16).reshape((4,4)),\n",
    "                       index = ['ohio','colorado','utah','newyork'],\n",
    "                       columns = ['one','two','three','four'])\n",
    "print(df,'\\n')\n",
    "#dataframe.drop() method would return  a new dataframe without having deleted rows\n",
    "#so store it into a dataframe var or use inplace = True while droping rows or columns\n",
    "df.drop(['colorado','ohio'],inplace = True )\n",
    "print(df)"
   ]
  },
  {
   "cell_type": "code",
   "execution_count": 141,
   "metadata": {},
   "outputs": [
    {
     "name": "stdout",
     "output_type": "stream",
     "text": [
      "         one  three  four\n",
      "utah       8     10    11\n",
      "newyork   12     14    15\n"
     ]
    }
   ],
   "source": [
    "# u can also drop values using column by passing \n",
    "#axis =1 or axis = columns \n",
    "print(df.drop('two',axis = 1))"
   ]
  },
  {
   "cell_type": "code",
   "execution_count": 143,
   "metadata": {},
   "outputs": [
    {
     "name": "stdout",
     "output_type": "stream",
     "text": [
      "      one  two  three  four\n",
      "utah    8    9     10    11\n",
      "         one  two  three  four\n",
      "utah       8    9     10    11\n",
      "newyork   12   13     14    15\n"
     ]
    }
   ],
   "source": [
    "#delete newyork task :\n",
    "print(df.drop(['newyork']))\n",
    "print(df) #if inplace = False"
   ]
  },
  {
   "cell_type": "code",
   "execution_count": 145,
   "metadata": {},
   "outputs": [
    {
     "name": "stdout",
     "output_type": "stream",
     "text": [
      "None\n",
      "      one  two  three  four\n",
      "utah    8    9     10    11\n"
     ]
    }
   ],
   "source": [
    "print(df.drop(['newyork'],inplace = True ))\n",
    "print(df) #if inplace = True"
   ]
  },
  {
   "cell_type": "markdown",
   "metadata": {},
   "source": [
    "# indexing , selection and filtering :\n"
   ]
  },
  {
   "cell_type": "code",
   "execution_count": 147,
   "metadata": {},
   "outputs": [
    {
     "name": "stdout",
     "output_type": "stream",
     "text": [
      "          one  two  three  four\n",
      "ohio        0    1      2     3\n",
      "colorado    4    5      6     7\n",
      "utah        8    9     10    11\n",
      "newyork    12   13     14    15\n",
      "          one  three\n",
      "ohio        0      2\n",
      "colorado    4      6\n",
      "utah        8     10\n",
      "newyork    12     14\n"
     ]
    }
   ],
   "source": [
    "df = pd.DataFrame(np.arange(16).reshape((4,4)),\n",
    "                       index = ['ohio','colorado','utah','newyork'],\n",
    "                       columns = ['one','two','three','four'])\n",
    "print(df)\n",
    "print(df[['one','three']]) #printing two columns "
   ]
  },
  {
   "cell_type": "code",
   "execution_count": 148,
   "metadata": {},
   "outputs": [
    {
     "data": {
      "text/html": [
       "<div>\n",
       "<style scoped>\n",
       "    .dataframe tbody tr th:only-of-type {\n",
       "        vertical-align: middle;\n",
       "    }\n",
       "\n",
       "    .dataframe tbody tr th {\n",
       "        vertical-align: top;\n",
       "    }\n",
       "\n",
       "    .dataframe thead th {\n",
       "        text-align: right;\n",
       "    }\n",
       "</style>\n",
       "<table border=\"1\" class=\"dataframe\">\n",
       "  <thead>\n",
       "    <tr style=\"text-align: right;\">\n",
       "      <th></th>\n",
       "      <th>one</th>\n",
       "      <th>two</th>\n",
       "      <th>three</th>\n",
       "      <th>four</th>\n",
       "    </tr>\n",
       "  </thead>\n",
       "  <tbody>\n",
       "    <tr>\n",
       "      <td>utah</td>\n",
       "      <td>8</td>\n",
       "      <td>9</td>\n",
       "      <td>10</td>\n",
       "      <td>11</td>\n",
       "    </tr>\n",
       "    <tr>\n",
       "      <td>newyork</td>\n",
       "      <td>12</td>\n",
       "      <td>13</td>\n",
       "      <td>14</td>\n",
       "      <td>15</td>\n",
       "    </tr>\n",
       "  </tbody>\n",
       "</table>\n",
       "</div>"
      ],
      "text/plain": [
       "         one  two  three  four\n",
       "utah       8    9     10    11\n",
       "newyork   12   13     14    15"
      ]
     },
     "execution_count": 148,
     "metadata": {},
     "output_type": "execute_result"
    }
   ],
   "source": [
    "#selecting rows like numpy \n",
    "df[2:]"
   ]
  },
  {
   "cell_type": "code",
   "execution_count": 151,
   "metadata": {},
   "outputs": [
    {
     "name": "stdout",
     "output_type": "stream",
     "text": [
      "0      blue\n",
      "3    purple\n",
      "6    yellow\n",
      "dtype: object\n",
      "\n",
      " 0      blue\n",
      "1      blue\n",
      "2      blue\n",
      "3    purple\n",
      "4    purple\n",
      "5    purple\n",
      "6    yellow\n",
      "7    yellow\n",
      "8    yellow\n",
      "dtype: object\n"
     ]
    }
   ],
   "source": [
    "#re-index method :\n",
    "obj = pd.Series(['blue','purple','yellow'],\n",
    "               index = [0,3,6])\n",
    "print(obj)\n",
    "obj = obj.reindex(range(9),method = 'ffill') #it would ffill the values\n",
    "print('\\n' ,obj)"
   ]
  },
  {
   "cell_type": "code",
   "execution_count": 152,
   "metadata": {},
   "outputs": [
    {
     "name": "stdout",
     "output_type": "stream",
     "text": [
      "\n",
      " 0      blue\n",
      "1      blue\n",
      "2      blue\n",
      "3    purple\n",
      "4    purple\n",
      "5    purple\n",
      "6    yellow\n",
      "7    yellow\n",
      "8    yellow\n",
      "dtype: object\n"
     ]
    }
   ],
   "source": [
    "obj = obj.reindex(range(9),method = 'bfill') #it would backwardfill the values\n",
    "print('\\n' ,obj)"
   ]
  },
  {
   "cell_type": "code",
   "execution_count": 157,
   "metadata": {},
   "outputs": [
    {
     "data": {
      "text/plain": [
       "0       blue\n",
       "1       blue\n",
       "2       blue\n",
       "3     purple\n",
       "4     purple\n",
       "5     purple\n",
       "6     yellow\n",
       "7     yellow\n",
       "8     yellow\n",
       "9        NaN\n",
       "10       NaN\n",
       "11       NaN\n",
       "12       NaN\n",
       "13       NaN\n",
       "dtype: object"
      ]
     },
     "execution_count": 157,
     "metadata": {},
     "output_type": "execute_result"
    }
   ],
   "source": [
    "obj.reindex(range(0,14),method = 'bfill') #remember backward fill is not go for changing the end values"
   ]
  },
  {
   "cell_type": "code",
   "execution_count": 158,
   "metadata": {},
   "outputs": [],
   "source": [
    "#remember : reindex is a method of a data frame and it has a parameter which name is 'method' and ffill is used to fill nan values "
   ]
  },
  {
   "cell_type": "code",
   "execution_count": null,
   "metadata": {},
   "outputs": [],
   "source": []
  }
 ],
 "metadata": {
  "kernelspec": {
   "display_name": "Python 3",
   "language": "python",
   "name": "python3"
  },
  "language_info": {
   "codemirror_mode": {
    "name": "ipython",
    "version": 3
   },
   "file_extension": ".py",
   "mimetype": "text/x-python",
   "name": "python",
   "nbconvert_exporter": "python",
   "pygments_lexer": "ipython3",
   "version": "3.7.4"
  }
 },
 "nbformat": 4,
 "nbformat_minor": 2
}
