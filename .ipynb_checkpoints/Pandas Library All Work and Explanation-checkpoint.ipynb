{
 "cells": [
  {
   "cell_type": "markdown",
   "metadata": {},
   "source": [
    "# Pandas introduction : \n",
    "pandas basically num py ki hi aek libraray hai jis me kuch zyada advaatages hain aur ye back end pr numpy ki library hi ko use krr rahi hoti for multi dimentional array but is ka sb se bara benefit yeh hai ke ye data ko data dataframes me represen krti hai jis me ap column ki heading bbhi define kr skty hai aur har row ke lye label bhi define kr skty hain ."
   ]
  },
  {
   "cell_type": "code",
   "execution_count": 1,
   "metadata": {},
   "outputs": [],
   "source": [
    "#when we work on ai projects we need to manage multidimensional data organized and well managed data is a req for all steps like training , validation testing and prediction ."
   ]
  },
  {
   "cell_type": "code",
   "execution_count": 2,
   "metadata": {},
   "outputs": [],
   "source": [
    "import pandas as pd "
   ]
  },
  {
   "cell_type": "markdown",
   "metadata": {},
   "source": [
    "# Series object:\n",
    "part:1"
   ]
  },
  {
   "cell_type": "code",
   "execution_count": 3,
   "metadata": {},
   "outputs": [
    {
     "name": "stdout",
     "output_type": "stream",
     "text": [
      "0    4\n",
      "1    7\n",
      "2   -5\n",
      "3    3\n",
      "dtype: int64\n"
     ]
    }
   ],
   "source": [
    "obj = pd.Series([4,7,-5,3])\n",
    "print(obj)"
   ]
  },
  {
   "cell_type": "code",
   "execution_count": 4,
   "metadata": {},
   "outputs": [
    {
     "name": "stdout",
     "output_type": "stream",
     "text": [
      "[ 4  7 -5  3]\n"
     ]
    }
   ],
   "source": [
    "#pandas series has two things in one object :\n",
    "#1 : Values \n",
    "#2: index\n",
    "print(obj.values)"
   ]
  },
  {
   "cell_type": "code",
   "execution_count": 5,
   "metadata": {},
   "outputs": [
    {
     "name": "stdout",
     "output_type": "stream",
     "text": [
      "RangeIndex(start=0, stop=4, step=1)\n"
     ]
    }
   ],
   "source": [
    "print(obj.index) #startinig from zero and ending on 4 and increment by 1 "
   ]
  },
  {
   "cell_type": "code",
   "execution_count": 6,
   "metadata": {},
   "outputs": [],
   "source": [
    "#part :02"
   ]
  },
  {
   "cell_type": "code",
   "execution_count": 7,
   "metadata": {},
   "outputs": [],
   "source": [
    "sales = pd.Series([100,200,300,400] , index = [\"jan\",\"frb\",\"mar\",\"apr\"])"
   ]
  },
  {
   "cell_type": "code",
   "execution_count": 8,
   "metadata": {},
   "outputs": [
    {
     "name": "stdout",
     "output_type": "stream",
     "text": [
      "jan    100\n",
      "frb    200\n",
      "mar    300\n",
      "apr    400\n",
      "dtype: int64\n"
     ]
    }
   ],
   "source": [
    "print(sales)"
   ]
  },
  {
   "cell_type": "code",
   "execution_count": 9,
   "metadata": {},
   "outputs": [],
   "source": [
    "#part : 03"
   ]
  },
  {
   "cell_type": "code",
   "execution_count": 10,
   "metadata": {},
   "outputs": [
    {
     "name": "stdout",
     "output_type": "stream",
     "text": [
      "[100 200 300 400]\n"
     ]
    }
   ],
   "source": [
    "print(sales.values)"
   ]
  },
  {
   "cell_type": "code",
   "execution_count": 11,
   "metadata": {},
   "outputs": [
    {
     "name": "stdout",
     "output_type": "stream",
     "text": [
      "Index(['jan', 'frb', 'mar', 'apr'], dtype='object')\n"
     ]
    }
   ],
   "source": [
    "print(sales.index) #when pandas feel a complex data to it declared this data as \"object\" data type .object : is a datatype in which u can store any kind of data .i.e : float int string whatwver u want .\n"
   ]
  },
  {
   "cell_type": "code",
   "execution_count": 12,
   "metadata": {},
   "outputs": [],
   "source": [
    "#if i want to declare name :\n",
    "sales = pd.Series([100,200,300,400] , index = [\"jan\",\"frb\",\"mar\",\"apr\"],name = \"4 month sales\")"
   ]
  },
  {
   "cell_type": "code",
   "execution_count": 13,
   "metadata": {},
   "outputs": [
    {
     "name": "stdout",
     "output_type": "stream",
     "text": [
      "jan    100\n",
      "frb    200\n",
      "mar    300\n",
      "apr    400\n",
      "Name: 4 month sales, dtype: int64\n"
     ]
    }
   ],
   "source": [
    "print(sales)"
   ]
  },
  {
   "cell_type": "code",
   "execution_count": 14,
   "metadata": {},
   "outputs": [],
   "source": [
    "#part :\"04\":"
   ]
  },
  {
   "cell_type": "code",
   "execution_count": 15,
   "metadata": {},
   "outputs": [],
   "source": [
    "#we can declare series name too , this name would help us when we would merge our series with data frame it would make this name :\n",
    "#as a column header of the data frame.\n",
    "#ex 01 : create a canteen record of a week that how many sandwitches are sold in a week .\n",
    "canteen_data = pd.Series([150,200,100,400,100,150,170],index = [\"mon\",\"tue\",\"wed\",\"thu\",\"fri\",\"sat\",\"sun\"],name = \"sandwiches sold price\")"
   ]
  },
  {
   "cell_type": "code",
   "execution_count": 16,
   "metadata": {},
   "outputs": [
    {
     "name": "stdout",
     "output_type": "stream",
     "text": [
      "mon    150\n",
      "tue    200\n",
      "wed    100\n",
      "thu    400\n",
      "fri    100\n",
      "sat    150\n",
      "sun    170\n",
      "Name: sandwiches sold price, dtype: int64\n"
     ]
    }
   ],
   "source": [
    "print(canteen_data)"
   ]
  },
  {
   "cell_type": "code",
   "execution_count": 17,
   "metadata": {},
   "outputs": [
    {
     "name": "stdout",
     "output_type": "stream",
     "text": [
      "200\n"
     ]
    }
   ],
   "source": [
    "print(canteen_data[1])"
   ]
  },
  {
   "cell_type": "code",
   "execution_count": 18,
   "metadata": {},
   "outputs": [
    {
     "name": "stdout",
     "output_type": "stream",
     "text": [
      "150\n"
     ]
    }
   ],
   "source": [
    "print(canteen_data[\"mon\"]) #from index"
   ]
  },
  {
   "cell_type": "code",
   "execution_count": 19,
   "metadata": {},
   "outputs": [
    {
     "name": "stdout",
     "output_type": "stream",
     "text": [
      "thu    400\n",
      "sat    150\n",
      "sun    170\n",
      "Name: sandwiches sold price, dtype: int64\n"
     ]
    }
   ],
   "source": [
    "#for extracting multiple value from a series :\n",
    "print(canteen_data[ [3,5,6]])"
   ]
  },
  {
   "cell_type": "code",
   "execution_count": 20,
   "metadata": {},
   "outputs": [
    {
     "name": "stdout",
     "output_type": "stream",
     "text": [
      "mon    150\n",
      "wed    100\n",
      "sun    170\n",
      "Name: sandwiches sold price, dtype: int64\n"
     ]
    }
   ],
   "source": [
    "#u had to pass two large bracket and enclose the values in the form of an arrau had to give array notation .\n",
    "print(canteen_data[[\"mon\",\"wed\",\"sun\"]])"
   ]
  },
  {
   "cell_type": "code",
   "execution_count": 21,
   "metadata": {},
   "outputs": [
    {
     "name": "stdout",
     "output_type": "stream",
     "text": [
      "mon     True\n",
      "tue     True\n",
      "wed    False\n",
      "thu     True\n",
      "fri    False\n",
      "sat     True\n",
      "sun     True\n",
      "Name: sandwiches sold price, dtype: bool\n"
     ]
    }
   ],
   "source": [
    "print(canteen_data >100) #return boolean values ."
   ]
  },
  {
   "cell_type": "code",
   "execution_count": 22,
   "metadata": {},
   "outputs": [
    {
     "name": "stdout",
     "output_type": "stream",
     "text": [
      "tue    200\n",
      "thu    400\n",
      "sun    170\n",
      "Name: sandwiches sold price, dtype: int64\n"
     ]
    }
   ],
   "source": [
    "#and for getting original values use :\n",
    "print(canteen_data[canteen_data >150])"
   ]
  },
  {
   "cell_type": "code",
   "execution_count": 23,
   "metadata": {},
   "outputs": [
    {
     "data": {
      "text/plain": [
       "mon     450\n",
       "tue     600\n",
       "wed     300\n",
       "thu    1200\n",
       "fri     300\n",
       "sat     450\n",
       "sun     510\n",
       "Name: sandwiches sold price, dtype: int64"
      ]
     },
     "execution_count": 23,
     "metadata": {},
     "output_type": "execute_result"
    }
   ],
   "source": [
    "canteen_data * 3"
   ]
  },
  {
   "cell_type": "code",
   "execution_count": 24,
   "metadata": {},
   "outputs": [
    {
     "name": "stdout",
     "output_type": "stream",
     "text": [
      "mon    150\n",
      "tue    200\n",
      "wed    100\n",
      "thu    400\n",
      "fri    100\n",
      "sat    150\n",
      "sun    170\n",
      "Name: sandwiches sold price, dtype: int64\n"
     ]
    }
   ],
   "source": [
    "print(canteen_data)"
   ]
  },
  {
   "cell_type": "code",
   "execution_count": 25,
   "metadata": {},
   "outputs": [],
   "source": [
    "canteen_data = canteen_data * 3"
   ]
  },
  {
   "cell_type": "code",
   "execution_count": 26,
   "metadata": {},
   "outputs": [
    {
     "data": {
      "text/plain": [
       "mon     450\n",
       "tue     600\n",
       "wed     300\n",
       "thu    1200\n",
       "fri     300\n",
       "sat     450\n",
       "sun     510\n",
       "Name: sandwiches sold price, dtype: int64"
      ]
     },
     "execution_count": 26,
     "metadata": {},
     "output_type": "execute_result"
    }
   ],
   "source": [
    "canteen_data"
   ]
  },
  {
   "cell_type": "code",
   "execution_count": 27,
   "metadata": {},
   "outputs": [],
   "source": [
    "canteen_data = canteen_data / 3 #it return float values"
   ]
  },
  {
   "cell_type": "code",
   "execution_count": 28,
   "metadata": {},
   "outputs": [
    {
     "data": {
      "text/plain": [
       "mon    150.0\n",
       "tue    200.0\n",
       "wed    100.0\n",
       "thu    400.0\n",
       "fri    100.0\n",
       "sat    150.0\n",
       "sun    170.0\n",
       "Name: sandwiches sold price, dtype: float64"
      ]
     },
     "execution_count": 28,
     "metadata": {},
     "output_type": "execute_result"
    }
   ],
   "source": [
    "canteen_data"
   ]
  },
  {
   "cell_type": "code",
   "execution_count": 29,
   "metadata": {},
   "outputs": [
    {
     "data": {
      "text/plain": [
       "True"
      ]
     },
     "execution_count": 29,
     "metadata": {},
     "output_type": "execute_result"
    }
   ],
   "source": [
    "#if i want to check a index is present in the series or not:\n",
    "#we had use this in func before in python to check that something is present in the list .\n",
    "\"mon\" in canteen_data"
   ]
  },
  {
   "cell_type": "code",
   "execution_count": 30,
   "metadata": {},
   "outputs": [
    {
     "data": {
      "text/plain": [
       "False"
      ]
     },
     "execution_count": 30,
     "metadata": {},
     "output_type": "execute_result"
    }
   ],
   "source": [
    "150.0 in canteen_data # u can check it only by using index not value"
   ]
  },
  {
   "cell_type": "code",
   "execution_count": 31,
   "metadata": {},
   "outputs": [],
   "source": [
    "import numpy as np "
   ]
  },
  {
   "cell_type": "code",
   "execution_count": 32,
   "metadata": {},
   "outputs": [],
   "source": [
    "arr = np.array([1,22,333,444,55,66])\n",
    "arr_index = np.array([\"a\",\"b\",\"c\",\"d\",\"e\",\"f\"])\n"
   ]
  },
  {
   "cell_type": "code",
   "execution_count": 33,
   "metadata": {},
   "outputs": [],
   "source": [
    "#for converting a data into series :\n",
    "ser = pd.Series(arr,arr_index)"
   ]
  },
  {
   "cell_type": "code",
   "execution_count": 34,
   "metadata": {},
   "outputs": [
    {
     "data": {
      "text/plain": [
       "a      1\n",
       "b     22\n",
       "c    333\n",
       "d    444\n",
       "e     55\n",
       "f     66\n",
       "dtype: int32"
      ]
     },
     "execution_count": 34,
     "metadata": {},
     "output_type": "execute_result"
    }
   ],
   "source": [
    "ser"
   ]
  },
  {
   "cell_type": "code",
   "execution_count": 35,
   "metadata": {},
   "outputs": [
    {
     "data": {
      "text/plain": [
       "{'sindh': 250000, 'balochistan': 12000, 'punjab': 40000, 'kpk': 45000}"
      ]
     },
     "execution_count": 35,
     "metadata": {},
     "output_type": "execute_result"
    }
   ],
   "source": [
    "#we can get data from a dic too :\n",
    "dic = {\"sindh\" : 250000,\"balochistan\" : 12000,\"punjab\":40000,\"kpk\":45000}\n",
    "dic"
   ]
  },
  {
   "cell_type": "code",
   "execution_count": 36,
   "metadata": {},
   "outputs": [],
   "source": [
    "tax_paid = pd.Series(dic) #it would use key as index of the series and values as values"
   ]
  },
  {
   "cell_type": "code",
   "execution_count": 37,
   "metadata": {},
   "outputs": [
    {
     "data": {
      "text/plain": [
       "sindh          250000\n",
       "balochistan     12000\n",
       "punjab          40000\n",
       "kpk             45000\n",
       "dtype: int64"
      ]
     },
     "execution_count": 37,
     "metadata": {},
     "output_type": "execute_result"
    }
   ],
   "source": [
    "tax_paid"
   ]
  },
  {
   "cell_type": "code",
   "execution_count": 38,
   "metadata": {},
   "outputs": [
    {
     "data": {
      "text/plain": [
       "Index(['sindh', 'balochistan', 'punjab', 'kpk'], dtype='object')"
      ]
     },
     "execution_count": 38,
     "metadata": {},
     "output_type": "execute_result"
    }
   ],
   "source": [
    "tax_paid.index"
   ]
  },
  {
   "cell_type": "code",
   "execution_count": 39,
   "metadata": {},
   "outputs": [],
   "source": [
    "#if u change the position of an index it value will not be changed like :\n",
    "#if i bring punjab on 0 index it value still remain the same \n",
    "tax_paid = pd.Series(dic, index = [\"punjab\",\"balochistan\",\"sindh\",\"kpk\"])"
   ]
  },
  {
   "cell_type": "code",
   "execution_count": 40,
   "metadata": {},
   "outputs": [
    {
     "data": {
      "text/plain": [
       "punjab          40000\n",
       "balochistan     12000\n",
       "sindh          250000\n",
       "kpk             45000\n",
       "dtype: int64"
      ]
     },
     "execution_count": 40,
     "metadata": {},
     "output_type": "execute_result"
    }
   ],
   "source": [
    "tax_paid # u can see punjab is still 40000 ."
   ]
  },
  {
   "cell_type": "markdown",
   "metadata": {},
   "source": [
    "# **u can get data into series from : **\n",
    "    *numpy array\n",
    "    *list\n",
    "    *and dictionary"
   ]
  },
  {
   "cell_type": "code",
   "execution_count": 41,
   "metadata": {},
   "outputs": [],
   "source": [
    "#if a value is missing(null) in a data so can we find that value :\n",
    "#we use pd.isnull(sername)\n"
   ]
  },
  {
   "cell_type": "code",
   "execution_count": 42,
   "metadata": {},
   "outputs": [],
   "source": [
    "tax_paid = pd.Series(dic, index = [\"punjab\",\"balochistan\",\"sindh\",\"kpk\" ,\"gilgit\"])"
   ]
  },
  {
   "cell_type": "code",
   "execution_count": 43,
   "metadata": {},
   "outputs": [
    {
     "data": {
      "text/plain": [
       "punjab          40000.0\n",
       "balochistan     12000.0\n",
       "sindh          250000.0\n",
       "kpk             45000.0\n",
       "gilgit              NaN\n",
       "dtype: float64"
      ]
     },
     "execution_count": 43,
     "metadata": {},
     "output_type": "execute_result"
    }
   ],
   "source": [
    "tax_paid"
   ]
  },
  {
   "cell_type": "code",
   "execution_count": 44,
   "metadata": {},
   "outputs": [
    {
     "data": {
      "text/plain": [
       "punjab         False\n",
       "balochistan    False\n",
       "sindh          False\n",
       "kpk            False\n",
       "gilgit          True\n",
       "dtype: bool"
      ]
     },
     "execution_count": 44,
     "metadata": {},
     "output_type": "execute_result"
    }
   ],
   "source": [
    "pd.isnull(tax_paid) #where it would be null it would return true value "
   ]
  },
  {
   "cell_type": "code",
   "execution_count": 45,
   "metadata": {},
   "outputs": [
    {
     "data": {
      "text/plain": [
       "punjab         False\n",
       "balochistan    False\n",
       "sindh          False\n",
       "kpk            False\n",
       "gilgit          True\n",
       "dtype: bool"
      ]
     },
     "execution_count": 45,
     "metadata": {},
     "output_type": "execute_result"
    }
   ],
   "source": [
    "pd.isnull(tax_paid)"
   ]
  },
  {
   "cell_type": "code",
   "execution_count": 46,
   "metadata": {},
   "outputs": [
    {
     "data": {
      "text/plain": [
       "punjab         False\n",
       "balochistan    False\n",
       "sindh          False\n",
       "kpk            False\n",
       "gilgit          True\n",
       "dtype: bool"
      ]
     },
     "execution_count": 46,
     "metadata": {},
     "output_type": "execute_result"
    }
   ],
   "source": [
    "pd.isnull(tax_paid)"
   ]
  },
  {
   "cell_type": "code",
   "execution_count": 47,
   "metadata": {},
   "outputs": [],
   "source": [
    "#null value means that this index value is not present in the series \n",
    "#but remember null and empty or two diff things for ex:\n",
    "#if a string has no value to it means its empty but not null .\n",
    "#null means that id does not exist at all .\n"
   ]
  },
  {
   "cell_type": "code",
   "execution_count": 48,
   "metadata": {},
   "outputs": [
    {
     "data": {
      "text/plain": [
       "punjab         False\n",
       "balochistan    False\n",
       "sindh          False\n",
       "kpk            False\n",
       "gilgit          True\n",
       "dtype: bool"
      ]
     },
     "execution_count": 48,
     "metadata": {},
     "output_type": "execute_result"
    }
   ],
   "source": [
    "pd.isnull(tax_paid) # is a function of series.\n"
   ]
  },
  {
   "cell_type": "code",
   "execution_count": 49,
   "metadata": {},
   "outputs": [
    {
     "data": {
      "text/plain": [
       "punjab         False\n",
       "balochistan    False\n",
       "sindh          False\n",
       "kpk            False\n",
       "gilgit          True\n",
       "dtype: bool"
      ]
     },
     "execution_count": 49,
     "metadata": {},
     "output_type": "execute_result"
    }
   ],
   "source": [
    "tax_paid.isnull() #is a method of series . both things are valid ."
   ]
  },
  {
   "cell_type": "code",
   "execution_count": 50,
   "metadata": {},
   "outputs": [],
   "source": [
    "#we can name values : ser.name = \"name of values\"\n",
    "#we can also name index : ser.index.name = \"name of index\"\n",
    "tax_paid.name =\"provinces_tax\"\n",
    "tax_paid.index.name = \"provinces_name \""
   ]
  },
  {
   "cell_type": "code",
   "execution_count": 51,
   "metadata": {},
   "outputs": [
    {
     "data": {
      "text/plain": [
       "provinces_name \n",
       "punjab          40000.0\n",
       "balochistan     12000.0\n",
       "sindh          250000.0\n",
       "kpk             45000.0\n",
       "gilgit              NaN\n",
       "Name: provinces_tax, dtype: float64"
      ]
     },
     "execution_count": 51,
     "metadata": {},
     "output_type": "execute_result"
    }
   ],
   "source": [
    "tax_paid"
   ]
  },
  {
   "cell_type": "code",
   "execution_count": 52,
   "metadata": {
    "slideshow": {
     "slide_type": "slide"
    }
   },
   "outputs": [
    {
     "data": {
      "text/plain": [
       "Index(['punjab', 'balochistan', 'sindh', 'kpk', 'gilgit'], dtype='object', name='provinces_name ')"
      ]
     },
     "execution_count": 52,
     "metadata": {},
     "output_type": "execute_result"
    }
   ],
   "source": [
    "tax_paid.index"
   ]
  },
  {
   "cell_type": "code",
   "execution_count": 53,
   "metadata": {},
   "outputs": [],
   "source": [
    "#u can also change the values of series and its indexes also\n",
    "tax_paid.index = [\"pun\",\"bal\",\"sin\",\"kpk\" ,\"gil\"]"
   ]
  },
  {
   "cell_type": "code",
   "execution_count": 54,
   "metadata": {},
   "outputs": [
    {
     "data": {
      "text/plain": [
       "pun     40000.0\n",
       "bal     12000.0\n",
       "sin    250000.0\n",
       "kpk     45000.0\n",
       "gil         NaN\n",
       "Name: provinces_tax, dtype: float64"
      ]
     },
     "execution_count": 54,
     "metadata": {},
     "output_type": "execute_result"
    }
   ],
   "source": [
    "tax_paid"
   ]
  },
  {
   "cell_type": "code",
   "execution_count": 55,
   "metadata": {},
   "outputs": [],
   "source": [
    "#remeber one thing : null != 0 , means if zero is present then it is not  null at all\n",
    "#naming series is important because later we would combine it with data frame and it would help us there\n",
    "#because bascially DATAFRAME is a combination of multilple Series..."
   ]
  },
  {
   "cell_type": "markdown",
   "metadata": {},
   "source": [
    "# DATA FRAME :\n",
    "As in series we store a single dimension data but when we had to store the data of multi dimension the we use dataframe to store that type of data .\n",
    "we had more than one col in a dataframe but in series we had only one column .\n",
    "in pandas we had to store the index .\n",
    "series+series = dataframe .(but the index of the series should be same for both )\n"
   ]
  },
  {
   "cell_type": "code",
   "execution_count": 56,
   "metadata": {},
   "outputs": [],
   "source": [
    "import pandas as pd"
   ]
  },
  {
   "cell_type": "code",
   "execution_count": 57,
   "metadata": {},
   "outputs": [
    {
     "name": "stdout",
     "output_type": "stream",
     "text": [
      "0    3\n",
      "1    2\n",
      "2    0\n",
      "3    1\n",
      "dtype: int64 0    4\n",
      "1    5\n",
      "2    1\n",
      "3    2\n",
      "dtype: int64\n"
     ]
    }
   ],
   "source": [
    "#merging two series into a data frame:\n",
    "apples = pd.Series([3,2,0,1])\n",
    "oranges = pd.Series([4,5,1,2])\n",
    "print(apples,oranges)\n"
   ]
  },
  {
   "cell_type": "code",
   "execution_count": 58,
   "metadata": {},
   "outputs": [
    {
     "name": "stdout",
     "output_type": "stream",
     "text": [
      "     0\n",
      "4  NaN\n",
      "5  NaN\n",
      "1  2.0\n",
      "2  0.0\n",
      "   apples  oranges\n",
      "0       3        4\n",
      "1       2        5\n",
      "2       0        1\n",
      "3       1        2\n"
     ]
    }
   ],
   "source": [
    "data = {\"apples\" : apples ,\"oranges\" : oranges}\n",
    "fruits = pd.DataFrame(data)\n",
    "fruits2 = pd.DataFrame(apples,oranges)\n",
    "print(fruits2)\n",
    "print(fruits)"
   ]
  },
  {
   "cell_type": "code",
   "execution_count": 59,
   "metadata": {},
   "outputs": [],
   "source": [
    "#u can also change indexes of pandas too . but remember index and values should be equal\n",
    "data1= {'state': ['karachi','islamabad','kashmir','sialkot'],\n",
    "        'POP' : [100,200,300,400],\n",
    "        }\n",
    "dataframe = pd.DataFrame(data1,index = ['1st','2nd','3rd','4th'])"
   ]
  },
  {
   "cell_type": "code",
   "execution_count": 60,
   "metadata": {},
   "outputs": [
    {
     "name": "stdout",
     "output_type": "stream",
     "text": [
      "         state  POP\n",
      "1st    karachi  100\n",
      "2nd  islamabad  200\n",
      "3rd    kashmir  300\n",
      "4th    sialkot  400\n"
     ]
    }
   ],
   "source": [
    "print(dataframe)"
   ]
  },
  {
   "cell_type": "code",
   "execution_count": 61,
   "metadata": {},
   "outputs": [
    {
     "data": {
      "text/html": [
       "<div>\n",
       "<style scoped>\n",
       "    .dataframe tbody tr th:only-of-type {\n",
       "        vertical-align: middle;\n",
       "    }\n",
       "\n",
       "    .dataframe tbody tr th {\n",
       "        vertical-align: top;\n",
       "    }\n",
       "\n",
       "    .dataframe thead th {\n",
       "        text-align: right;\n",
       "    }\n",
       "</style>\n",
       "<table border=\"1\" class=\"dataframe\">\n",
       "  <thead>\n",
       "    <tr style=\"text-align: right;\">\n",
       "      <th></th>\n",
       "      <th>state</th>\n",
       "      <th>POP</th>\n",
       "    </tr>\n",
       "  </thead>\n",
       "  <tbody>\n",
       "    <tr>\n",
       "      <td>1st</td>\n",
       "      <td>karachi</td>\n",
       "      <td>100</td>\n",
       "    </tr>\n",
       "    <tr>\n",
       "      <td>2nd</td>\n",
       "      <td>islamabad</td>\n",
       "      <td>200</td>\n",
       "    </tr>\n",
       "    <tr>\n",
       "      <td>3rd</td>\n",
       "      <td>kashmir</td>\n",
       "      <td>300</td>\n",
       "    </tr>\n",
       "    <tr>\n",
       "      <td>4th</td>\n",
       "      <td>sialkot</td>\n",
       "      <td>400</td>\n",
       "    </tr>\n",
       "  </tbody>\n",
       "</table>\n",
       "</div>"
      ],
      "text/plain": [
       "         state  POP\n",
       "1st    karachi  100\n",
       "2nd  islamabad  200\n",
       "3rd    kashmir  300\n",
       "4th    sialkot  400"
      ]
     },
     "execution_count": 61,
     "metadata": {},
     "output_type": "execute_result"
    }
   ],
   "source": [
    "#.head() func print first five values \n",
    "dataframe.head()"
   ]
  },
  {
   "cell_type": "code",
   "execution_count": 62,
   "metadata": {},
   "outputs": [
    {
     "data": {
      "text/html": [
       "<div>\n",
       "<style scoped>\n",
       "    .dataframe tbody tr th:only-of-type {\n",
       "        vertical-align: middle;\n",
       "    }\n",
       "\n",
       "    .dataframe tbody tr th {\n",
       "        vertical-align: top;\n",
       "    }\n",
       "\n",
       "    .dataframe thead th {\n",
       "        text-align: right;\n",
       "    }\n",
       "</style>\n",
       "<table border=\"1\" class=\"dataframe\">\n",
       "  <thead>\n",
       "    <tr style=\"text-align: right;\">\n",
       "      <th></th>\n",
       "      <th>state</th>\n",
       "      <th>POP</th>\n",
       "    </tr>\n",
       "  </thead>\n",
       "  <tbody>\n",
       "    <tr>\n",
       "      <td>1st</td>\n",
       "      <td>karachi</td>\n",
       "      <td>100</td>\n",
       "    </tr>\n",
       "    <tr>\n",
       "      <td>2nd</td>\n",
       "      <td>islamabad</td>\n",
       "      <td>200</td>\n",
       "    </tr>\n",
       "    <tr>\n",
       "      <td>3rd</td>\n",
       "      <td>kashmir</td>\n",
       "      <td>300</td>\n",
       "    </tr>\n",
       "    <tr>\n",
       "      <td>4th</td>\n",
       "      <td>sialkot</td>\n",
       "      <td>400</td>\n",
       "    </tr>\n",
       "  </tbody>\n",
       "</table>\n",
       "</div>"
      ],
      "text/plain": [
       "         state  POP\n",
       "1st    karachi  100\n",
       "2nd  islamabad  200\n",
       "3rd    kashmir  300\n",
       "4th    sialkot  400"
      ]
     },
     "execution_count": 62,
     "metadata": {},
     "output_type": "execute_result"
    }
   ],
   "source": [
    "dataframe.tail() #tail brings the last values of dataframe "
   ]
  },
  {
   "cell_type": "code",
   "execution_count": 63,
   "metadata": {},
   "outputs": [],
   "source": [
    "#u can also cahnge the position of col\n",
    "dataframe = pd.DataFrame(dataframe,columns = ['POP','state'])"
   ]
  },
  {
   "cell_type": "code",
   "execution_count": 64,
   "metadata": {},
   "outputs": [
    {
     "name": "stdout",
     "output_type": "stream",
     "text": [
      "     POP      state\n",
      "1st  100    karachi\n",
      "2nd  200  islamabad\n",
      "3rd  300    kashmir\n",
      "4th  400    sialkot\n"
     ]
    }
   ],
   "source": [
    "print(dataframe)"
   ]
  },
  {
   "cell_type": "code",
   "execution_count": 65,
   "metadata": {},
   "outputs": [],
   "source": [
    "#adding a new col :\n",
    "dataframe = pd.DataFrame(dataframe,columns = ['POP','state','year'])"
   ]
  },
  {
   "cell_type": "code",
   "execution_count": 66,
   "metadata": {},
   "outputs": [
    {
     "name": "stdout",
     "output_type": "stream",
     "text": [
      "     POP      state  year\n",
      "1st  100    karachi   NaN\n",
      "2nd  200  islamabad   NaN\n",
      "3rd  300    kashmir   NaN\n",
      "4th  400    sialkot   NaN\n"
     ]
    }
   ],
   "source": [
    "print(dataframe)"
   ]
  },
  {
   "cell_type": "code",
   "execution_count": 67,
   "metadata": {},
   "outputs": [
    {
     "data": {
      "text/plain": [
       "Index(['POP', 'state', 'year'], dtype='object')"
      ]
     },
     "execution_count": 67,
     "metadata": {},
     "output_type": "execute_result"
    }
   ],
   "source": [
    "dataframe.columns #for printing columns "
   ]
  },
  {
   "cell_type": "code",
   "execution_count": 68,
   "metadata": {},
   "outputs": [
    {
     "data": {
      "text/plain": [
       "Index(['1st', '2nd', '3rd', '4th'], dtype='object')"
      ]
     },
     "execution_count": 68,
     "metadata": {},
     "output_type": "execute_result"
    }
   ],
   "source": [
    "dataframe.index #for printing index of data"
   ]
  },
  {
   "cell_type": "code",
   "execution_count": 69,
   "metadata": {},
   "outputs": [
    {
     "data": {
      "text/plain": [
       "1st      karachi\n",
       "2nd    islamabad\n",
       "3rd      kashmir\n",
       "4th      sialkot\n",
       "Name: state, dtype: object"
      ]
     },
     "execution_count": 69,
     "metadata": {},
     "output_type": "execute_result"
    }
   ],
   "source": [
    "#a column of a dataframe can be accessed as a series a dict type notation or by an attribute \n",
    "#mtlb ap col ko jese dic ko access krty ho usi tarah acces krogy \n",
    "dataframe['state'] #dic type "
   ]
  },
  {
   "cell_type": "code",
   "execution_count": 70,
   "metadata": {},
   "outputs": [
    {
     "data": {
      "text/plain": [
       "1st      karachi\n",
       "2nd    islamabad\n",
       "3rd      kashmir\n",
       "4th      sialkot\n",
       "Name: state, dtype: object"
      ]
     },
     "execution_count": 70,
     "metadata": {},
     "output_type": "execute_result"
    }
   ],
   "source": [
    "#attribute type \":\"\n",
    "dataframe.state"
   ]
  },
  {
   "cell_type": "code",
   "execution_count": 71,
   "metadata": {},
   "outputs": [
    {
     "data": {
      "text/plain": [
       "POP          300\n",
       "state    kashmir\n",
       "year         NaN\n",
       "Name: 3rd, dtype: object"
      ]
     },
     "execution_count": 71,
     "metadata": {},
     "output_type": "execute_result"
    }
   ],
   "source": [
    "#.loc func gives u the data of a particular row\n",
    "dataframe.loc[\"3rd\"]"
   ]
  },
  {
   "cell_type": "code",
   "execution_count": 72,
   "metadata": {},
   "outputs": [
    {
     "name": "stdout",
     "output_type": "stream",
     "text": [
      "4\n"
     ]
    }
   ],
   "source": [
    "#for finding no of rows in a data frame :\n",
    "print(len(dataframe))"
   ]
  },
  {
   "cell_type": "code",
   "execution_count": 73,
   "metadata": {},
   "outputs": [
    {
     "name": "stdout",
     "output_type": "stream",
     "text": [
      "4\n"
     ]
    }
   ],
   "source": [
    "#for adding values in year col \n",
    "#first we calculate the length ;\n",
    "length = len(dataframe)\n",
    "print(length)\n",
    "values = np.arange(length)\n",
    "dataframe['year'] = values"
   ]
  },
  {
   "cell_type": "code",
   "execution_count": 74,
   "metadata": {},
   "outputs": [
    {
     "name": "stdout",
     "output_type": "stream",
     "text": [
      "     POP      state  year\n",
      "1st  100    karachi     0\n",
      "2nd  200  islamabad     1\n",
      "3rd  300    kashmir     2\n",
      "4th  400    sialkot     3\n"
     ]
    }
   ],
   "source": [
    "print(dataframe) #values are initialized in the year we can not decrrease or increase the length of the values of year col ,\n"
   ]
  },
  {
   "cell_type": "code",
   "execution_count": 75,
   "metadata": {},
   "outputs": [],
   "source": [
    "#inserting new value need to match in length of dataframe"
   ]
  },
  {
   "cell_type": "code",
   "execution_count": 76,
   "metadata": {},
   "outputs": [
    {
     "name": "stdout",
     "output_type": "stream",
     "text": [
      "     POP      state  year\n",
      "1st  100    karachi   1.1\n",
      "2nd  200  islamabad   NaN\n",
      "3rd  300    kashmir   3.4\n",
      "4th  400    sialkot   2.0\n"
     ]
    }
   ],
   "source": [
    "#and if u dont want to pass all the values u can use index no\n",
    "val = pd.Series([1.1,2.,3.4] , index = ['1st','4th','3rd'])\n",
    "dataframe ['year'] = val\n",
    "print(dataframe)"
   ]
  },
  {
   "cell_type": "code",
   "execution_count": 77,
   "metadata": {},
   "outputs": [
    {
     "name": "stdout",
     "output_type": "stream",
     "text": [
      "     POP      state  year\n",
      "1st  100    karachi   3.5\n",
      "2nd  200  islamabad   3.5\n",
      "3rd  300    kashmir   3.5\n",
      "4th  400    sialkot   3.5\n"
     ]
    }
   ],
   "source": [
    "dataframe ['year'] =3.5 \n",
    "print(dataframe)"
   ]
  },
  {
   "cell_type": "code",
   "execution_count": 78,
   "metadata": {},
   "outputs": [
    {
     "name": "stdout",
     "output_type": "stream",
     "text": [
      "     POP      state  year\n",
      "1st  100    karachi   NaN\n",
      "2nd  200  islamabad   1.5\n",
      "3rd  300    kashmir   NaN\n",
      "4th  400    sialkot   NaN\n"
     ]
    }
   ],
   "source": [
    "dataframe['year'] = pd.Series([1.5],index = ['2nd'])\n",
    "print(dataframe)"
   ]
  },
  {
   "cell_type": "code",
   "execution_count": 79,
   "metadata": {},
   "outputs": [],
   "source": [
    "#remember : index length should be equal to value(or do no provide index at all )\n"
   ]
  },
  {
   "cell_type": "markdown",
   "metadata": {},
   "source": [
    "# Functions applications and mapping :\n"
   ]
  },
  {
   "cell_type": "code",
   "execution_count": 80,
   "metadata": {},
   "outputs": [
    {
     "name": "stdout",
     "output_type": "stream",
     "text": [
      "               b         d         e\n",
      "utah    1.269339 -0.173947 -1.998708\n",
      "ohio   -1.345161  1.058181 -0.775746\n",
      "texas   1.144713  1.123848  1.360227\n",
      "oregon  0.538548 -0.612369  0.409529\n"
     ]
    }
   ],
   "source": [
    "#making a data frame\n",
    "frame =pd.DataFrame(np.random.randn(4,3),columns =list('bde'),\n",
    "                                                       index = ['utah','ohio','texas','oregon'])\n",
    "print(frame)"
   ]
  },
  {
   "cell_type": "code",
   "execution_count": 81,
   "metadata": {},
   "outputs": [
    {
     "name": "stdout",
     "output_type": "stream",
     "text": [
      "utah      0.173947\n",
      "ohio      1.058181\n",
      "texas     1.123848\n",
      "oregon    0.612369\n",
      "Name: d, dtype: float64\n"
     ]
    }
   ],
   "source": [
    "#.abs convert all - values to + values :\n",
    "print(frame['d'].abs())"
   ]
  },
  {
   "cell_type": "code",
   "execution_count": 82,
   "metadata": {},
   "outputs": [
    {
     "name": "stdout",
     "output_type": "stream",
     "text": [
      "               b         d         e\n",
      "utah    1.269339  0.173947  1.998708\n",
      "ohio    1.345161  1.058181  0.775746\n",
      "texas   1.144713  1.123848  1.360227\n",
      "oregon  0.538548  0.612369  0.409529\n"
     ]
    }
   ],
   "source": [
    "#or for all values\n",
    "print(np.abs(frame))"
   ]
  },
  {
   "cell_type": "code",
   "execution_count": 83,
   "metadata": {},
   "outputs": [
    {
     "name": "stdout",
     "output_type": "stream",
     "text": [
      "-0.6123685079651073\n"
     ]
    }
   ],
   "source": [
    "print(frame['d'].min()) #for finding minimum value"
   ]
  },
  {
   "cell_type": "code",
   "execution_count": 84,
   "metadata": {},
   "outputs": [
    {
     "name": "stdout",
     "output_type": "stream",
     "text": [
      "1.1238475584501448\n"
     ]
    }
   ],
   "source": [
    "print(frame['d'].max()) #for finding maximum value"
   ]
  },
  {
   "cell_type": "code",
   "execution_count": 85,
   "metadata": {},
   "outputs": [
    {
     "name": "stdout",
     "output_type": "stream",
     "text": [
      "1.7362160664152522\n"
     ]
    }
   ],
   "source": [
    "print(frame['d'].max() - frame['d'].min()) #for finding maximum - minimum value"
   ]
  },
  {
   "cell_type": "code",
   "execution_count": 86,
   "metadata": {},
   "outputs": [
    {
     "name": "stdout",
     "output_type": "stream",
     "text": [
      "\n",
      "                b         d         e\n",
      "utah    1.269339 -0.173947 -1.998708\n",
      "ohio   -1.345161  1.058181 -0.775746\n",
      "texas   1.144713  1.123848  1.360227\n",
      "oregon  0.538548 -0.612369  0.409529\n",
      "b    2.614500\n",
      "d    1.736216\n",
      "e    3.358936\n",
      "dtype: float64 <class 'pandas.core.series.Series'>\n"
     ]
    }
   ],
   "source": [
    "#making a unnamed function using lambda :\n",
    "f = lambda x : x.max() - x.min()\n",
    "#applying this function on frame (dataframe) that we had made :\n",
    "print('\\n',frame)\n",
    "df = frame.apply(f)\n",
    "print(df ,type(df))\n",
    "#this function is getting data column wise and calculating max and min value of each column into x and storing it in F varfunc and then applying on frame and printing it .\n"
   ]
  },
  {
   "cell_type": "code",
   "execution_count": 87,
   "metadata": {},
   "outputs": [
    {
     "name": "stdout",
     "output_type": "stream",
     "text": [
      "utah      3.268047\n",
      "ohio      2.403342\n",
      "texas     0.236380\n",
      "oregon    1.150917\n",
      "dtype: float64 <class 'pandas.core.series.Series'>\n"
     ]
    }
   ],
   "source": [
    "#similary we can do it for rows also by just changing the axis = 1 \n",
    "df = frame.apply(f,axis =1)\n",
    "print(df,type(df))\n",
    "# u can see in the output that its a series type object . because it has only one col :)"
   ]
  },
  {
   "cell_type": "code",
   "execution_count": 88,
   "metadata": {},
   "outputs": [
    {
     "name": "stdout",
     "output_type": "stream",
     "text": [
      "            b         d         e\n",
      "min  1.269339  1.123848  1.360227\n",
      "max -1.345161 -0.612369 -1.998708 <class 'pandas.core.frame.DataFrame'>\n"
     ]
    }
   ],
   "source": [
    "#we can also do the same work like we do in python func:\n",
    "def f(x):\n",
    "    minimum = x.min()\n",
    "    maximum = x.max()\n",
    "    return pd.Series([maximum,minimum] ,index = ['min','max'])\n",
    "#applying the func on data frame :and passing dataframe as an argument\n",
    "df = frame.apply(f)\n",
    "print(df,type(df))\n",
    "#as u can see the return object is a data frame not a series because there are more than one col in the output."
   ]
  },
  {
   "cell_type": "code",
   "execution_count": 89,
   "metadata": {},
   "outputs": [
    {
     "name": "stdout",
     "output_type": "stream",
     "text": [
      "            b         d         e\n",
      "min  1.269339  1.123848  1.360227\n",
      "max -1.345161 -0.612369 -1.998708 <class 'pandas.core.frame.DataFrame'>\n"
     ]
    }
   ],
   "source": [
    "#u can also do it directly withour storing it in a var :\n",
    "def f(x):\n",
    "    return pd.Series([x.max(), x.min()] ,index = ['min','max'])\n",
    "\n",
    "df = frame.apply(f)\n",
    "print(df,type(df))"
   ]
  },
  {
   "cell_type": "code",
   "execution_count": 90,
   "metadata": {},
   "outputs": [
    {
     "name": "stdout",
     "output_type": "stream",
     "text": [
      "       d  a  b  c\n",
      "three  0  1  2  3\n",
      "one    4  5  6  7\n"
     ]
    }
   ],
   "source": [
    "#Sorting and Ranking :\n",
    "df = pd.DataFrame(np.arange(8).reshape(2,4),index = ['three' ,'one'],columns = ['d','a','b','c'])\n",
    "print(df)"
   ]
  },
  {
   "cell_type": "code",
   "execution_count": 91,
   "metadata": {},
   "outputs": [
    {
     "data": {
      "text/html": [
       "<div>\n",
       "<style scoped>\n",
       "    .dataframe tbody tr th:only-of-type {\n",
       "        vertical-align: middle;\n",
       "    }\n",
       "\n",
       "    .dataframe tbody tr th {\n",
       "        vertical-align: top;\n",
       "    }\n",
       "\n",
       "    .dataframe thead th {\n",
       "        text-align: right;\n",
       "    }\n",
       "</style>\n",
       "<table border=\"1\" class=\"dataframe\">\n",
       "  <thead>\n",
       "    <tr style=\"text-align: right;\">\n",
       "      <th></th>\n",
       "      <th>d</th>\n",
       "      <th>a</th>\n",
       "      <th>b</th>\n",
       "      <th>c</th>\n",
       "    </tr>\n",
       "  </thead>\n",
       "  <tbody>\n",
       "    <tr>\n",
       "      <td>one</td>\n",
       "      <td>4</td>\n",
       "      <td>5</td>\n",
       "      <td>6</td>\n",
       "      <td>7</td>\n",
       "    </tr>\n",
       "    <tr>\n",
       "      <td>three</td>\n",
       "      <td>0</td>\n",
       "      <td>1</td>\n",
       "      <td>2</td>\n",
       "      <td>3</td>\n",
       "    </tr>\n",
       "  </tbody>\n",
       "</table>\n",
       "</div>"
      ],
      "text/plain": [
       "       d  a  b  c\n",
       "one    4  5  6  7\n",
       "three  0  1  2  3"
      ]
     },
     "execution_count": 91,
     "metadata": {},
     "output_type": "execute_result"
    }
   ],
   "source": [
    "df.sort_index() #sorting values according to their index "
   ]
  },
  {
   "cell_type": "code",
   "execution_count": 92,
   "metadata": {},
   "outputs": [
    {
     "data": {
      "text/html": [
       "<div>\n",
       "<style scoped>\n",
       "    .dataframe tbody tr th:only-of-type {\n",
       "        vertical-align: middle;\n",
       "    }\n",
       "\n",
       "    .dataframe tbody tr th {\n",
       "        vertical-align: top;\n",
       "    }\n",
       "\n",
       "    .dataframe thead th {\n",
       "        text-align: right;\n",
       "    }\n",
       "</style>\n",
       "<table border=\"1\" class=\"dataframe\">\n",
       "  <thead>\n",
       "    <tr style=\"text-align: right;\">\n",
       "      <th></th>\n",
       "      <th>d</th>\n",
       "      <th>c</th>\n",
       "      <th>b</th>\n",
       "      <th>a</th>\n",
       "    </tr>\n",
       "  </thead>\n",
       "  <tbody>\n",
       "    <tr>\n",
       "      <td>three</td>\n",
       "      <td>0</td>\n",
       "      <td>3</td>\n",
       "      <td>2</td>\n",
       "      <td>1</td>\n",
       "    </tr>\n",
       "    <tr>\n",
       "      <td>one</td>\n",
       "      <td>4</td>\n",
       "      <td>7</td>\n",
       "      <td>6</td>\n",
       "      <td>5</td>\n",
       "    </tr>\n",
       "  </tbody>\n",
       "</table>\n",
       "</div>"
      ],
      "text/plain": [
       "       d  c  b  a\n",
       "three  0  3  2  1\n",
       "one    4  7  6  5"
      ]
     },
     "execution_count": 92,
     "metadata": {},
     "output_type": "execute_result"
    }
   ],
   "source": [
    "df.sort_index(axis = 1 ,ascending = False) #sorting values using their col and in descending order "
   ]
  },
  {
   "cell_type": "code",
   "execution_count": 93,
   "metadata": {},
   "outputs": [
    {
     "data": {
      "text/html": [
       "<div>\n",
       "<style scoped>\n",
       "    .dataframe tbody tr th:only-of-type {\n",
       "        vertical-align: middle;\n",
       "    }\n",
       "\n",
       "    .dataframe tbody tr th {\n",
       "        vertical-align: top;\n",
       "    }\n",
       "\n",
       "    .dataframe thead th {\n",
       "        text-align: right;\n",
       "    }\n",
       "</style>\n",
       "<table border=\"1\" class=\"dataframe\">\n",
       "  <thead>\n",
       "    <tr style=\"text-align: right;\">\n",
       "      <th></th>\n",
       "      <th>d</th>\n",
       "      <th>a</th>\n",
       "      <th>b</th>\n",
       "      <th>c</th>\n",
       "    </tr>\n",
       "  </thead>\n",
       "  <tbody>\n",
       "    <tr>\n",
       "      <td>one</td>\n",
       "      <td>4</td>\n",
       "      <td>5</td>\n",
       "      <td>6</td>\n",
       "      <td>7</td>\n",
       "    </tr>\n",
       "    <tr>\n",
       "      <td>three</td>\n",
       "      <td>0</td>\n",
       "      <td>1</td>\n",
       "      <td>2</td>\n",
       "      <td>3</td>\n",
       "    </tr>\n",
       "  </tbody>\n",
       "</table>\n",
       "</div>"
      ],
      "text/plain": [
       "       d  a  b  c\n",
       "one    4  5  6  7\n",
       "three  0  1  2  3"
      ]
     },
     "execution_count": 93,
     "metadata": {},
     "output_type": "execute_result"
    }
   ],
   "source": [
    "#in sort function default are : axis = 0 , ascending = True \n",
    "#now sorting by values\n",
    "df.sort_values(by = 'd'  , ascending = False) #here by shows u how to sort if u pass a col it would sort it according to col "
   ]
  },
  {
   "cell_type": "code",
   "execution_count": 94,
   "metadata": {},
   "outputs": [],
   "source": [
    "# u can't sort it 'by = row name'  , it would give error"
   ]
  },
  {
   "cell_type": "code",
   "execution_count": 95,
   "metadata": {},
   "outputs": [
    {
     "name": "stdout",
     "output_type": "stream",
     "text": [
      "         d    a    b    c\n",
      "three  2.0  2.0  2.0  2.0\n",
      "one    1.0  1.0  1.0  1.0\n"
     ]
    }
   ],
   "source": [
    "#ranking : means what data would come first and then next and next ....\n",
    "print(df.rank(ascending = False ,method = 'max') )"
   ]
  },
  {
   "cell_type": "code",
   "execution_count": 96,
   "metadata": {},
   "outputs": [
    {
     "name": "stdout",
     "output_type": "stream",
     "text": [
      "         d    a    b    c\n",
      "three  2.0  2.0  2.0  2.0\n",
      "one    1.0  1.0  1.0  1.0\n"
     ]
    }
   ],
   "source": [
    "print(df.rank(ascending = False ,method = 'min') )"
   ]
  },
  {
   "cell_type": "code",
   "execution_count": 97,
   "metadata": {},
   "outputs": [
    {
     "name": "stdout",
     "output_type": "stream",
     "text": [
      "         d    a    b    c\n",
      "three  1.0  2.0  3.0  4.0\n",
      "one    1.0  2.0  3.0  4.0\n"
     ]
    }
   ],
   "source": [
    "print(df.rank(axis = 'columns') )"
   ]
  },
  {
   "cell_type": "code",
   "execution_count": 98,
   "metadata": {},
   "outputs": [
    {
     "name": "stdout",
     "output_type": "stream",
     "text": [
      "       d  a  b  c\n",
      "three  0  1  2  3\n",
      "one    4  5  6  7\n"
     ]
    },
    {
     "data": {
      "text/plain": [
       "d     4\n",
       "a     6\n",
       "b     8\n",
       "c    10\n",
       "dtype: int64"
      ]
     },
     "execution_count": 98,
     "metadata": {},
     "output_type": "execute_result"
    }
   ],
   "source": [
    "df = pd.DataFrame(np.arange(8).reshape(2,4),index = ['three' ,'one'],columns = ['d','a','b','c'])\n",
    "print(df)\n",
    "df.sum() #row wise"
   ]
  },
  {
   "cell_type": "code",
   "execution_count": 99,
   "metadata": {},
   "outputs": [
    {
     "data": {
      "text/plain": [
       "three     6\n",
       "one      22\n",
       "dtype: int64"
      ]
     },
     "execution_count": 99,
     "metadata": {},
     "output_type": "execute_result"
    }
   ],
   "source": [
    "df.sum(axis = 'columns')"
   ]
  },
  {
   "cell_type": "code",
   "execution_count": 100,
   "metadata": {},
   "outputs": [],
   "source": [
    "#skipna = false basically means include the naN values in n(total no)\n",
    "#remember : it doesnt effect the sum func but it effects the mean( func )\n",
    "x = df.mean(axis = 'columns' , skipna =False)"
   ]
  },
  {
   "cell_type": "code",
   "execution_count": 101,
   "metadata": {},
   "outputs": [
    {
     "name": "stdout",
     "output_type": "stream",
     "text": [
      "three    1.5\n",
      "one      5.5\n",
      "dtype: float64\n"
     ]
    }
   ],
   "source": [
    "print(x)"
   ]
  },
  {
   "cell_type": "code",
   "execution_count": 102,
   "metadata": {},
   "outputs": [
    {
     "name": "stdout",
     "output_type": "stream",
     "text": [
      "       d  a  b  c\n",
      "three  0  1  2  3\n",
      "one    4  5  6  7\n"
     ]
    }
   ],
   "source": [
    "#unique values : means the values which are duplicate will only be count once : mean if 1.4 exist three times is data uniques would show it only once.\n",
    "print(df)\n"
   ]
  },
  {
   "cell_type": "code",
   "execution_count": 103,
   "metadata": {},
   "outputs": [
    {
     "data": {
      "text/plain": [
       "array([0, 4], dtype=int64)"
      ]
     },
     "execution_count": 103,
     "metadata": {},
     "output_type": "execute_result"
    }
   ],
   "source": [
    "df['d'].unique()"
   ]
  },
  {
   "cell_type": "code",
   "execution_count": 104,
   "metadata": {},
   "outputs": [
    {
     "data": {
      "text/plain": [
       "6    1\n",
       "2    1\n",
       "Name: b, dtype: int64"
      ]
     },
     "execution_count": 104,
     "metadata": {},
     "output_type": "execute_result"
    }
   ],
   "source": [
    "df['b'].value_counts() #count how much time a value is present "
   ]
  },
  {
   "cell_type": "code",
   "execution_count": 105,
   "metadata": {},
   "outputs": [
    {
     "name": "stdout",
     "output_type": "stream",
     "text": [
      "          one  two  three  four\n",
      "ohio        0    1      2     3\n",
      "colorado    4    5      6     7\n",
      "utah        8    9     10    11\n",
      "newyork    12   13     14    15\n",
      "\n",
      "\n",
      "two      5\n",
      "three    6\n",
      "Name: colorado, dtype: int32\n"
     ]
    }
   ],
   "source": [
    "data_df = pd.DataFrame(np.arange(16).reshape((4,4)),\n",
    "                       index = ['ohio','colorado','utah','newyork'],\n",
    "                       columns = ['one','two','three','four'])\n",
    "#The loc() function is used to access a group of rows and columns by label(s) or a boolean array. . loc[] is primarily label based, but may also be used with a boolean array.\n",
    "print(data_df)\n",
    "print('\\n')\n",
    "print(data_df.loc['colorado' , ['two','three']])"
   ]
  },
  {
   "cell_type": "code",
   "execution_count": 106,
   "metadata": {},
   "outputs": [
    {
     "name": "stdout",
     "output_type": "stream",
     "text": [
      "one      4\n",
      "two      5\n",
      "three    6\n",
      "four     7\n",
      "Name: colorado, dtype: int32\n"
     ]
    }
   ],
   "source": [
    "print(data_df.loc['colorado' ]) # u can't declare col first always declare row first"
   ]
  },
  {
   "cell_type": "code",
   "execution_count": 107,
   "metadata": {},
   "outputs": [
    {
     "name": "stdout",
     "output_type": "stream",
     "text": [
      "          one  two  three  four\n",
      "colorado    4    5      6     7\n",
      "utah        8    9     10    11\n",
      "ohio        0    1      2     3\n"
     ]
    }
   ],
   "source": [
    "#if u want to access two or more rows then give it array notation\n",
    "print(data_df.loc[['colorado' , 'utah' , 'ohio']])"
   ]
  },
  {
   "cell_type": "code",
   "execution_count": 108,
   "metadata": {
    "slideshow": {
     "slide_type": "slide"
    }
   },
   "outputs": [
    {
     "name": "stdout",
     "output_type": "stream",
     "text": [
      "four    11\n",
      "one      8\n",
      "two      9\n",
      "Name: utah, dtype: int32\n"
     ]
    }
   ],
   "source": [
    "#.iloc is same as loc but the major difference is we pass interger value in it \n",
    "#instead of name of labels and col\n",
    "print(data_df.iloc[2,[3,0,1]]) #using index num , slicing is done as this also"
   ]
  },
  {
   "cell_type": "code",
   "execution_count": 109,
   "metadata": {},
   "outputs": [
    {
     "name": "stdout",
     "output_type": "stream",
     "text": [
      "          two  three\n",
      "colorado    5      6\n",
      "utah        9     10\n",
      "newyork    13     14\n"
     ]
    }
   ],
   "source": [
    "#slcicing :\n",
    "print(data_df.iloc[1: , 1:3]) # aek kam layega "
   ]
  },
  {
   "cell_type": "code",
   "execution_count": 110,
   "metadata": {},
   "outputs": [
    {
     "name": "stdout",
     "output_type": "stream",
     "text": [
      "          one  two  three  four\n",
      "ohio        0    1      2     3\n",
      "colorado    4    5      6     7\n"
     ]
    }
   ],
   "source": [
    "print(data_df.iloc[:2])"
   ]
  },
  {
   "cell_type": "markdown",
   "metadata": {},
   "source": [
    "# Arithmetic and data alignment :\n"
   ]
  },
  {
   "cell_type": "code",
   "execution_count": 111,
   "metadata": {
    "scrolled": true
   },
   "outputs": [
    {
     "name": "stdout",
     "output_type": "stream",
     "text": [
      "            b    c    d\n",
      "ohio      0.0  1.0  2.0\n",
      "texas     3.0  4.0  5.0\n",
      "colarado  6.0  7.0  8.0\n",
      "          b     d     e\n",
      "utah    0.0   1.0   2.0\n",
      "ohio    3.0   4.0   5.0\n",
      "texas   6.0   7.0   8.0\n",
      "oregon  9.0  10.0  11.0\n",
      "\n",
      "             b   c     d   e\n",
      "colarado  NaN NaN   NaN NaN\n",
      "ohio      3.0 NaN   6.0 NaN\n",
      "oregon    NaN NaN   NaN NaN\n",
      "texas     9.0 NaN  12.0 NaN\n",
      "utah      NaN NaN   NaN NaN\n"
     ]
    }
   ],
   "source": [
    "#when we add two dataframe they are added by their indexes and col :\n",
    "df1 = pd.DataFrame(np.arange(9.0).reshape((3,3)),columns = list('bcd'),\n",
    "                   index = ['ohio','texas','colarado'])\n",
    "df2 = pd.DataFrame(np.arange(12.0).reshape ((4,3)),\n",
    "                  columns = list('bde'),\n",
    "                  index = ['utah' ,'ohio','texas','oregon'])\n",
    "print(df1)\n",
    "print(df2)\n",
    "#applying plus operation between two dataframes :\n",
    "df3 = df1 +df2\n",
    "print(f'\\n {df3}') #the nan values are because pandas was unable to find their matching index "
   ]
  },
  {
   "cell_type": "code",
   "execution_count": 112,
   "metadata": {},
   "outputs": [],
   "source": [
    "#now your work is to fill this nan values with a num \n",
    "#choice of num is yours "
   ]
  },
  {
   "cell_type": "markdown",
   "metadata": {},
   "source": [
    "# Arithmetic method with fill values :\n",
    "when  we had a problem that index values doesnt match and nan values are created there are some methods form which we can avoid this nan values"
   ]
  },
  {
   "cell_type": "code",
   "execution_count": 113,
   "metadata": {},
   "outputs": [
    {
     "name": "stdout",
     "output_type": "stream",
     "text": [
      "            b   c     d   e\n",
      "colarado  NaN NaN   NaN NaN\n",
      "ohio      3.0 NaN   6.0 NaN\n",
      "oregon    NaN NaN   NaN NaN\n",
      "texas     9.0 NaN  12.0 NaN\n",
      "utah      NaN NaN   NaN NaN\n",
      "            b    c     d     e\n",
      "colarado  6.0  7.0   8.0   NaN\n",
      "ohio      3.0  1.0   6.0   5.0\n",
      "oregon    9.0  NaN  10.0  11.0\n",
      "texas     9.0  4.0  12.0   8.0\n",
      "utah      0.0  NaN   1.0   2.0\n"
     ]
    }
   ],
   "source": [
    "#so instead of using + we use add function and fill nan values with a num \n",
    "#syntax : dataframe1(dataframe2 , fill_values = any num)\n",
    "print(df3)\n",
    "df3 = df1.add(df2 ,fill_value = 0)\n",
    "\n",
    "print(df3) #there are still some nan values becaise they didnt find any zero to add with."
   ]
  },
  {
   "cell_type": "markdown",
   "metadata": {},
   "source": [
    "# Operations b/w dataframe and series:"
   ]
  },
  {
   "cell_type": "code",
   "execution_count": 114,
   "metadata": {},
   "outputs": [
    {
     "name": "stdout",
     "output_type": "stream",
     "text": [
      "using new series \n",
      " ------------\n",
      "Index(['b', 'd', 'e'], dtype='object') [1 2 3]\n",
      "\n",
      "           b     d     e\n",
      "utah    0.0   1.0   2.0\n",
      "ohio    3.0   4.0   5.0\n",
      "texas   6.0   7.0   8.0\n",
      "oregon  9.0  10.0  11.0\n",
      "          b    d    e\n",
      "utah   -1.0 -1.0 -1.0\n",
      "ohio    2.0  2.0  2.0\n",
      "texas   5.0  5.0  5.0\n",
      "oregon  8.0  8.0  8.0\n"
     ]
    }
   ],
   "source": [
    "print('using new series \\n ------------')\n",
    "series = pd.Series([1,2,3],index =  list('bde'))\n",
    "print(series.index , series.values)\n",
    "frame = pd.DataFrame(np.arange(12.0).reshape ((4,3)),\n",
    "                  columns = list('bde'),\n",
    "                  index = ['utah' ,'ohio','texas','oregon'])\n",
    "print(f'\\n {frame}')\n",
    "print(frame - series) #remember indexes should be same :"
   ]
  },
  {
   "cell_type": "code",
   "execution_count": 115,
   "metadata": {},
   "outputs": [],
   "source": [
    "#each value of series would be done row wise \n",
    "#means dataframes columns name will be match with series index \n",
    "#because its row wise broadcasting operation\n"
   ]
  },
  {
   "cell_type": "code",
   "execution_count": 116,
   "metadata": {},
   "outputs": [
    {
     "name": "stdout",
     "output_type": "stream",
     "text": [
      "   ohio  texas  california\n",
      "a     0      1           2\n",
      "c     3      4           5\n",
      "d     6      7           8\n",
      "   texas  utah  california  ohio\n",
      "a      1   NaN           2     0\n",
      "c      4   NaN           5     3\n",
      "d      7   NaN           8     6\n"
     ]
    }
   ],
   "source": [
    "# columns name can be changed using reindex method :\n",
    "states = pd.DataFrame(np.arange(9).reshape(3,3),\n",
    "                     index = ['a','c','d']\n",
    "                     ,columns = ['ohio','texas','california'])\n",
    "print(states)\n",
    "newname = ['texas','utah','california','ohio']\n",
    "states = states.reindex(columns = newname)\n",
    "print(states)"
   ]
  },
  {
   "cell_type": "markdown",
   "metadata": {},
   "source": [
    "# Deleting data(row or column from data )\n"
   ]
  },
  {
   "cell_type": "code",
   "execution_count": 117,
   "metadata": {},
   "outputs": [
    {
     "name": "stdout",
     "output_type": "stream",
     "text": [
      "          one  two  three  four\n",
      "ohio        0    1      2     3\n",
      "colorado    4    5      6     7\n",
      "utah        8    9     10    11\n",
      "newyork    12   13     14    15 \n",
      "\n",
      "         one  two  three  four\n",
      "utah       8    9     10    11\n",
      "newyork   12   13     14    15\n"
     ]
    }
   ],
   "source": [
    "df = pd.DataFrame(np.arange(16).reshape((4,4)),\n",
    "                       index = ['ohio','colorado','utah','newyork'],\n",
    "                       columns = ['one','two','three','four'])\n",
    "print(df,'\\n')\n",
    "#dataframe.drop() method would return  a new dataframe without having deleted rows\n",
    "#so store it into a dataframe var or use inplace = True while droping rows or columns\n",
    "#inplace = True means the values would be deleted permenantly \n",
    "df.drop(['colorado','ohio'],inplace = True )\n",
    "print(df)"
   ]
  },
  {
   "cell_type": "code",
   "execution_count": 118,
   "metadata": {},
   "outputs": [
    {
     "name": "stdout",
     "output_type": "stream",
     "text": [
      "         one  three  four\n",
      "utah       8     10    11\n",
      "newyork   12     14    15\n"
     ]
    }
   ],
   "source": [
    "# u can also drop values using column by passing \n",
    "#axis =1 or axis = columns \n",
    "print(df.drop('two',axis = 1))"
   ]
  },
  {
   "cell_type": "code",
   "execution_count": 119,
   "metadata": {},
   "outputs": [
    {
     "name": "stdout",
     "output_type": "stream",
     "text": [
      "      one  two  three  four\n",
      "utah    8    9     10    11\n",
      "         one  two  three  four\n",
      "utah       8    9     10    11\n",
      "newyork   12   13     14    15\n"
     ]
    }
   ],
   "source": [
    "#delete newyork task :\n",
    "print(df.drop(['newyork']))\n",
    "print(df) #if inplace = False"
   ]
  },
  {
   "cell_type": "code",
   "execution_count": 120,
   "metadata": {},
   "outputs": [
    {
     "name": "stdout",
     "output_type": "stream",
     "text": [
      "None\n",
      "      one  two  three  four\n",
      "utah    8    9     10    11\n"
     ]
    }
   ],
   "source": [
    "print(df.drop(['newyork'],inplace = True ))\n",
    "print(df) #if inplace = True"
   ]
  },
  {
   "cell_type": "markdown",
   "metadata": {},
   "source": [
    "# indexing , selection and filtering :\n"
   ]
  },
  {
   "cell_type": "code",
   "execution_count": 121,
   "metadata": {},
   "outputs": [
    {
     "name": "stdout",
     "output_type": "stream",
     "text": [
      "          one  two  three  four\n",
      "ohio        0    1      2     3\n",
      "colorado    4    5      6     7\n",
      "utah        8    9     10    11\n",
      "newyork    12   13     14    15\n",
      "          one  three\n",
      "ohio        0      2\n",
      "colorado    4      6\n",
      "utah        8     10\n",
      "newyork    12     14\n"
     ]
    }
   ],
   "source": [
    "df = pd.DataFrame(np.arange(16).reshape((4,4)),\n",
    "                       index = ['ohio','colorado','utah','newyork'],\n",
    "                       columns = ['one','two','three','four'])\n",
    "print(df)\n",
    "print(df[['one','three']]) #printing two columns "
   ]
  },
  {
   "cell_type": "code",
   "execution_count": 122,
   "metadata": {},
   "outputs": [
    {
     "data": {
      "text/html": [
       "<div>\n",
       "<style scoped>\n",
       "    .dataframe tbody tr th:only-of-type {\n",
       "        vertical-align: middle;\n",
       "    }\n",
       "\n",
       "    .dataframe tbody tr th {\n",
       "        vertical-align: top;\n",
       "    }\n",
       "\n",
       "    .dataframe thead th {\n",
       "        text-align: right;\n",
       "    }\n",
       "</style>\n",
       "<table border=\"1\" class=\"dataframe\">\n",
       "  <thead>\n",
       "    <tr style=\"text-align: right;\">\n",
       "      <th></th>\n",
       "      <th>one</th>\n",
       "      <th>two</th>\n",
       "      <th>three</th>\n",
       "      <th>four</th>\n",
       "    </tr>\n",
       "  </thead>\n",
       "  <tbody>\n",
       "    <tr>\n",
       "      <td>utah</td>\n",
       "      <td>8</td>\n",
       "      <td>9</td>\n",
       "      <td>10</td>\n",
       "      <td>11</td>\n",
       "    </tr>\n",
       "    <tr>\n",
       "      <td>newyork</td>\n",
       "      <td>12</td>\n",
       "      <td>13</td>\n",
       "      <td>14</td>\n",
       "      <td>15</td>\n",
       "    </tr>\n",
       "  </tbody>\n",
       "</table>\n",
       "</div>"
      ],
      "text/plain": [
       "         one  two  three  four\n",
       "utah       8    9     10    11\n",
       "newyork   12   13     14    15"
      ]
     },
     "execution_count": 122,
     "metadata": {},
     "output_type": "execute_result"
    }
   ],
   "source": [
    "#selecting rows like numpy \n",
    "df[2:]"
   ]
  },
  {
   "cell_type": "code",
   "execution_count": 123,
   "metadata": {},
   "outputs": [
    {
     "name": "stdout",
     "output_type": "stream",
     "text": [
      "0      blue\n",
      "3    purple\n",
      "6    yellow\n",
      "dtype: object\n",
      "\n",
      " 0      blue\n",
      "1      blue\n",
      "2      blue\n",
      "3    purple\n",
      "4    purple\n",
      "5    purple\n",
      "6    yellow\n",
      "7    yellow\n",
      "8    yellow\n",
      "dtype: object\n"
     ]
    }
   ],
   "source": [
    "#re-index method :\n",
    "obj = pd.Series(['blue','purple','yellow'],\n",
    "               index = [0,3,6])\n",
    "print(obj)\n",
    "obj = obj.reindex(range(9),method = 'ffill') #it would ffill the values\n",
    "print('\\n' ,obj)"
   ]
  },
  {
   "cell_type": "code",
   "execution_count": 124,
   "metadata": {},
   "outputs": [
    {
     "name": "stdout",
     "output_type": "stream",
     "text": [
      "\n",
      " 0      blue\n",
      "1      blue\n",
      "2      blue\n",
      "3    purple\n",
      "4    purple\n",
      "5    purple\n",
      "6    yellow\n",
      "7    yellow\n",
      "8    yellow\n",
      "dtype: object\n"
     ]
    }
   ],
   "source": [
    "obj = obj.reindex(range(9),method = 'bfill') #it would backwardfill the values\n",
    "print('\\n' ,obj)"
   ]
  },
  {
   "cell_type": "code",
   "execution_count": 125,
   "metadata": {},
   "outputs": [
    {
     "data": {
      "text/plain": [
       "0       blue\n",
       "1       blue\n",
       "2       blue\n",
       "3     purple\n",
       "4     purple\n",
       "5     purple\n",
       "6     yellow\n",
       "7     yellow\n",
       "8     yellow\n",
       "9        NaN\n",
       "10       NaN\n",
       "11       NaN\n",
       "12       NaN\n",
       "13       NaN\n",
       "dtype: object"
      ]
     },
     "execution_count": 125,
     "metadata": {},
     "output_type": "execute_result"
    }
   ],
   "source": [
    "obj.reindex(range(0,14),method = 'bfill') #remember backward fill does'nt not go for changing the end values"
   ]
  },
  {
   "cell_type": "code",
   "execution_count": 126,
   "metadata": {},
   "outputs": [],
   "source": [
    "#remember : reindex is a method of a data frame and it has a parameter which name is 'method' and ffill is used to fill nan values "
   ]
  },
  {
   "cell_type": "markdown",
   "metadata": {},
   "source": [
    "# Selection with loc and iloc :\n"
   ]
  },
  {
   "cell_type": "code",
   "execution_count": 127,
   "metadata": {},
   "outputs": [
    {
     "name": "stdout",
     "output_type": "stream",
     "text": [
      "\n",
      "           one  two  three  four\n",
      "ohio        0    1      2     3\n",
      "colorado    4    5      6     7\n",
      "utah        8    9     10    11\n",
      "newyork    12   13     14    15 \n",
      "\n",
      "ohio        0\n",
      "colorado    4\n",
      "Name: one, dtype: int32\n"
     ]
    }
   ],
   "source": [
    "df = pd.DataFrame(np.arange(16).reshape((4,4)),\n",
    "                       index = ['ohio','colorado','utah','newyork'],\n",
    "                       columns = ['one','two','three','four'])\n",
    "print('\\n',df , '\\n')\n",
    "print(df.one[:2])"
   ]
  },
  {
   "cell_type": "code",
   "execution_count": 128,
   "metadata": {},
   "outputs": [
    {
     "name": "stdout",
     "output_type": "stream",
     "text": [
      "          one  two  three  four\n",
      "colorado    4    5      6     7\n",
      "utah        8    9     10    11\n",
      "newyork    12   13     14    15\n"
     ]
    }
   ],
   "source": [
    "#conditional selection \n",
    "\n",
    "print(df[df['three']>5]) #it would get all col data "
   ]
  },
  {
   "cell_type": "code",
   "execution_count": 129,
   "metadata": {},
   "outputs": [
    {
     "name": "stdout",
     "output_type": "stream",
     "text": [
      "colorado     6\n",
      "utah        10\n",
      "newyork     14\n",
      "Name: three, dtype: int32\n"
     ]
    }
   ],
   "source": [
    "#if we want to get the data of a particular col :\n",
    "print(df.three[df['three']>5]) #it would get the data of only 3 col "
   ]
  },
  {
   "cell_type": "code",
   "execution_count": 130,
   "metadata": {},
   "outputs": [
    {
     "data": {
      "text/plain": [
       "ohio        False\n",
       "colorado     True\n",
       "utah         True\n",
       "newyork      True\n",
       "Name: three, dtype: bool"
      ]
     },
     "execution_count": 130,
     "metadata": {},
     "output_type": "execute_result"
    }
   ],
   "source": [
    "df['three']>5"
   ]
  },
  {
   "cell_type": "code",
   "execution_count": 131,
   "metadata": {},
   "outputs": [
    {
     "name": "stdout",
     "output_type": "stream",
     "text": [
      "          one  two  three  four\n",
      "ohio        0    1      2     3\n",
      "colorado    4    5      6     7\n",
      "utah        8    9     10    11\n",
      "newyork    12   13     14    15\n",
      "\n",
      "\n",
      "two      5\n",
      "three    6\n",
      "Name: colorado, dtype: int32\n",
      "one      4\n",
      "two      5\n",
      "three    6\n",
      "four     7\n",
      "Name: colorado, dtype: int32\n",
      "          one  two  three  four\n",
      "colorado    4    5      6     7\n",
      "utah        8    9     10    11\n",
      "ohio        0    1      2     3\n",
      "four    11\n",
      "one      8\n",
      "two      9\n",
      "Name: utah, dtype: int32\n",
      "          two  three\n",
      "colorado    5      6\n",
      "utah        9     10\n",
      "newyork    13     14\n",
      "          two  three\n",
      "colorado    5      6\n",
      "utah        9     10\n",
      "newyork    13     14\n"
     ]
    }
   ],
   "source": [
    "#in loc method we specify row labels and then column names not integers \n",
    "#in iloc method we use row integer indexes and then column integer indexes not names\n",
    "data_df = pd.DataFrame(np.arange(16).reshape((4,4)),\n",
    "                       index = ['ohio','colorado','utah','newyork'],\n",
    "                       columns = ['one','two','three','four'])\n",
    "#The loc() function is used to access a group of rows and columns by label(s) or a boolean array. . loc[] is primarily label based, but may also be used with a boolean array.\n",
    "print(data_df)\n",
    "print('\\n')\n",
    "print(data_df.loc['colorado' , ['two','three']])\n",
    "print(data_df.loc['colorado' ]) # u cant declare col first always declare row(index) first\n",
    "#if u want to access two or more rows then give it array notation\n",
    "print(data_df.loc[['colorado' , 'utah' , 'ohio']])\n",
    "#.iloc is same as loc but the major difference is we pass interger value in it \n",
    "#instead of name of labels and col\n",
    "print(data_df.iloc[2,[3,0,1]]) #using index num , slicing is done same as this \n",
    "#slcicing :\n",
    "print(data_df.iloc[1: , 1:3]) # aek kam layega \n",
    "#slcicing :\n",
    "print(data_df.iloc[1: , 1:3]) # aek kam layega "
   ]
  },
  {
   "cell_type": "markdown",
   "metadata": {},
   "source": [
    "# Data Loading , Storage, and File Formats :\n",
    "\n",
    " - in this we would learn how we can get the data from other sources \n",
    "\n",
    " - the good thing about that is that most of the sources have data in text format\n",
    "\n",
    " - (checking a data is in text format or not ) ?if a data can be opened bt notepad or other simple txt opener so it means that data is in in text format .\n",
    "\n",
    "\n",
    " - in csv format data comma wise alag hota hai .\n",
    " - tabluar ya table format me tab ke zrye data alag hota hai \n",
    " - html me tag se alag alag hota hai \n",
    "\n",
    " - read_csv : used for loading comma delimeted data from a file , url or file like object , ... use comma as default delimeter\n",
    " \n",
    " -  note : we can use many delimeters except comma in csv.\n",
    "\n",
    " - read_excel :  used to read tabluar data from an Excel xls or xlsx file \n",
    "\n",
    " - read_html : used to read all tables found in the given html document .\n"
   ]
  },
  {
   "cell_type": "markdown",
   "metadata": {},
   "source": [
    "# Common options in these functions :\n",
    "- indexing : for getting columns etc \n",
    "\n",
    " - Type interference and conversion : To check data types and conversion and custom list of missing value markers .\n",
    "\n",
    " - DateTime Parsing : support of iterating over chunks of very large file bare data ko chote chote chunks me divide krna \n",
    " \n",
    "  - Unclean Data Issues : Skipping rows or a footer , comments or other minor things like numeric data with thousands seperated by commas .(kuch data hatane ke lye ) "
   ]
  },
  {
   "cell_type": "markdown",
   "metadata": {},
   "source": [
    "# 3 . Loading Data From A CSV File :"
   ]
  },
  {
   "cell_type": "code",
   "execution_count": 132,
   "metadata": {},
   "outputs": [],
   "source": [
    "sample_df = pd.read_csv(\"E:/desktop_material/Ai/Pandas-/Sample.csv\")"
   ]
  },
  {
   "cell_type": "code",
   "execution_count": 133,
   "metadata": {},
   "outputs": [
    {
     "name": "stdout",
     "output_type": "stream",
     "text": [
      "  Student_id             Name  Chemistry Physics English Math\n",
      "0        A01         Airf Ali         10      45      54   54\n",
      "1        A02      Kamran Khan         20      31      54  foo\n",
      "2        A03        Imran Ali         30      45      54   45\n",
      "3        A04      Kashif khan         40      54      Na   65\n",
      "4        A05    Anees Hussain         46      Na       2   87\n",
      "5        A06  Ahtisham ud din         87      78      15   95\n"
     ]
    }
   ],
   "source": [
    "print(sample_df)"
   ]
  },
  {
   "cell_type": "code",
   "execution_count": 134,
   "metadata": {},
   "outputs": [
    {
     "name": "stdout",
     "output_type": "stream",
     "text": [
      "           id             name       chem      phy      eng  math\n",
      "0  Student_id             Name  Chemistry  Physics  English  Math\n",
      "1         A01         Airf Ali         10       45       54    54\n",
      "2         A02      Kamran Khan         20       31       54   foo\n",
      "3         A03        Imran Ali         30       45       54    45\n",
      "4         A04      Kashif khan         40       54       Na    65\n",
      "5         A05    Anees Hussain         46       Na        2    87\n",
      "6         A06  Ahtisham ud din         87       78       15    95\n"
     ]
    }
   ],
   "source": [
    "sample_df = pd.read_csv(\"E:/desktop_material/Ai/Pandas-/Sample.csv\" , names = [\"id\",\"name\",\"chem\",\"phy\",\"eng\",\"math\"])\n",
    "#changing the columns names (labels)\n",
    "print(sample_df) #problem : making the excel column names a data at 0 index to remove this problem \n",
    "#use skiprow = index_no"
   ]
  },
  {
   "cell_type": "code",
   "execution_count": 135,
   "metadata": {},
   "outputs": [
    {
     "name": "stdout",
     "output_type": "stream",
     "text": [
      "    id             name  chem phy eng math\n",
      "0  A01         Airf Ali    10  45  54   54\n",
      "1  A02      Kamran Khan    20  31  54  foo\n",
      "2  A03        Imran Ali    30  45  54   45\n",
      "3  A04      Kashif khan    40  54  Na   65\n",
      "4  A05    Anees Hussain    46  Na   2   87\n",
      "5  A06  Ahtisham ud din    87  78  15   95\n"
     ]
    }
   ],
   "source": [
    "sample_df = pd.read_csv(\"E:/desktop_material/Ai/Pandas-/Sample.csv\" ,skiprows = 1 , names = [\"id\",\"name\",\"chem\",\"phy\",\"eng\",\"math\"])\n",
    "print(sample_df)"
   ]
  },
  {
   "cell_type": "markdown",
   "metadata": {},
   "source": [
    "# Hierarchal index :\n"
   ]
  },
  {
   "cell_type": "code",
   "execution_count": 136,
   "metadata": {},
   "outputs": [
    {
     "name": "stdout",
     "output_type": "stream",
     "text": [
      "   Unnamed: 0  b   c   d   e message \n",
      "0           0  1   2   3   4    hello\n",
      "1           1  5   6   7   8    world\n",
      "2           2  9  10  11  12      foo\n"
     ]
    }
   ],
   "source": [
    "s2_df = pd.read_csv(\"E:/desktop_material/Ai/Pandas-/ex1.csv\")\n",
    "print(s2_df)"
   ]
  },
  {
   "cell_type": "code",
   "execution_count": 137,
   "metadata": {},
   "outputs": [],
   "source": [
    "#to make column values as an index values use index_col and it is hierarichal because u can have multiple columns as an index values \n",
    "s2_df = pd.read_csv(\"E:/desktop_material/Ai/Pandas-/ex1.csv\" , index_col = [\"b\",\"c\"])"
   ]
  },
  {
   "cell_type": "code",
   "execution_count": 138,
   "metadata": {},
   "outputs": [
    {
     "name": "stdout",
     "output_type": "stream",
     "text": [
      "      Unnamed: 0   d   e message \n",
      "b c                              \n",
      "1 2            0   3   4    hello\n",
      "5 6            1   7   8    world\n",
      "9 10           2  11  12      foo\n"
     ]
    }
   ],
   "source": [
    "print(s2_df) #b and c are index now "
   ]
  },
  {
   "cell_type": "markdown",
   "metadata": {},
   "source": [
    "# handling missing values :\n",
    "it is a very important thing to handle the missing values ...\n",
    " - isme ap un value ko bhi handle krty ho jo NaN to nhi hoti pr kisi kam ki nhi hoti yani fill to hogi pr NaN hi hogi aek tarah se for ex : NaN ki jagah not apllicable likh de koi waghera "
   ]
  },
  {
   "cell_type": "code",
   "execution_count": 139,
   "metadata": {},
   "outputs": [
    {
     "name": "stdout",
     "output_type": "stream",
     "text": [
      "    id             name  chem phy eng math\n",
      "0  A01         Airf Ali    10  45  54   54\n",
      "1  A02      Kamran Khan    20  31  54  foo\n",
      "2  A03        Imran Ali    30  45  54   45\n",
      "3  A04      Kashif khan    40  54  Na   65\n",
      "4  A05    Anees Hussain    46  Na   2   87\n",
      "5  A06  Ahtisham ud din    87  78  15   95\n"
     ]
    }
   ],
   "source": [
    "#to remove a not applicable values make a dic and passs the dic in na_values \n",
    "#this process is called sentinals \n",
    "sample_df = pd.read_csv(\"E:/desktop_material/Ai/Pandas-/Sample.csv\" ,skiprows = 1 , names = [\"id\",\"name\",\"chem\",\"phy\",\"eng\",\"math\"])\n",
    "print(sample_df)\n"
   ]
  },
  {
   "cell_type": "code",
   "execution_count": 140,
   "metadata": {},
   "outputs": [],
   "source": [
    "sentinals = {\"`Math\" : [\"foo\" , \"NA\"]}\n"
   ]
  },
  {
   "cell_type": "code",
   "execution_count": 141,
   "metadata": {},
   "outputs": [
    {
     "data": {
      "text/html": [
       "<div>\n",
       "<style scoped>\n",
       "    .dataframe tbody tr th:only-of-type {\n",
       "        vertical-align: middle;\n",
       "    }\n",
       "\n",
       "    .dataframe tbody tr th {\n",
       "        vertical-align: top;\n",
       "    }\n",
       "\n",
       "    .dataframe thead th {\n",
       "        text-align: right;\n",
       "    }\n",
       "</style>\n",
       "<table border=\"1\" class=\"dataframe\">\n",
       "  <thead>\n",
       "    <tr style=\"text-align: right;\">\n",
       "      <th></th>\n",
       "      <th>Student_id</th>\n",
       "      <th>Name</th>\n",
       "      <th>Chemistry</th>\n",
       "      <th>Physics</th>\n",
       "      <th>English</th>\n",
       "      <th>Math</th>\n",
       "    </tr>\n",
       "  </thead>\n",
       "  <tbody>\n",
       "    <tr>\n",
       "      <td>0</td>\n",
       "      <td>A01</td>\n",
       "      <td>Airf Ali</td>\n",
       "      <td>10</td>\n",
       "      <td>45</td>\n",
       "      <td>54</td>\n",
       "      <td>54</td>\n",
       "    </tr>\n",
       "    <tr>\n",
       "      <td>1</td>\n",
       "      <td>A02</td>\n",
       "      <td>Kamran Khan</td>\n",
       "      <td>20</td>\n",
       "      <td>31</td>\n",
       "      <td>54</td>\n",
       "      <td>foo</td>\n",
       "    </tr>\n",
       "    <tr>\n",
       "      <td>2</td>\n",
       "      <td>A03</td>\n",
       "      <td>Imran Ali</td>\n",
       "      <td>30</td>\n",
       "      <td>45</td>\n",
       "      <td>54</td>\n",
       "      <td>45</td>\n",
       "    </tr>\n",
       "    <tr>\n",
       "      <td>3</td>\n",
       "      <td>A04</td>\n",
       "      <td>Kashif khan</td>\n",
       "      <td>40</td>\n",
       "      <td>54</td>\n",
       "      <td>Na</td>\n",
       "      <td>65</td>\n",
       "    </tr>\n",
       "    <tr>\n",
       "      <td>4</td>\n",
       "      <td>A05</td>\n",
       "      <td>Anees Hussain</td>\n",
       "      <td>46</td>\n",
       "      <td>Na</td>\n",
       "      <td>2</td>\n",
       "      <td>87</td>\n",
       "    </tr>\n",
       "    <tr>\n",
       "      <td>5</td>\n",
       "      <td>A06</td>\n",
       "      <td>Ahtisham ud din</td>\n",
       "      <td>87</td>\n",
       "      <td>78</td>\n",
       "      <td>15</td>\n",
       "      <td>95</td>\n",
       "    </tr>\n",
       "  </tbody>\n",
       "</table>\n",
       "</div>"
      ],
      "text/plain": [
       "  Student_id             Name  Chemistry Physics English Math\n",
       "0        A01         Airf Ali         10      45      54   54\n",
       "1        A02      Kamran Khan         20      31      54  foo\n",
       "2        A03        Imran Ali         30      45      54   45\n",
       "3        A04      Kashif khan         40      54      Na   65\n",
       "4        A05    Anees Hussain         46      Na       2   87\n",
       "5        A06  Ahtisham ud din         87      78      15   95"
      ]
     },
     "execution_count": 141,
     "metadata": {},
     "output_type": "execute_result"
    }
   ],
   "source": [
    "pd.read_csv(\"E:/desktop_material/Ai/Pandas-/Sample.csv\" , na_values = sentinals)\n"
   ]
  },
  {
   "cell_type": "markdown",
   "metadata": {},
   "source": [
    "# reading text files in pieces : Table 6-2"
   ]
  },
  {
   "cell_type": "markdown",
   "metadata": {},
   "source": [
    "# Saving data into a csv file : to_csv "
   ]
  },
  {
   "cell_type": "code",
   "execution_count": 142,
   "metadata": {},
   "outputs": [
    {
     "name": "stdout",
     "output_type": "stream",
     "text": [
      "2000-01-01    0\n",
      "2000-01-02    1\n",
      "2000-01-03    2\n",
      "2000-01-04    3\n",
      "2000-01-05    4\n",
      "2000-01-06    5\n",
      "2000-01-07    6\n",
      "2000-01-08    7\n",
      "Freq: D, dtype: int32\n"
     ]
    },
    {
     "name": "stderr",
     "output_type": "stream",
     "text": [
      "C:\\Users\\Ahtis\\Anaconda3\\lib\\site-packages\\ipykernel_launcher.py:8: FutureWarning: The signature of `Series.to_csv` was aligned to that of `DataFrame.to_csv`, and argument 'header' will change its default value from False to True: please pass an explicit value to suppress this warning.\n",
      "  \n"
     ]
    }
   ],
   "source": [
    "#to_csv is used to save data of a file or output into csv format :\n",
    "import numpy as np\n",
    "\n",
    "dates = pd.date_range('1/1/2000' ,periods = 8) \n",
    "#date range func is used to create dates and periods define how much dates u need to make .\n",
    "ts = pd.Series(np.arange(8), index = dates)\n",
    "print(ts)\n",
    "ts.to_csv('tseries_2.csv')"
   ]
  },
  {
   "cell_type": "code",
   "execution_count": 143,
   "metadata": {},
   "outputs": [
    {
     "name": "stdout",
     "output_type": "stream",
     "text": [
      "2000-01-01    0\n",
      "2000-01-02    1\n",
      "2000-01-03    2\n",
      "2000-01-04    3\n",
      "2000-01-05    4\n",
      "2000-01-06    5\n",
      "2000-01-07    6\n",
      "2000-01-08    7\n",
      "Freq: D, dtype: int32\n"
     ]
    },
    {
     "name": "stderr",
     "output_type": "stream",
     "text": [
      "C:\\Users\\Ahtis\\Anaconda3\\lib\\site-packages\\ipykernel_launcher.py:3: FutureWarning: The signature of `Series.to_csv` was aligned to that of `DataFrame.to_csv`, and argument 'header' will change its default value from False to True: please pass an explicit value to suppress this warning.\n",
      "  This is separate from the ipykernel package so we can avoid doing imports until\n"
     ]
    }
   ],
   "source": [
    "#to save this this ts output \n",
    "print(ts)\n",
    "ts.to_csv('tseries.csv')"
   ]
  },
  {
   "cell_type": "markdown",
   "metadata": {},
   "source": [
    "# working with delimetted formats:"
   ]
  },
  {
   "cell_type": "code",
   "execution_count": 144,
   "metadata": {},
   "outputs": [
    {
     "name": "stdout",
     "output_type": "stream",
     "text": [
      "['ï»¿Student_id', 'Name', 'Chemistry', 'Physics', 'English', 'Math']\n",
      "['A01', 'Airf Ali', '10', '45', '54', '54']\n",
      "['A02', 'Kamran Khan', '20', '31', '54', 'foo']\n",
      "['A03', 'Imran Ali', '30', '45', '54', '45']\n",
      "['A04', 'Kashif khan', '40', '54', 'Na', '65']\n",
      "['A05', 'Anees Hussain', '46', 'Na', '2', '87']\n",
      "['A06', 'Ahtisham ud din', '87', '78', '15', '95']\n"
     ]
    }
   ],
   "source": [
    "import csv\n",
    "file = open('sample.csv')\n",
    "reader = csv.reader(file)\n",
    "for line in reader :\n",
    "    print(line)"
   ]
  },
  {
   "cell_type": "markdown",
   "metadata": {},
   "source": [
    "# json data :\n",
    " -  u can read json data in pandas by using pd.read_json('filename')\n",
    " - json means : java Script Object Notation \n",
    " - json data is in the form same like dictionary \n",
    "\n",
    "\n"
   ]
  },
  {
   "cell_type": "code",
   "execution_count": 145,
   "metadata": {},
   "outputs": [],
   "source": [
    "#pd.read_json is used to read json files and convert them in dataframe from json format"
   ]
  },
  {
   "cell_type": "markdown",
   "metadata": {},
   "source": [
    "# xml and html (web data loading) :\n"
   ]
  },
  {
   "cell_type": "code",
   "execution_count": 146,
   "metadata": {},
   "outputs": [
    {
     "name": "stdout",
     "output_type": "stream",
     "text": [
      "<class 'list'>\n",
      "1\n"
     ]
    }
   ],
   "source": [
    "#read_html read data of table tag from a html file or url \n",
    "tables = pd.read_html(\"https://www.fdic.gov/bank/individual/failed/banklist.html\")\n",
    "#but table varibale type is not dataframe its list so\n",
    "print(type(tables))\n",
    "print(len(tables))\n"
   ]
  },
  {
   "cell_type": "code",
   "execution_count": 147,
   "metadata": {},
   "outputs": [
    {
     "name": "stdout",
     "output_type": "stream",
     "text": [
      "<class 'pandas.core.frame.DataFrame'>\n",
      "(561, 6)\n",
      "Index(['Bank Name', 'City', 'ST', 'CERT', 'Acquiring Institution',\n",
      "       'Closing Date'],\n",
      "      dtype='object')\n",
      "561\n"
     ]
    }
   ],
   "source": [
    "#as u can see in output its a list \n",
    "#getting 1st element from the list of tables \n",
    "lst_bank = tables[0]\n",
    "print(type(lst_bank))\n",
    "print(lst_bank.shape) #shape\n",
    "print(lst_bank.columns) #col names\n",
    "print(len(lst_bank)) #for len\n"
   ]
  },
  {
   "cell_type": "code",
   "execution_count": 148,
   "metadata": {},
   "outputs": [
    {
     "data": {
      "text/plain": [
       "0                The First State Bank\n",
       "1                  Ericson State Bank\n",
       "2    City National Bank of New Jersey\n",
       "3                       Resolute Bank\n",
       "4               Louisa Community Bank\n",
       "Name: Bank Name, dtype: object"
      ]
     },
     "execution_count": 148,
     "metadata": {},
     "output_type": "execute_result"
    }
   ],
   "source": [
    "#getting information from col \n",
    "lst_bank[\"City\"].head()\n",
    "lst_bank[\"Bank Name\"].head()\n"
   ]
  },
  {
   "cell_type": "code",
   "execution_count": 149,
   "metadata": {},
   "outputs": [
    {
     "name": "stdout",
     "output_type": "stream",
     "text": [
      "<class 'pandas.core.series.Series'>\n",
      "556   2001-07-27\n",
      "557   2001-05-03\n",
      "558   2001-02-02\n",
      "559   2000-12-14\n",
      "560   2000-10-13\n",
      "Name: Closing Date, dtype: datetime64[ns]\n"
     ]
    }
   ],
   "source": [
    "closingdate = pd.to_datetime(lst_bank['Closing Date'])\n",
    "#to_datetime is used to convert string date and for getting dates from a web page \n",
    "print(type(closingdate))\n",
    "print(closingdate.tail())"
   ]
  },
  {
   "cell_type": "markdown",
   "metadata": {},
   "source": [
    "# Binary Data Format :\n",
    "- It is a data not in human understandable form , it contain value 0s and 1s .\n",
    "- the best advantage of binary data is it take less space in memory as compared to text data so it is saved and loaded fastly as compared to text data \n",
    "- problem : binary data is not portable mtlb ap use aek jagah se dosri jagah move  nhi kr skty wo thora technology specific ya language specific bhi ho skta hai \n",
    " - .to_pickle : used to store data in binary format \n",
    " - pd.read_pickle used to load the stored binary data "
   ]
  },
  {
   "cell_type": "code",
   "execution_count": 150,
   "metadata": {},
   "outputs": [
    {
     "data": {
      "text/html": [
       "<div>\n",
       "<style scoped>\n",
       "    .dataframe tbody tr th:only-of-type {\n",
       "        vertical-align: middle;\n",
       "    }\n",
       "\n",
       "    .dataframe tbody tr th {\n",
       "        vertical-align: top;\n",
       "    }\n",
       "\n",
       "    .dataframe thead th {\n",
       "        text-align: right;\n",
       "    }\n",
       "</style>\n",
       "<table border=\"1\" class=\"dataframe\">\n",
       "  <thead>\n",
       "    <tr style=\"text-align: right;\">\n",
       "      <th></th>\n",
       "      <th>Unnamed: 0</th>\n",
       "      <th>b</th>\n",
       "      <th>c</th>\n",
       "      <th>d</th>\n",
       "      <th>e</th>\n",
       "      <th>message</th>\n",
       "    </tr>\n",
       "  </thead>\n",
       "  <tbody>\n",
       "    <tr>\n",
       "      <td>0</td>\n",
       "      <td>0</td>\n",
       "      <td>1</td>\n",
       "      <td>2</td>\n",
       "      <td>3</td>\n",
       "      <td>4</td>\n",
       "      <td>hello</td>\n",
       "    </tr>\n",
       "    <tr>\n",
       "      <td>1</td>\n",
       "      <td>1</td>\n",
       "      <td>5</td>\n",
       "      <td>6</td>\n",
       "      <td>7</td>\n",
       "      <td>8</td>\n",
       "      <td>world</td>\n",
       "    </tr>\n",
       "    <tr>\n",
       "      <td>2</td>\n",
       "      <td>2</td>\n",
       "      <td>9</td>\n",
       "      <td>10</td>\n",
       "      <td>11</td>\n",
       "      <td>12</td>\n",
       "      <td>foo</td>\n",
       "    </tr>\n",
       "  </tbody>\n",
       "</table>\n",
       "</div>"
      ],
      "text/plain": [
       "   Unnamed: 0  b   c   d   e message \n",
       "0           0  1   2   3   4    hello\n",
       "1           1  5   6   7   8    world\n",
       "2           2  9  10  11  12      foo"
      ]
     },
     "execution_count": 150,
     "metadata": {},
     "output_type": "execute_result"
    }
   ],
   "source": [
    "bindata = pd.read_csv(\"ex1.csv\")\n",
    "bindata"
   ]
  },
  {
   "cell_type": "code",
   "execution_count": 151,
   "metadata": {},
   "outputs": [],
   "source": [
    "#storing in bin format \n",
    "bindata.to_pickle(\"binary data\")"
   ]
  },
  {
   "cell_type": "code",
   "execution_count": 152,
   "metadata": {},
   "outputs": [
    {
     "data": {
      "text/html": [
       "<div>\n",
       "<style scoped>\n",
       "    .dataframe tbody tr th:only-of-type {\n",
       "        vertical-align: middle;\n",
       "    }\n",
       "\n",
       "    .dataframe tbody tr th {\n",
       "        vertical-align: top;\n",
       "    }\n",
       "\n",
       "    .dataframe thead th {\n",
       "        text-align: right;\n",
       "    }\n",
       "</style>\n",
       "<table border=\"1\" class=\"dataframe\">\n",
       "  <thead>\n",
       "    <tr style=\"text-align: right;\">\n",
       "      <th></th>\n",
       "      <th>Unnamed: 0</th>\n",
       "      <th>b</th>\n",
       "      <th>c</th>\n",
       "      <th>d</th>\n",
       "      <th>e</th>\n",
       "      <th>message</th>\n",
       "    </tr>\n",
       "  </thead>\n",
       "  <tbody>\n",
       "    <tr>\n",
       "      <td>0</td>\n",
       "      <td>0</td>\n",
       "      <td>1</td>\n",
       "      <td>2</td>\n",
       "      <td>3</td>\n",
       "      <td>4</td>\n",
       "      <td>hello</td>\n",
       "    </tr>\n",
       "    <tr>\n",
       "      <td>1</td>\n",
       "      <td>1</td>\n",
       "      <td>5</td>\n",
       "      <td>6</td>\n",
       "      <td>7</td>\n",
       "      <td>8</td>\n",
       "      <td>world</td>\n",
       "    </tr>\n",
       "    <tr>\n",
       "      <td>2</td>\n",
       "      <td>2</td>\n",
       "      <td>9</td>\n",
       "      <td>10</td>\n",
       "      <td>11</td>\n",
       "      <td>12</td>\n",
       "      <td>foo</td>\n",
       "    </tr>\n",
       "  </tbody>\n",
       "</table>\n",
       "</div>"
      ],
      "text/plain": [
       "   Unnamed: 0  b   c   d   e message \n",
       "0           0  1   2   3   4    hello\n",
       "1           1  5   6   7   8    world\n",
       "2           2  9  10  11  12      foo"
      ]
     },
     "execution_count": 152,
     "metadata": {},
     "output_type": "execute_result"
    }
   ],
   "source": [
    "#reading binary data and converting it to human understandable form\n",
    "pd.read_pickle(\"binary data\")"
   ]
  },
  {
   "cell_type": "markdown",
   "metadata": {},
   "source": [
    "# Using HDF (hierarchical data format ) :\n",
    "- it is a database structure \n",
    "- the best thing of hierarchical format is while loading data from a file or data base u can filter it while loading it in your memory .\n",
    "- but in html  , csv and other formats u had to load the complete data first in your memory and the u can filter it .\n"
   ]
  },
  {
   "cell_type": "code",
   "execution_count": 153,
   "metadata": {},
   "outputs": [
    {
     "name": "stdout",
     "output_type": "stream",
     "text": [
      "<class 'pandas.io.pytables.HDFStore'>\n",
      "File path: hdf_data\n",
      "\n",
      "<class 'pandas.core.frame.DataFrame'>\n",
      "          a\n",
      "0 -0.702807\n",
      "1  1.860084\n",
      "2  0.837710\n",
      "3 -0.955058\n",
      "4  1.490111\n"
     ]
    }
   ],
   "source": [
    "#using HDF% format :\n",
    "frame = pd.DataFrame({\"a\" : np.random.randn(100)})\n",
    "#for making a hdf data base use : pd.HDFStore(\"file name\")\n",
    "store = pd.HDFStore(\"hdf_data\") \n",
    "\n",
    "#saving data in HDF database  : database_name ['data name that u want to keep'] = pass the real data\n",
    "store['obj'] = frame #u can store complete data frame\n",
    "\n",
    "store[\"obj_col\"] = frame['a'] # or u can store a single col of a data frame \n",
    "\n",
    "print(store) # will tell u the type od store\n",
    "\n",
    "print(type(store.obj)) #will tell u the type of the obj\n",
    "\n",
    "print(store.obj.head())\n"
   ]
  },
  {
   "cell_type": "code",
   "execution_count": 154,
   "metadata": {},
   "outputs": [
    {
     "name": "stdout",
     "output_type": "stream",
     "text": [
      "           a\n",
      "15 -0.093455\n",
      "16 -0.941141\n",
      "17 -0.539922\n",
      "18  0.424693\n",
      "19  0.416313\n",
      "20 -0.761845\n",
      "21  0.289995\n",
      "22 -0.106905\n",
      "23 -0.961632\n",
      "24  0.107993\n",
      "25 -0.099601\n"
     ]
    }
   ],
   "source": [
    "#2nd option :\n",
    "store.put('obj2' , frame , format = \"table\") #2ND method of making data base \n",
    "# benfit of : format = table : using format = table ka fiada ye hai ke ap data ko load krwaty hue filter bhi kr skty hai jo HDF ka sb se bara benefit hai.\n",
    "\n",
    "#filtering the data while reteriving  : using the condition \n",
    "\n",
    "ab = store.select(\"obj2\" , where = [\"index >= 15 and index <= 25\"])\n",
    "print(ab)\n",
    "\n",
    "store.close() # close the data is a good practice other wise your data base may get corrupted \n",
    "\n",
    "\n"
   ]
  },
  {
   "cell_type": "code",
   "execution_count": 155,
   "metadata": {},
   "outputs": [
    {
     "name": "stdout",
     "output_type": "stream",
     "text": [
      "          a\n",
      "0 -0.702807\n",
      "1  1.860084\n",
      "2  0.837710\n",
      "3 -0.955058\n",
      "4  1.490111\n"
     ]
    }
   ],
   "source": [
    "#3Rd option : we had two shorcut funtion for doing this work\n",
    "#data.to_hdf : for writing and making the data \n",
    "#pd.read_hdf : for reading the hdf data from database and filtering 7\n",
    "\n",
    "frame.to_hdf('mydata.h6', 'obj3' , format = 'table')\n",
    "\n",
    "frame2 = pd.read_hdf('mydata.h6','obj3' , where =[\"index<5\"])\n",
    "\n",
    "print(frame2)"
   ]
  },
  {
   "cell_type": "markdown",
   "metadata": {},
   "source": [
    "# Microsoft Excel Data :\n"
   ]
  },
  {
   "cell_type": "code",
   "execution_count": 156,
   "metadata": {},
   "outputs": [],
   "source": [
    "#READING :\n",
    "xlsx = pd.ExcelFile(\"PIAIC Batch 4 Q1 Zoom Timings.xlsx\") #loading the file \n",
    "frame = pd.read_excel (\"PIAIC Batch 4 Q1 Zoom Timings.xlsx\" ,\"CNC-Saturday\") #reading the data "
   ]
  },
  {
   "cell_type": "code",
   "execution_count": 157,
   "metadata": {},
   "outputs": [
    {
     "data": {
      "text/html": [
       "<div>\n",
       "<style scoped>\n",
       "    .dataframe tbody tr th:only-of-type {\n",
       "        vertical-align: middle;\n",
       "    }\n",
       "\n",
       "    .dataframe tbody tr th {\n",
       "        vertical-align: top;\n",
       "    }\n",
       "\n",
       "    .dataframe thead th {\n",
       "        text-align: right;\n",
       "    }\n",
       "</style>\n",
       "<table border=\"1\" class=\"dataframe\">\n",
       "  <thead>\n",
       "    <tr style=\"text-align: right;\">\n",
       "      <th></th>\n",
       "      <th>Roll No</th>\n",
       "      <th>Slot Name</th>\n",
       "      <th>Slot Day</th>\n",
       "      <th>Onsite Class Time</th>\n",
       "      <th>Full Name</th>\n",
       "      <th>Father Name</th>\n",
       "      <th>Zoom Class Timing</th>\n",
       "      <th>Zoom Class Day</th>\n",
       "      <th>Zoom Teacher</th>\n",
       "    </tr>\n",
       "  </thead>\n",
       "  <tbody>\n",
       "    <tr>\n",
       "      <td>0</td>\n",
       "      <td>PIAIC45675</td>\n",
       "      <td>Saylani Welfare</td>\n",
       "      <td>Saturday</td>\n",
       "      <td>12:30 PM to 03:30 PM</td>\n",
       "      <td>subhan ali</td>\n",
       "      <td>zulfqar ali</td>\n",
       "      <td>1:30 PM - 3:30 PM</td>\n",
       "      <td>Saturday</td>\n",
       "      <td>Aamir Pinger</td>\n",
       "    </tr>\n",
       "    <tr>\n",
       "      <td>1</td>\n",
       "      <td>PIAIC49795</td>\n",
       "      <td>Saylani Welfare</td>\n",
       "      <td>Saturday</td>\n",
       "      <td>12:30 PM to 03:30 PM</td>\n",
       "      <td>Aamir Shabir</td>\n",
       "      <td>Muhammad Shabbir</td>\n",
       "      <td>1:30 PM - 3:30 PM</td>\n",
       "      <td>Saturday</td>\n",
       "      <td>Aamir Pinger</td>\n",
       "    </tr>\n",
       "    <tr>\n",
       "      <td>2</td>\n",
       "      <td>PIAIC50204</td>\n",
       "      <td>Saylani Welfare</td>\n",
       "      <td>Saturday</td>\n",
       "      <td>12:30 PM to 03:30 PM</td>\n",
       "      <td>Usama Atta</td>\n",
       "      <td>Atta ur Rehman</td>\n",
       "      <td>1:30 PM - 3:30 PM</td>\n",
       "      <td>Saturday</td>\n",
       "      <td>Aamir Pinger</td>\n",
       "    </tr>\n",
       "    <tr>\n",
       "      <td>3</td>\n",
       "      <td>PIAIC50285</td>\n",
       "      <td>Saylani Welfare</td>\n",
       "      <td>Saturday</td>\n",
       "      <td>12:30 PM to 03:30 PM</td>\n",
       "      <td>Muhammad Kashan</td>\n",
       "      <td>Muhammad Shahid</td>\n",
       "      <td>1:30 PM - 3:30 PM</td>\n",
       "      <td>Saturday</td>\n",
       "      <td>Aamir Pinger</td>\n",
       "    </tr>\n",
       "    <tr>\n",
       "      <td>4</td>\n",
       "      <td>PIAIC50329</td>\n",
       "      <td>Saylani Welfare</td>\n",
       "      <td>Saturday</td>\n",
       "      <td>12:30 PM to 03:30 PM</td>\n",
       "      <td>Muhammad Bilal</td>\n",
       "      <td>Tanveer Hussain</td>\n",
       "      <td>1:30 PM - 3:30 PM</td>\n",
       "      <td>Saturday</td>\n",
       "      <td>Aamir Pinger</td>\n",
       "    </tr>\n",
       "  </tbody>\n",
       "</table>\n",
       "</div>"
      ],
      "text/plain": [
       "      Roll No        Slot Name  Slot Day     Onsite Class Time  \\\n",
       "0  PIAIC45675  Saylani Welfare  Saturday  12:30 PM to 03:30 PM   \n",
       "1  PIAIC49795  Saylani Welfare  Saturday  12:30 PM to 03:30 PM   \n",
       "2  PIAIC50204  Saylani Welfare  Saturday  12:30 PM to 03:30 PM   \n",
       "3  PIAIC50285  Saylani Welfare  Saturday  12:30 PM to 03:30 PM   \n",
       "4  PIAIC50329  Saylani Welfare  Saturday  12:30 PM to 03:30 PM   \n",
       "\n",
       "         Full Name       Father Name  Zoom Class Timing Zoom Class Day  \\\n",
       "0       subhan ali       zulfqar ali  1:30 PM - 3:30 PM       Saturday   \n",
       "1     Aamir Shabir  Muhammad Shabbir  1:30 PM - 3:30 PM       Saturday   \n",
       "2       Usama Atta    Atta ur Rehman  1:30 PM - 3:30 PM       Saturday   \n",
       "3  Muhammad Kashan   Muhammad Shahid  1:30 PM - 3:30 PM       Saturday   \n",
       "4   Muhammad Bilal   Tanveer Hussain  1:30 PM - 3:30 PM       Saturday   \n",
       "\n",
       "   Zoom Teacher  \n",
       "0  Aamir Pinger  \n",
       "1  Aamir Pinger  \n",
       "2  Aamir Pinger  \n",
       "3  Aamir Pinger  \n",
       "4  Aamir Pinger  "
      ]
     },
     "execution_count": 157,
     "metadata": {},
     "output_type": "execute_result"
    }
   ],
   "source": [
    "frame.head()"
   ]
  },
  {
   "cell_type": "code",
   "execution_count": 158,
   "metadata": {},
   "outputs": [],
   "source": [
    "#writing in excel file :\n",
    "writer = pd.ExcelWriter(\"copyingexcel.xlsx\") #the file in which u want to write \n",
    "\n",
    "frame.to_excel(writer,\"CNC-Saturday\") #writing in writer from frame file \n",
    "writer.save() #saving the file \n"
   ]
  },
  {
   "cell_type": "code",
   "execution_count": 159,
   "metadata": {},
   "outputs": [],
   "source": [
    "#alternating option for saving a single sheet excel file \n",
    "# filename_from_which data u want to save .to_excel(\"file_name_in_which u want the data to be saved \")\n",
    "frame.to_excel(\"copyingexcel.xlsx\")"
   ]
  },
  {
   "cell_type": "markdown",
   "metadata": {},
   "source": [
    "#  LESSON NO : 04 \n",
    "# Data Cleaning And Preparation ..."
   ]
  },
  {
   "cell_type": "markdown",
   "metadata": {},
   "source": [
    "# Handling Missing Data :\n",
    " - for numeric data pandas uses the floarting point value NaN(not a number ) to represent missing data \n",
    " -  Sometime the data u get from a source has not NaN values in missing spaces and it can be a string or something else like \"not found\" , \"not available\" etc"
   ]
  },
  {
   "cell_type": "code",
   "execution_count": 160,
   "metadata": {},
   "outputs": [],
   "source": [
    "from numpy import nan as notfound #declaring ke jaha pr notfound likha ho data me use as a null value mark krdo \n"
   ]
  },
  {
   "cell_type": "code",
   "execution_count": 163,
   "metadata": {},
   "outputs": [
    {
     "name": "stdout",
     "output_type": "stream",
     "text": [
      "     a    b    c\n",
      "0  1.0  6.5  3.0\n",
      "1  1.0  NaN  NaN\n",
      "2  NaN  NaN  NaN\n",
      "3  NaN  6.5  3.0\n"
     ]
    },
    {
     "data": {
      "text/html": [
       "<div>\n",
       "<style scoped>\n",
       "    .dataframe tbody tr th:only-of-type {\n",
       "        vertical-align: middle;\n",
       "    }\n",
       "\n",
       "    .dataframe tbody tr th {\n",
       "        vertical-align: top;\n",
       "    }\n",
       "\n",
       "    .dataframe thead th {\n",
       "        text-align: right;\n",
       "    }\n",
       "</style>\n",
       "<table border=\"1\" class=\"dataframe\">\n",
       "  <thead>\n",
       "    <tr style=\"text-align: right;\">\n",
       "      <th></th>\n",
       "      <th>a</th>\n",
       "      <th>b</th>\n",
       "      <th>c</th>\n",
       "    </tr>\n",
       "  </thead>\n",
       "  <tbody>\n",
       "    <tr>\n",
       "      <td>0</td>\n",
       "      <td>1.0</td>\n",
       "      <td>6.5</td>\n",
       "      <td>3.0</td>\n",
       "    </tr>\n",
       "    <tr>\n",
       "      <td>1</td>\n",
       "      <td>1.0</td>\n",
       "      <td>NaN</td>\n",
       "      <td>NaN</td>\n",
       "    </tr>\n",
       "    <tr>\n",
       "      <td>2</td>\n",
       "      <td>NaN</td>\n",
       "      <td>NaN</td>\n",
       "      <td>NaN</td>\n",
       "    </tr>\n",
       "    <tr>\n",
       "      <td>3</td>\n",
       "      <td>NaN</td>\n",
       "      <td>6.5</td>\n",
       "      <td>3.0</td>\n",
       "    </tr>\n",
       "  </tbody>\n",
       "</table>\n",
       "</div>"
      ],
      "text/plain": [
       "     a    b    c\n",
       "0  1.0  6.5  3.0\n",
       "1  1.0  NaN  NaN\n",
       "2  NaN  NaN  NaN\n",
       "3  NaN  6.5  3.0"
      ]
     },
     "metadata": {},
     "output_type": "display_data"
    }
   ],
   "source": [
    "\n",
    "data = pd.DataFrame([[1,6.5,3.0],\n",
    "                    [1.0,notfound,notfound],\n",
    "                    [notfound,notfound,notfound],\n",
    "                    [notfound,6.5,3.0]],\n",
    "                    columns = list(\"abc\"))\n",
    "print(data)\n",
    "display(data) #the benefit of using display instead of print is u get the data in a descent manner .\n",
    "\n"
   ]
  },
  {
   "cell_type": "code",
   "execution_count": 165,
   "metadata": {},
   "outputs": [
    {
     "data": {
      "text/html": [
       "<div>\n",
       "<style scoped>\n",
       "    .dataframe tbody tr th:only-of-type {\n",
       "        vertical-align: middle;\n",
       "    }\n",
       "\n",
       "    .dataframe tbody tr th {\n",
       "        vertical-align: top;\n",
       "    }\n",
       "\n",
       "    .dataframe thead th {\n",
       "        text-align: right;\n",
       "    }\n",
       "</style>\n",
       "<table border=\"1\" class=\"dataframe\">\n",
       "  <thead>\n",
       "    <tr style=\"text-align: right;\">\n",
       "      <th></th>\n",
       "      <th>a</th>\n",
       "      <th>b</th>\n",
       "      <th>c</th>\n",
       "    </tr>\n",
       "  </thead>\n",
       "  <tbody>\n",
       "    <tr>\n",
       "      <td>0</td>\n",
       "      <td>1.0</td>\n",
       "      <td>6.5</td>\n",
       "      <td>3.0</td>\n",
       "    </tr>\n",
       "  </tbody>\n",
       "</table>\n",
       "</div>"
      ],
      "text/plain": [
       "     a    b    c\n",
       "0  1.0  6.5  3.0"
      ]
     },
     "execution_count": 165,
     "metadata": {},
     "output_type": "execute_result"
    }
   ],
   "source": [
    "#removing NaN values using dropna\n",
    "cleaned = data.dropna() #dropna function drop all the rows having a single nan value \n",
    "\n",
    "cleaned"
   ]
  },
  {
   "cell_type": "code",
   "execution_count": null,
   "metadata": {},
   "outputs": [],
   "source": [
    "#while usiing how = \"all\" in dropna() then it will delete rows having all nan values\n",
    "#but wo un rows ko delete ni krega jin me aek bhi not null value hon"
   ]
  }
 ],
 "metadata": {
  "kernelspec": {
   "display_name": "Python 3",
   "language": "python",
   "name": "python3"
  },
  "language_info": {
   "codemirror_mode": {
    "name": "ipython",
    "version": 3
   },
   "file_extension": ".py",
   "mimetype": "text/x-python",
   "name": "python",
   "nbconvert_exporter": "python",
   "pygments_lexer": "ipython3",
   "version": "3.7.4"
  }
 },
 "nbformat": 4,
 "nbformat_minor": 2
}
